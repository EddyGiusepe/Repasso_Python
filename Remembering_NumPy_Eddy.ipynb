{
  "nbformat": 4,
  "nbformat_minor": 0,
  "metadata": {
    "colab": {
      "name": "Remembering_NumPy_Eddy.ipynb",
      "provenance": [],
      "collapsed_sections": [],
      "authorship_tag": "ABX9TyPbwcs59FVVKN1fR5F8o4NC",
      "include_colab_link": true
    },
    "kernelspec": {
      "name": "python3",
      "display_name": "Python 3"
    },
    "language_info": {
      "name": "python"
    }
  },
  "cells": [
    {
      "cell_type": "markdown",
      "metadata": {
        "id": "view-in-github",
        "colab_type": "text"
      },
      "source": [
        "<a href=\"https://colab.research.google.com/github/EddyGiusepe/Repasso_Python/blob/main/Remembering_NumPy_Eddy.ipynb\" target=\"_parent\"><img src=\"https://colab.research.google.com/assets/colab-badge.svg\" alt=\"Open In Colab\"/></a>"
      ]
    },
    {
      "cell_type": "markdown",
      "source": [
        "# <h2 align=\"center\">Remembering the use of Numpy</h2>\n",
        "\n",
        "Data Scientist.: Dr.Eddy Giusepe Chirinos Isidro\n",
        "\n",
        "\n",
        "\n",
        "Link de estudo:\n",
        "\n",
        "* [Arrays (arreglos) de NumPy para processar Dados](https://www.youtube.com/watch?v=LVq_8mworXM&list=PLat2DtY8K7YUG6xFMkS185GCPIxcKRXyN&index=1)\n",
        "\n",
        "\n",
        "* [Código Máquina](https://github.com/CodigoMaquina/code)"
      ],
      "metadata": {
        "id": "fD2vDXOWMw99"
      }
    },
    {
      "cell_type": "code",
      "source": [
        "# Importamos a nossa biblioteca\n",
        "\n",
        "import numpy as np"
      ],
      "metadata": {
        "id": "fZjAu3CiNLR4"
      },
      "execution_count": null,
      "outputs": []
    },
    {
      "cell_type": "code",
      "execution_count": null,
      "metadata": {
        "colab": {
          "base_uri": "https://localhost:8080/"
        },
        "id": "W4miTZWmMj8e",
        "outputId": "6d6d6210-62ed-4705-d706-ed8d09722a17"
      },
      "outputs": [
        {
          "output_type": "execute_result",
          "data": {
            "text/plain": [
              "array([1, 2, 3, 4, 5, 6])"
            ]
          },
          "metadata": {},
          "execution_count": 2
        }
      ],
      "source": [
        "# criamos um \"arreglo\" (uma lista) e a convertemos a NumPy\n",
        "\n",
        "arreglo = np.array([1, 2, 3, 4, 5, 6])\n",
        "\n",
        "# ou podemos criar esse arreglo assim, também:\n",
        "\n",
        "arreglo = np.arange(1, 7)\n",
        "\n",
        "arreglo"
      ]
    },
    {
      "cell_type": "code",
      "source": [
        "type(arreglo)"
      ],
      "metadata": {
        "colab": {
          "base_uri": "https://localhost:8080/"
        },
        "id": "2eGzxW2FNnJD",
        "outputId": "50a29c5c-8030-4349-a074-27b52cf872bc"
      },
      "execution_count": null,
      "outputs": [
        {
          "output_type": "execute_result",
          "data": {
            "text/plain": [
              "numpy.ndarray"
            ]
          },
          "metadata": {},
          "execution_count": 3
        }
      ]
    },
    {
      "cell_type": "code",
      "source": [
        "arreglo[0]"
      ],
      "metadata": {
        "colab": {
          "base_uri": "https://localhost:8080/"
        },
        "id": "BVXkLaWgN2-3",
        "outputId": "7eb5a8e5-0721-4948-8cdc-7e487e113a11"
      },
      "execution_count": null,
      "outputs": [
        {
          "output_type": "execute_result",
          "data": {
            "text/plain": [
              "1"
            ]
          },
          "metadata": {},
          "execution_count": 4
        }
      ]
    },
    {
      "cell_type": "code",
      "source": [
        "# sub-lista\n",
        "arreglo[1:4]"
      ],
      "metadata": {
        "colab": {
          "base_uri": "https://localhost:8080/"
        },
        "id": "Cqe5m1OFOpHL",
        "outputId": "579dfff6-c773-42fd-fbba-65884fa56097"
      },
      "execution_count": null,
      "outputs": [
        {
          "output_type": "execute_result",
          "data": {
            "text/plain": [
              "array([2, 3, 4])"
            ]
          },
          "metadata": {},
          "execution_count": 5
        }
      ]
    },
    {
      "cell_type": "code",
      "source": [
        "#Modificando um elemento do arreglo\n",
        "\n",
        "arreglo[0] = 45 "
      ],
      "metadata": {
        "id": "VydwWNGCOrCY"
      },
      "execution_count": null,
      "outputs": []
    },
    {
      "cell_type": "code",
      "source": [
        "# Ai veremos o Dado modificado \n",
        "\n",
        "arreglo"
      ],
      "metadata": {
        "colab": {
          "base_uri": "https://localhost:8080/"
        },
        "id": "DbdzWed4O3lh",
        "outputId": "24a7aeba-2929-4fe7-f567-27a45daa1750"
      },
      "execution_count": null,
      "outputs": [
        {
          "output_type": "execute_result",
          "data": {
            "text/plain": [
              "array([45,  2,  3,  4,  5,  6])"
            ]
          },
          "metadata": {},
          "execution_count": 7
        }
      ]
    },
    {
      "cell_type": "code",
      "source": [
        "# tamanho do arreglo\n",
        "\n",
        "arreglo.size"
      ],
      "metadata": {
        "colab": {
          "base_uri": "https://localhost:8080/"
        },
        "id": "D46BQu7zO4Yx",
        "outputId": "b23fa072-d4e8-4e9d-dda6-c2cdba6b5dee"
      },
      "execution_count": null,
      "outputs": [
        {
          "output_type": "execute_result",
          "data": {
            "text/plain": [
              "6"
            ]
          },
          "metadata": {},
          "execution_count": 8
        }
      ]
    },
    {
      "cell_type": "code",
      "source": [
        "# Assim, também:\n",
        "\n",
        "len(arreglo)\n"
      ],
      "metadata": {
        "colab": {
          "base_uri": "https://localhost:8080/"
        },
        "id": "9q_DBDP-PGmG",
        "outputId": "f3a0102c-4863-41d1-bc64-e54130ef6676"
      },
      "execution_count": null,
      "outputs": [
        {
          "output_type": "execute_result",
          "data": {
            "text/plain": [
              "6"
            ]
          },
          "metadata": {},
          "execution_count": 9
        }
      ]
    },
    {
      "cell_type": "code",
      "source": [
        "# Ordem crescente\n",
        "\n",
        "arreglo.sort()\n",
        "arreglo"
      ],
      "metadata": {
        "colab": {
          "base_uri": "https://localhost:8080/"
        },
        "id": "VAzikdN-PMWo",
        "outputId": "7c7c2cfe-79b0-45d4-cce8-a9397f7785fc"
      },
      "execution_count": null,
      "outputs": [
        {
          "output_type": "execute_result",
          "data": {
            "text/plain": [
              "array([ 2,  3,  4,  5,  6, 45])"
            ]
          },
          "metadata": {},
          "execution_count": 10
        }
      ]
    },
    {
      "cell_type": "code",
      "source": [
        "# Ordem invertido para este momento. Se quiser modificar de vez, você teria que criar um novo arreglo\n",
        "\n",
        "arreglo[::-1]"
      ],
      "metadata": {
        "colab": {
          "base_uri": "https://localhost:8080/"
        },
        "id": "iiusbPugPT5v",
        "outputId": "1b414f10-79c7-466f-99b5-afea35c02a29"
      },
      "execution_count": null,
      "outputs": [
        {
          "output_type": "execute_result",
          "data": {
            "text/plain": [
              "array([45,  6,  5,  4,  3,  2])"
            ]
          },
          "metadata": {},
          "execution_count": 11
        }
      ]
    },
    {
      "cell_type": "code",
      "source": [
        "# Tipo de Dados que tem meu array (arreglo)\n",
        "\n",
        "arreglo.dtype"
      ],
      "metadata": {
        "colab": {
          "base_uri": "https://localhost:8080/"
        },
        "id": "1vwcf3QwPaW8",
        "outputId": "5bfb4cbf-c99c-4671-d861-78a8a3b25d9c"
      },
      "execution_count": null,
      "outputs": [
        {
          "output_type": "execute_result",
          "data": {
            "text/plain": [
              "dtype('int64')"
            ]
          },
          "metadata": {},
          "execution_count": 12
        }
      ]
    },
    {
      "cell_type": "code",
      "source": [
        "# Vamos a criar novamente nosso arreglo, só que vamos a indicar o tipo de Dado\n",
        "\n",
        "arreglo = np.array([1, 2, 3, 4, 5, 6], dtype = 'i') # i --> significa INTEIRO\n",
        "arreglo"
      ],
      "metadata": {
        "colab": {
          "base_uri": "https://localhost:8080/"
        },
        "id": "yKSCmGT3PyJX",
        "outputId": "cc505d90-c965-4a02-de04-12ab8eb13a96"
      },
      "execution_count": null,
      "outputs": [
        {
          "output_type": "execute_result",
          "data": {
            "text/plain": [
              "array([1, 2, 3, 4, 5, 6], dtype=int32)"
            ]
          },
          "metadata": {},
          "execution_count": 13
        }
      ]
    },
    {
      "cell_type": "code",
      "source": [
        "print(arreglo, arreglo.dtype, arreglo.itemsize) # itemsize --> Quantidade de byte que ocupa os elementos"
      ],
      "metadata": {
        "colab": {
          "base_uri": "https://localhost:8080/"
        },
        "id": "_xfFbA-DQeru",
        "outputId": "e3f292b9-9f27-4e78-88c8-8cf4cd27ac03"
      },
      "execution_count": null,
      "outputs": [
        {
          "output_type": "stream",
          "name": "stdout",
          "text": [
            "[1 2 3 4 5 6] int32 4\n"
          ]
        }
      ]
    },
    {
      "cell_type": "code",
      "source": [
        "# 4byte por inteiro\n",
        "\n",
        "arreglo = np.array([1, 2, 3, 4, 5, 6], dtype = 'i')\n",
        "print(arreglo, arreglo.dtype, arreglo.itemsize) "
      ],
      "metadata": {
        "colab": {
          "base_uri": "https://localhost:8080/"
        },
        "id": "9pA5IF6AQ7MP",
        "outputId": "061a03a8-ec05-4e4d-cf25-947ba80ceea9"
      },
      "execution_count": null,
      "outputs": [
        {
          "output_type": "stream",
          "name": "stdout",
          "text": [
            "[1 2 3 4 5 6] int32 4\n"
          ]
        }
      ]
    },
    {
      "cell_type": "code",
      "source": [
        "# 2byte por inteiro\n",
        "\n",
        "arreglo = np.array([1, 2, 3, 4, 5, 6], dtype = 'i2')\n",
        "print(arreglo, arreglo.dtype, arreglo.itemsize) "
      ],
      "metadata": {
        "colab": {
          "base_uri": "https://localhost:8080/"
        },
        "id": "pl6rlyiARfic",
        "outputId": "2f0c2a6e-299b-46bc-d256-cf3049a19207"
      },
      "execution_count": null,
      "outputs": [
        {
          "output_type": "stream",
          "name": "stdout",
          "text": [
            "[1 2 3 4 5 6] int16 2\n"
          ]
        }
      ]
    },
    {
      "cell_type": "code",
      "source": [
        "# 4byte por inteiro\n",
        "\n",
        "arreglo = np.array([1, 2, 3, 4, 5, 6], dtype = 'i4')\n",
        "print(arreglo, arreglo.dtype, arreglo.itemsize) "
      ],
      "metadata": {
        "colab": {
          "base_uri": "https://localhost:8080/"
        },
        "id": "C3T7YoGaRe1S",
        "outputId": "3e8824bc-548a-43c1-ef5e-6e9791d0b6d4"
      },
      "execution_count": null,
      "outputs": [
        {
          "output_type": "stream",
          "name": "stdout",
          "text": [
            "[1 2 3 4 5 6] int32 4\n"
          ]
        }
      ]
    },
    {
      "cell_type": "code",
      "source": [
        "# 8byte por inteiro\n",
        "\n",
        "arreglo = np.array([1, 2, 3, 4, 5, 6], dtype = 'i8')\n",
        "print(arreglo, arreglo.dtype, arreglo.itemsize) "
      ],
      "metadata": {
        "colab": {
          "base_uri": "https://localhost:8080/"
        },
        "id": "c_eTYvFyRp-z",
        "outputId": "17f4c62c-28ce-4900-8c91-9018ca09bd2f"
      },
      "execution_count": null,
      "outputs": [
        {
          "output_type": "stream",
          "name": "stdout",
          "text": [
            "[1 2 3 4 5 6] int64 8\n"
          ]
        }
      ]
    },
    {
      "cell_type": "code",
      "source": [
        "# Há que ter cuidado com o SEGUINTE\n",
        "# Vamos modificar apenas um valor e ver o comportamento \n",
        "\n",
        "\n",
        "# 2byte por inteiro\n",
        "arreglo = np.array([1000000000, 2, 3, 4, 5, 6], dtype = 'i2')\n",
        "print(arreglo, arreglo.dtype, arreglo.itemsize) \n",
        "\n",
        "# OBSERVAMOS que NumPy colocou apenas um valor o qual não é verdadeiro. CUIDADO!!!"
      ],
      "metadata": {
        "colab": {
          "base_uri": "https://localhost:8080/"
        },
        "id": "cnjrEJkyRsGz",
        "outputId": "910833ef-dd77-4c77-ca40-cb1fca6097c0"
      },
      "execution_count": null,
      "outputs": [
        {
          "output_type": "stream",
          "name": "stdout",
          "text": [
            "[-13824      2      3      4      5      6] int16 2\n"
          ]
        }
      ]
    },
    {
      "cell_type": "code",
      "source": [
        "# 4byte por inteiro\n",
        "\n",
        "arreglo = np.array([1000000000, 2, 3, 4, 5, 6], dtype = 'i4')\n",
        "print(arreglo, arreglo.dtype, arreglo.itemsize) \n",
        "\n",
        "# Aqui o valor não se modificou"
      ],
      "metadata": {
        "colab": {
          "base_uri": "https://localhost:8080/"
        },
        "id": "Jlq9mzVISZsi",
        "outputId": "4f61edd5-67e7-4dfb-e736-6bd184897d30"
      },
      "execution_count": null,
      "outputs": [
        {
          "output_type": "stream",
          "name": "stdout",
          "text": [
            "[1000000000          2          3          4          5          6] int32 4\n"
          ]
        }
      ]
    },
    {
      "cell_type": "code",
      "source": [
        "# Usando shape\n",
        "\n",
        "arreglo = np.array([1, 2, 3, 4, 5, 6])"
      ],
      "metadata": {
        "id": "CbXUFHxeStAf"
      },
      "execution_count": null,
      "outputs": []
    },
    {
      "cell_type": "code",
      "source": [
        "arreglo.shape\n",
        "\n",
        "# Aqui temos 6 elemento e apenas UMA DIMENSÃO"
      ],
      "metadata": {
        "colab": {
          "base_uri": "https://localhost:8080/"
        },
        "id": "_1a4_kFBTAR9",
        "outputId": "bc773eb9-01c0-479a-993c-16c537aeec0f"
      },
      "execution_count": null,
      "outputs": [
        {
          "output_type": "execute_result",
          "data": {
            "text/plain": [
              "(6,)"
            ]
          },
          "metadata": {},
          "execution_count": 22
        }
      ]
    },
    {
      "cell_type": "code",
      "source": [
        "# Modificando o shape com reshape\n",
        "\n",
        "arreglo.reshape((2, 3))"
      ],
      "metadata": {
        "colab": {
          "base_uri": "https://localhost:8080/"
        },
        "id": "7ZO_9jJBTB4M",
        "outputId": "1fed49b2-16f4-42fe-88a3-df889309b8b5"
      },
      "execution_count": null,
      "outputs": [
        {
          "output_type": "execute_result",
          "data": {
            "text/plain": [
              "array([[1, 2, 3],\n",
              "       [4, 5, 6]])"
            ]
          },
          "metadata": {},
          "execution_count": 23
        }
      ]
    },
    {
      "cell_type": "code",
      "source": [
        "arreglo.reshape((3, 2))"
      ],
      "metadata": {
        "colab": {
          "base_uri": "https://localhost:8080/"
        },
        "id": "uGJzhNJcTYWY",
        "outputId": "37a0b8c5-48f5-4d7b-ede7-44fa32c2acb3"
      },
      "execution_count": null,
      "outputs": [
        {
          "output_type": "execute_result",
          "data": {
            "text/plain": [
              "array([[1, 2],\n",
              "       [3, 4],\n",
              "       [5, 6]])"
            ]
          },
          "metadata": {},
          "execution_count": 24
        }
      ]
    },
    {
      "cell_type": "code",
      "source": [
        "arreglo"
      ],
      "metadata": {
        "colab": {
          "base_uri": "https://localhost:8080/"
        },
        "id": "qFcyai4UTi5r",
        "outputId": "e5cd7dd7-bd7f-4f4b-b656-81661dfbf4c2"
      },
      "execution_count": null,
      "outputs": [
        {
          "output_type": "execute_result",
          "data": {
            "text/plain": [
              "array([1, 2, 3, 4, 5, 6])"
            ]
          },
          "metadata": {},
          "execution_count": 25
        }
      ]
    },
    {
      "cell_type": "code",
      "source": [
        "np.append(arreglo, 7) # Adiciona ao final (mas não modificamos nosso arreglo)"
      ],
      "metadata": {
        "colab": {
          "base_uri": "https://localhost:8080/"
        },
        "id": "DmgJFWDjT5p6",
        "outputId": "8e7806f1-92e0-4796-f126-24e5ce4cc3fe"
      },
      "execution_count": null,
      "outputs": [
        {
          "output_type": "execute_result",
          "data": {
            "text/plain": [
              "array([1, 2, 3, 4, 5, 6, 7])"
            ]
          },
          "metadata": {},
          "execution_count": 26
        }
      ]
    },
    {
      "cell_type": "code",
      "source": [
        "# Modificando mesmo\n",
        "\n",
        "arreglo = np.append(arreglo, 9)"
      ],
      "metadata": {
        "id": "0k2ZgFEbT_90"
      },
      "execution_count": null,
      "outputs": []
    },
    {
      "cell_type": "code",
      "source": [
        "arreglo"
      ],
      "metadata": {
        "colab": {
          "base_uri": "https://localhost:8080/"
        },
        "id": "h2prrKLPUPje",
        "outputId": "45606e22-78ae-49b8-d726-35f796348ca1"
      },
      "execution_count": null,
      "outputs": [
        {
          "output_type": "execute_result",
          "data": {
            "text/plain": [
              "array([1, 2, 3, 4, 5, 6, 9])"
            ]
          },
          "metadata": {},
          "execution_count": 28
        }
      ]
    },
    {
      "cell_type": "code",
      "source": [
        "# insert(seu_array, posição, valor_adicionar)\n",
        "\n",
        "arreglo = np.insert(arreglo, 1, 9)"
      ],
      "metadata": {
        "id": "x9dXUJDHUQqb"
      },
      "execution_count": null,
      "outputs": []
    },
    {
      "cell_type": "code",
      "source": [
        "arreglo"
      ],
      "metadata": {
        "colab": {
          "base_uri": "https://localhost:8080/"
        },
        "id": "hOMhQ5uGUoYt",
        "outputId": "11e60b78-f31a-4103-f041-1ab0a7883460"
      },
      "execution_count": null,
      "outputs": [
        {
          "output_type": "execute_result",
          "data": {
            "text/plain": [
              "array([1, 9, 2, 3, 4, 5, 6, 9])"
            ]
          },
          "metadata": {},
          "execution_count": 30
        }
      ]
    },
    {
      "cell_type": "code",
      "source": [
        "# Eliminado elemento \n",
        "\n",
        "np.delete(arreglo, 2) # 2--> é a posição deo elemento a eliminar"
      ],
      "metadata": {
        "colab": {
          "base_uri": "https://localhost:8080/"
        },
        "id": "rT7zpI_2UpYs",
        "outputId": "e0a1cf0b-6796-4849-8dd8-8afe59369645"
      },
      "execution_count": null,
      "outputs": [
        {
          "output_type": "execute_result",
          "data": {
            "text/plain": [
              "array([1, 9, 3, 4, 5, 6, 9])"
            ]
          },
          "metadata": {},
          "execution_count": 31
        }
      ]
    },
    {
      "cell_type": "code",
      "source": [
        "arreglo"
      ],
      "metadata": {
        "colab": {
          "base_uri": "https://localhost:8080/"
        },
        "id": "pwSgRZVIwBAW",
        "outputId": "2ae0c742-9f90-4097-831b-17c72da96e9f"
      },
      "execution_count": null,
      "outputs": [
        {
          "output_type": "execute_result",
          "data": {
            "text/plain": [
              "array([1, 9, 2, 3, 4, 5, 6, 9])"
            ]
          },
          "metadata": {},
          "execution_count": 32
        }
      ]
    },
    {
      "cell_type": "code",
      "source": [
        "# O where não é um método é uma subrutina do NumPy (não confundir com Método)\n",
        "\n",
        "np.where(arreglo == 9) # Traz as posições onde há número 9"
      ],
      "metadata": {
        "colab": {
          "base_uri": "https://localhost:8080/"
        },
        "id": "Ioqei43BVBbx",
        "outputId": "28f18985-5854-42f6-9d3d-66a619f6b455"
      },
      "execution_count": null,
      "outputs": [
        {
          "output_type": "execute_result",
          "data": {
            "text/plain": [
              "(array([1, 7]),)"
            ]
          },
          "metadata": {},
          "execution_count": 35
        }
      ]
    },
    {
      "cell_type": "code",
      "source": [
        "# Temos:\n",
        "\n",
        "arreglo\n"
      ],
      "metadata": {
        "colab": {
          "base_uri": "https://localhost:8080/"
        },
        "id": "RaEIDHGGv0nW",
        "outputId": "4640fba2-96b6-4afa-e2da-46e64d9f7ffd"
      },
      "execution_count": null,
      "outputs": [
        {
          "output_type": "execute_result",
          "data": {
            "text/plain": [
              "array([1, 9, 2, 3, 4, 5, 6, 9])"
            ]
          },
          "metadata": {},
          "execution_count": 36
        }
      ]
    },
    {
      "cell_type": "code",
      "source": [
        "arreglo + 1 # Operação vectorial\n"
      ],
      "metadata": {
        "colab": {
          "base_uri": "https://localhost:8080/"
        },
        "id": "s3hNVHZ2w-SI",
        "outputId": "9d09f531-2bcf-4c86-9fcc-423b5dc16d83"
      },
      "execution_count": null,
      "outputs": [
        {
          "output_type": "execute_result",
          "data": {
            "text/plain": [
              "array([ 2, 10,  3,  4,  5,  6,  7, 10])"
            ]
          },
          "metadata": {},
          "execution_count": 37
        }
      ]
    },
    {
      "cell_type": "code",
      "source": [
        "# Multiplicação por 2\n",
        "\n",
        "arreglo*2"
      ],
      "metadata": {
        "colab": {
          "base_uri": "https://localhost:8080/"
        },
        "id": "PaCSCUZtxChx",
        "outputId": "269427fe-bd27-4294-d0b8-f6accc00a524"
      },
      "execution_count": null,
      "outputs": [
        {
          "output_type": "execute_result",
          "data": {
            "text/plain": [
              "array([ 2, 18,  4,  6,  8, 10, 12, 18])"
            ]
          },
          "metadata": {},
          "execution_count": 38
        }
      ]
    },
    {
      "cell_type": "code",
      "source": [
        "# Também:\n",
        "\n",
        "arreglo*arreglo"
      ],
      "metadata": {
        "colab": {
          "base_uri": "https://localhost:8080/"
        },
        "id": "Q9nz8GENxPth",
        "outputId": "1e4d7470-657d-4928-8643-0a39cd8a5ef4"
      },
      "execution_count": null,
      "outputs": [
        {
          "output_type": "execute_result",
          "data": {
            "text/plain": [
              "array([ 1, 81,  4,  9, 16, 25, 36, 81])"
            ]
          },
          "metadata": {},
          "execution_count": 39
        }
      ]
    },
    {
      "cell_type": "code",
      "source": [
        "# Observar que os Dados em NumPy tem que ser homogêneos (a diferença dos Dados em uma Lista)\n",
        "altura = np.array([1.74, 1.8, 1.78, 1.68, 1.78, 1.7, 1.74, 1.74, 1.73, 1.79, \n",
        "           1.78, 1.72, 1.65, 1.78, 1.7, 1.68, 1.79, 1.68, 1.82, 1.72,\n",
        "           1.75, 1.66, 1.67, 1.79, 1.75, 1.65, 1.78, 1.73, 1.71, 1.81,\n",
        "           1.73, 1.71, 1.68, 1.74, 1.75, 1.68, 1.74, 1.81, 1.73, 1.82,\n",
        "           1.8, 1.67, 1.73, 1.7, 1.73, 1.7, 1.81, 1.81, 1.76, 1.82, 1.68,\n",
        "           1.74, 1.65, 1.8, 1.78, 1.7, 1.68, 1.78, 1.79, 1.73, 1.64, 1.67,\n",
        "           1.69, 1.74, 1.76, 1.66, 1.66, 1.73, 1.79, 1.81, 1.78, 1.63,\n",
        "           1.76, 1.72, 1.71, 1.7, 1.62, 1.8, 1.75, 1.8, 1.78, 1.78, 1.76,\n",
        "           1.65, 1.65, 1.68, 1.74, 1.75, 1.69, 1.75, 1.7, 1.83, 1.64, 1.7,\n",
        "           1.69, 1.69, 1.64, 1.69, 1.77, 1.8, 1.78, 1.69, 1.7, 1.7, 1.7,\n",
        "           1.63, 1.73, 1.84, 1.66, 1.78, 1.8, 1.79, 1.78, 1.74, 1.77,\n",
        "           1.73, 1.77, 1.76, 1.75, 1.8, 1.75,  1.8, 1.79, 1.71, 1.73,\n",
        "           1.59, 1.76, 1.75, 1.71, 1.76, 1.8, 1.68, 1.74, 1.77, 1.73,\n",
        "           1.68, 1.63, 1.67])\n",
        "\n",
        "peso = np.array([81.4, 88.7, 87.3, 62.7, 81.6, 80.9, 74.6, 84.7, 76.7, 88.3,\n",
        "         84.6, 74, 57.7, 84.1, 79.7, 63.8, 88.4, 71.2, 87.1, 67, 80.7,\n",
        "         74.7, 60.5, 85.9, 72.4, 59.7, 87.3, 85.7, 64.1, 91.9, 82.8, 75.7,\n",
        "         60.2, 73.1, 74.7, 65.9, 80.9, 91.3, 76, 86.8, 80.7, 74.2, 83.1,\n",
        "         77.8, 84.5, 58.8, 89.5, 87, 84, 89.9, 56.5, 80.2, 61.8, 86.3,\n",
        "         82.6, 69.4, 65.8, 79.3, 88.1, 78.5, 69.1, 62.5, 74, 74.4, 87.6,\n",
        "         59.6, 61.4, 83.2, 89.2, 89.2, 103.7, 67.9, 85.4, 69.5, 75.7, \n",
        "         83.9, 59.5, 87.9, 82.6, 88.1, 86.2, 88.9, 84.4, 58.4, 61.5, 69.2,\n",
        "         84.2, 78, 81.1, 81.5, 74.7, 90.4, 59.2, 79.3, 65.1, 93, 60.5,\n",
        "         76.4, 98.8, 89.1, 88.9, 61.1, 76.6, 86, 75.5, 66.9, 79.4, 87.9,\n",
        "         72.3, 93.8, 89, 90.7, 86.7, 77.6, 85.1, 91.8, 103.2, 91.1, 67,\n",
        "         86.9, 78.7, 87.1, 85.5, 69.8, 75, 53.9, 99, 93.7, 88, 79.4, 87.6,\n",
        "         60.4, 82.7, 90.6, 79.8, 61.2, 62.5, 59.7])   "
      ],
      "metadata": {
        "id": "uWETVjR9xdPH"
      },
      "execution_count": null,
      "outputs": []
    },
    {
      "cell_type": "code",
      "source": [
        "# Índice de massa corporal\n",
        "\n",
        "imc = peso/(altura)**2\n",
        "\n",
        "# IMPORTANTA: Esta expressão vai realizar uma operação VECTORIAL\n"
      ],
      "metadata": {
        "id": "YSxWt2ItywIl"
      },
      "execution_count": null,
      "outputs": []
    },
    {
      "cell_type": "code",
      "source": [
        "imc"
      ],
      "metadata": {
        "colab": {
          "base_uri": "https://localhost:8080/"
        },
        "id": "356_Jo0rzOc-",
        "outputId": "b07fa610-de5b-48a9-bb76-0e67edd769c8"
      },
      "execution_count": null,
      "outputs": [
        {
          "output_type": "execute_result",
          "data": {
            "text/plain": [
              "array([26.8859823 , 27.37654321, 27.55333922, 22.21513605, 25.75432395,\n",
              "       27.99307958, 24.63997886, 27.97595455, 25.62731799, 27.55844075,\n",
              "       26.70117409, 25.01352082, 21.19375574, 26.54336574, 27.57785467,\n",
              "       22.60487528, 27.58965076, 25.22675737, 26.29513344, 22.64737696,\n",
              "       26.35102041, 27.10843373, 21.69314066, 26.80940046, 23.64081633,\n",
              "       21.92837466, 27.55333922, 28.63443483, 21.92127492, 28.05164678,\n",
              "       27.66547496, 25.88830751, 21.32936508, 24.14453693, 24.39183673,\n",
              "       23.3489229 , 26.72083498, 27.86850218, 25.39343112, 26.20456467,\n",
              "       24.90740741, 26.60547169, 27.76571219, 26.92041522, 28.23348592,\n",
              "       20.34602076, 27.3190684 , 26.55596594, 27.1177686 , 27.14044198,\n",
              "       20.01842404, 26.48962875, 22.69972452, 26.63580247, 26.06994066,\n",
              "       24.01384083, 23.31349206, 25.0284055 , 27.49602072, 26.22874135,\n",
              "       25.69155265, 22.41026928, 25.90945695, 24.57391994, 28.27995868,\n",
              "       21.62868341, 22.28189868, 27.79912459, 27.83933086, 27.22749611,\n",
              "       32.72945335, 25.55609921, 27.5697314 , 23.49242834, 25.88830751,\n",
              "       29.03114187, 22.6718488 , 27.12962963, 26.97142857, 27.19135802,\n",
              "       27.20616084, 28.05832597, 27.24690083, 21.45087236, 22.58953168,\n",
              "       24.51814059, 27.81080724, 25.46938776, 28.39536431, 26.6122449 ,\n",
              "       25.84775087, 26.99393831, 22.01070791, 27.43944637, 22.79331956,\n",
              "       32.56188509, 22.49405116, 26.74976366, 31.53627629, 27.5       ,\n",
              "       28.05832597, 21.39280838, 26.50519031, 29.75778547, 26.12456747,\n",
              "       25.17972073, 26.52945304, 25.9629017 , 26.23748004, 29.60484787,\n",
              "       27.4691358 , 28.30748104, 27.3639692 , 25.63086273, 27.1633311 ,\n",
              "       30.6725918 , 32.94072585, 29.4098657 , 21.87755102, 26.82098765,\n",
              "       25.69795918, 26.88271605, 26.68456041, 23.87059266, 25.05930703,\n",
              "       21.32035916, 31.96022727, 30.59591837, 30.09473   , 25.63274793,\n",
              "       27.03703704, 21.40022676, 27.31536531, 28.91889304, 26.66310268,\n",
              "       21.68367347, 23.52365539, 21.40628922])"
            ]
          },
          "metadata": {},
          "execution_count": 53
        }
      ]
    },
    {
      "cell_type": "code",
      "source": [
        "# Calculamos a média\n",
        "\n",
        "imc.mean()"
      ],
      "metadata": {
        "colab": {
          "base_uri": "https://localhost:8080/"
        },
        "id": "rvZ8Lkv01mda",
        "outputId": "c84f25e5-e61d-4525-dc16-89452cdb2cca"
      },
      "execution_count": null,
      "outputs": [
        {
          "output_type": "execute_result",
          "data": {
            "text/plain": [
              "26.003202440484596"
            ]
          },
          "metadata": {},
          "execution_count": 54
        }
      ]
    },
    {
      "cell_type": "code",
      "source": [
        "# Como huviesse sido feito como LISTA? \n",
        "\n",
        "imc = []\n",
        "\n",
        "for i in range(altura.size):\n",
        "  imc.append(peso[i] / (altura[i]*altura[i]))\n",
        "\n",
        "\n",
        "# Isto é uma forma iterativa\n",
        "# Mas com NumPy é melhor, já que feita através do uso de operações vectoriais "
      ],
      "metadata": {
        "id": "m7_83i4FzYvw"
      },
      "execution_count": null,
      "outputs": []
    },
    {
      "cell_type": "code",
      "source": [
        "# Observamos que o resultado é uma lista\n",
        "\n",
        "imc"
      ],
      "metadata": {
        "colab": {
          "base_uri": "https://localhost:8080/"
        },
        "id": "JvDzDYdh1DSj",
        "outputId": "a0b3cd0e-6660-4dc8-a907-8fbfae8cc8da"
      },
      "execution_count": null,
      "outputs": [
        {
          "output_type": "execute_result",
          "data": {
            "text/plain": [
              "[26.88598229620822,\n",
              " 27.37654320987654,\n",
              " 27.553339224845345,\n",
              " 22.215136054421773,\n",
              " 25.754323948996337,\n",
              " 27.993079584775092,\n",
              " 24.639978861144137,\n",
              " 27.975954551459903,\n",
              " 25.627317985899964,\n",
              " 27.55844074779189,\n",
              " 26.701174094180026,\n",
              " 25.013520822065985,\n",
              " 21.19375573921029,\n",
              " 26.54336573664941,\n",
              " 27.57785467128028,\n",
              " 22.604875283446713,\n",
              " 27.5896507599638,\n",
              " 25.226757369614518,\n",
              " 26.29513343799058,\n",
              " 22.647376960519203,\n",
              " 26.351020408163265,\n",
              " 27.108433734939762,\n",
              " 21.693140664778227,\n",
              " 26.80940045566618,\n",
              " 23.640816326530615,\n",
              " 21.928374655647385,\n",
              " 27.553339224845345,\n",
              " 28.634434829095525,\n",
              " 21.921274922198283,\n",
              " 28.051646775128965,\n",
              " 27.665474957399177,\n",
              " 25.888307513422937,\n",
              " 21.329365079365083,\n",
              " 24.144536926938827,\n",
              " 24.39183673469388,\n",
              " 23.348922902494337,\n",
              " 26.720834984806448,\n",
              " 27.868502182473062,\n",
              " 25.393431120318084,\n",
              " 26.204564666103124,\n",
              " 24.90740740740741,\n",
              " 26.605471691347844,\n",
              " 27.765712185505695,\n",
              " 26.920415224913498,\n",
              " 28.23348591666945,\n",
              " 20.346020761245676,\n",
              " 27.319068404505355,\n",
              " 26.555965935105768,\n",
              " 27.117768595041323,\n",
              " 27.140441975606812,\n",
              " 20.018424036281182,\n",
              " 26.48962874884397,\n",
              " 22.699724517906336,\n",
              " 26.6358024691358,\n",
              " 26.069940664057565,\n",
              " 24.01384083044983,\n",
              " 23.313492063492067,\n",
              " 25.028405504355508,\n",
              " 27.49602072344808,\n",
              " 26.228741354539075,\n",
              " 25.69155264723379,\n",
              " 22.410269281795692,\n",
              " 25.909456951787405,\n",
              " 24.573919936583433,\n",
              " 28.27995867768595,\n",
              " 21.628683408332126,\n",
              " 22.281898679053565,\n",
              " 27.799124594874538,\n",
              " 27.839330857339036,\n",
              " 27.227496108177405,\n",
              " 32.729453351849514,\n",
              " 25.556099213368967,\n",
              " 27.56973140495868,\n",
              " 23.49242833964305,\n",
              " 25.888307513422937,\n",
              " 29.031141868512115,\n",
              " 22.67184880353604,\n",
              " 27.12962962962963,\n",
              " 26.971428571428568,\n",
              " 27.191358024691354,\n",
              " 27.206160838277995,\n",
              " 28.058325968943315,\n",
              " 27.246900826446282,\n",
              " 21.45087235996327,\n",
              " 22.589531680440775,\n",
              " 24.518140589569164,\n",
              " 27.810807240058132,\n",
              " 25.46938775510204,\n",
              " 28.39536430797241,\n",
              " 26.612244897959183,\n",
              " 25.847750865051907,\n",
              " 26.993938308101164,\n",
              " 22.010707911957173,\n",
              " 27.439446366782008,\n",
              " 22.79331956164,\n",
              " 32.561885088057146,\n",
              " 22.494051160023798,\n",
              " 26.74976366373727,\n",
              " 31.53627629352995,\n",
              " 27.499999999999996,\n",
              " 28.058325968943315,\n",
              " 21.392808375056898,\n",
              " 26.505190311418687,\n",
              " 29.75778546712803,\n",
              " 26.124567474048447,\n",
              " 25.17972072716324,\n",
              " 26.529453038858634,\n",
              " 25.96290170132325,\n",
              " 26.237480040644506,\n",
              " 29.60484787274334,\n",
              " 27.469135802469133,\n",
              " 28.307481039917608,\n",
              " 27.36396919580861,\n",
              " 25.63086272955476,\n",
              " 27.16333109898177,\n",
              " 30.672591800594738,\n",
              " 32.940725845063675,\n",
              " 29.409865702479337,\n",
              " 21.877551020408163,\n",
              " 26.820987654320987,\n",
              " 25.697959183673472,\n",
              " 26.88271604938271,\n",
              " 26.68456040697856,\n",
              " 23.870592660989708,\n",
              " 25.05930702662969,\n",
              " 21.32035916300779,\n",
              " 31.960227272727273,\n",
              " 30.59591836734694,\n",
              " 30.094730002393902,\n",
              " 25.6327479338843,\n",
              " 27.037037037037035,\n",
              " 21.400226757369616,\n",
              " 27.315365305852822,\n",
              " 28.918893038398924,\n",
              " 26.66310267633399,\n",
              " 21.68367346938776,\n",
              " 23.52365538785803,\n",
              " 21.406289217971246]"
            ]
          },
          "metadata": {},
          "execution_count": 50
        }
      ]
    },
    {
      "cell_type": "code",
      "source": [
        ""
      ],
      "metadata": {
        "id": "MgeZ7KAs1Ebe"
      },
      "execution_count": null,
      "outputs": []
    }
  ]
}
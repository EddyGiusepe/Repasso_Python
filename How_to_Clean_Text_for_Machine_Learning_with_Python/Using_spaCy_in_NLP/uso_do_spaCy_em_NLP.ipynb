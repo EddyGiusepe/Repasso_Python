{
 "cells": [
  {
   "cell_type": "markdown",
   "metadata": {},
   "source": [
    "<h1 align=\"center\">Using spaCy in NLP</h1>"
   ]
  },
  {
   "cell_type": "markdown",
   "metadata": {},
   "source": [
    "Data Scientist.: Dr.Eddy Giusepe Chirinos Isidro"
   ]
  },
  {
   "cell_type": "markdown",
   "metadata": {},
   "source": [
    "Aqui vamos pegar Dados da wikipedia dos trapalhões e para isso usaremos uma biblioteca do Python chamada wikipedia. Este script foi baseado no tutorial do [Master in Physics: Igor Martynetz](https://medium.com/@igor.martynetz/uso-do-spacy-em-nlp-f8857980c1c2). \n"
   ]
  },
  {
   "cell_type": "code",
   "execution_count": 1,
   "metadata": {},
   "outputs": [],
   "source": [
    "import wikipedia"
   ]
  },
  {
   "cell_type": "code",
   "execution_count": 2,
   "metadata": {},
   "outputs": [],
   "source": [
    "wikipedia.set_lang(\"pt\")\n",
    "obj = wikipedia.page('Os_Trapalhões')"
   ]
  },
  {
   "cell_type": "code",
   "execution_count": 3,
   "metadata": {},
   "outputs": [
    {
     "data": {
      "text/plain": [
       "'https://pt.wikipedia.org/wiki/Os_Trapalh%C3%B5es'"
      ]
     },
     "execution_count": 3,
     "metadata": {},
     "output_type": "execute_result"
    }
   ],
   "source": [
    "obj.url"
   ]
  },
  {
   "cell_type": "code",
   "execution_count": 4,
   "metadata": {},
   "outputs": [
    {
     "data": {
      "text/plain": [
       "'Os Trapalhões'"
      ]
     },
     "execution_count": 4,
     "metadata": {},
     "output_type": "execute_result"
    }
   ],
   "source": [
    "obj.title"
   ]
  },
  {
   "cell_type": "code",
   "execution_count": 5,
   "metadata": {},
   "outputs": [
    {
     "name": "stdout",
     "output_type": "stream",
     "text": [
      "O texto é:\n"
     ]
    },
    {
     "data": {
      "text/plain": [
       "'Os Trapalhões foi um programa de televisão humorístico brasileiro, criado por Wilton Franco e estrelado pelo quarteto cômico de mesmo nome, composto por Didi, Dedé, Mussum e Zacarias; cada um desenvolveu uma persona cênica distinta. O grupo já obtinha sucesso na televisão e no cinema desde meados da década de 1960.O programa estreou no ano de 1974, aos sábados, na Rede Tupi. Em 13 de março de 1977, estrearam na TV Globo, antes do Fantástico. Exibido aos domingos, o programa apresentava uma sucessão de esquetes entremeados sem aparente conexão, exceto a presença dos próprios. Um dos maiores fenômenos de popularidade e audiência no Brasil em toda a história, o programa entrou para o Livro Guinness de Recordes Mundiais como o programa humorístico de maior duração da televisão, com trinta anos de exibição.[carece de fontes?]O primeiro filme deles, Na Onda do Iê-Iê-Iê (1966), contava apenas com a dupla Didi e Dedé. Com o quarteto clássico, foram produzidos vinte e um filmes, começando com Os Trapalhões na Guerra dos Planetas (1978) até Uma Escola Atrapalhada (1990). Mais de cento e vinte milhões de pessoas já assistiram aos filmes de Os Trapalhões, sendo que sete destes filmes estão na lista das dez maiores bilheterias do cinema brasileiro.\\nEm 2017, a Globo, em uma parceria com o Canal Viva produz um revival do programa, agora com seis trapalhões. Além de Didi e Dedé, o programa apresenta os sobrinhos dos trapalhões originais: Didico, Dedeco, Mussa e Zaca. Sem repetir o sucesso da versão original, foi descontinuado no mesmo ano devido à crítica e recepção negativa. Em dezembro do mesmo ano, o canal anunciou reprises das temporadas antigas do programa, em janeiro de 2018.\\n\\n\\n== Visão geral ==\\nO programa era formulado por várias cenas de alguns minutos, em que tomavam parte situações cômicas dos protagonistas, às vezes com um deles, dois, três e mesmo com os quatro Trapalhões. Os assuntos das cenas eram, por exemplo, os Trapalhões se opondo a inimigos ou a si mesmos em disputas (nas quais Didi e qualquer um dos três Trapalhões que estivessem do lado dele saíam vitoriosos em quase todas as vezes), eles pregando peças em outras pessoas e até em si mesmos e os quatro cooperando entre si mesmos para chegar a um objetivo comum. Houve também, ao longo dos anos do programa, várias paródias de super-heróis tradicionais, como Super-Homem (frequentemente interpretado por Didi por causa de seu papel de líder), Batman (este mais interpretado por Dedé, devido ao seu papel de segundo em comando), Homem-Aranha, Fantasma, Hulk, etc. Também houve, ao longo dos anos do programa, os Trapalhões mencionando a campanha em favor dos deficientes físicos e a favor do menor carente. O exemplo, é a campanha Criança Esperança, que começou em 1985 como SOS Nordeste e depois em 1986, foi rebatizado num programa comemorativo de 20 anos dos Trapalhões.[carece de fontes?]\\n\\n\\n== Personagens ==\\n\\n\\n=== Protagonistas ===\\nDidi Mocó (Renato Aragão) : Seu nome completo é Didi Mocó Sonrisal Colesterol Novalgino Mufumbbo, um esperto cearense com linguajar e aparência bastante cômicos, e que poucas vezes terminava as cenas com má sorte ou como perdedor, tanto enfrentando inimigos como seus próprios três companheiros. Apesar de ser o líder do grupo, em certas cenas é considerado pelos seus três companheiros como o membro de menor importância. Era apelidado de \"cardeal\" (por conta da tintura acobreada do cabelo de Renato a partir de 79), \"cearense\", \"troféu de corrida de jegue\", \"alegria do jabá\", \"cabecinha\" ou \"cabeça-chata\", referindo-se à sua condição de retirante nordestino. Didi estrelou o humorístico \"Os Adoráveis Trapalhões\"\\nDedé (Manfried Sant\\'Anna): O \"Galã da Periferia\", era o que agia com mais seriedade e considerado o cérebro do grupo e o mais valente dos quatro, sendo uma espécie de \"segundo no comando\". Sua masculinidade era sempre ironizada por Didi, que criava apelidos como \"Divino\", \"rapaz alegre\" e \"audácia da pilombeta\". Dedé estava no elenco de apoio do humorístico \"Os Adoráveis Trapalhões\" até a fase da RecordTV em 1972, quando passou a ser definitivamente o escada do grupo. Foi ele quem sugeriu a entrada de Mussum ao grupo. A partir da década de 90, o personagem passou a ser comilão, devido ao aumento de peso de Dedé.\\nMussum (Antônio Carlos Bernardes Gomes): Um bem-humorado sambista carioca que tinha orgulho de dizer que era natural do Morro da Mangueira, uma favela do Rio de Janeiro. Possuía um linguajar bastante peculiar, sempre empregando o \"is\" no final de quase todas as palavras, criando assim os bordões \"cacildis\" e \"forévis\". Sua maior paixão é a cachaça, a qual ele chama de \"mé\" (\"mel\"). Devido ao fato de ser negro, era sempre alvo de piadas e apelidos, como ser chamado ironicamente de Maizena por Didi, ou mesmo \"azulão\", \"Mumu da Mangueira\" ou \"cromado\". Faleceu em 29 de julho de 1994. Dedé trouxe Mussum ao grupo, ao lado do Didi. Mussum entrou no humorístico \"Os Insociáveis\" na fase da RecordTV.\\nZacarias (Mauro Faccio Gonçalves): Um tímido e ingênuo  mineirinho de Sete Lagoas com personalidade infantil, baixa estatura, uma risada inconfundível e voz bastante fina, como a de uma criança. Por ser calvo, sempre usava uma peruca e entrava em desespero se esta fosse retirada de sua cabeça (geralmente por Didi), revelando sua calvície. A partir de 1989, o personagem passou a ser chamado de Zacaria, sem o último \\'s\\'. O personagem estrelou o filme Deu a Louca nas Mulheres em 1977. Faleceu em 18 de março de 1990. Renato trouxe Zacarias ao grupo, completando assim ao lado de Dedé Santana e Mussum, a formação mais famosa dos Trapalhões em 1974, no humorístico \"Os Trapalhões\" na Rede Tupi.\\n\\n\\n=== Coadjuvantes ===\\nO principal elenco de coadjuvantes, devido aos vários anos nos quais participaram do programa, era.\\n\\nCarlos Kurt (José Carlos Kunstat): um homem louro, às vezes barbudo, intimidador, alto e com olhos enormes, que frequentemente representava vilões, valentões e outros personagens inimigos dos Trapalhões. Era frequentemente apelidado por Didi como \"bode louro\", \"alumão\" (alemão) e \"macarrão de hospital\". Teve grande participação no programa durante a década de 80, ao contrário da década de 90. Faleceu em 2003.\\nConrado (Conrado Fernandes Antunes) : Outro também tímido e alto mineiro com personalidade boa e madura  .  É romântico , extrovertido , alegre ,  brincalhão , apaixonado por várias garotas e muito sério . Conrado também gosta muito de música porquê gosta de cantar e de tocar violão.\\nRoberto Guilherme (Edward Guilherme Nunes da Silva): um homem grande, obeso e calvo que, assim como Carlos Kurt, também se destacou no programa interpretando papéis antagonistas. Seu principal trabalho foi dar vida ao seu mais famoso personagem, o Sargento Pincel, que comandava os \"soldados\" Trapalhões num quartel de exército. Roberto continuou a interpretar seu personagem ao lado de Renato Aragão e Dedé Santana em A Turma do Didi e Aventuras do Didi. Muitos fãs o consideravam como o \\'quinto Trapalhão\\'.\\nDino Santana (Ondino Sant\\'Anna): irmão de Dedé Santana. Representava personagens anônimos e sem destaque, o que pode tornar difícil saber quem e como ele é. Foi coadjuvante não só no programa dos Trapalhões até o ano final (1993), mas também em alguns filmes do quarteto, como Os Trapalhões e o Mágico de Oróz, no qual representou o personagem Beato do deserto. Dino foi coadjuvante também no programa Dedé e o Comando Maluco, estrelado por seu irmão Dedé Santana. Faleceu em 2010.\\nTed Boy Marino (Mario Marino): um lutador de luta-livre com um cabelo bem similar ao do personagem He-Man e sotaque espanhol. Faleceu em 2012.\\nTião Macalé (Augusto Temístocles da Silva Costa): um dos mais famosos coadjuvantes. Um homem negro com um sorriso sem-dentes, que quase sempre encerrava suas participações nas cenas com a frase \"Nojento!\", frase que o fez famoso no Brasil. Faleceu em 1993.\\nFelipe Levy (Philippe Charles Achille Levy): outro homem obeso e calvo, frequentemente escolhido para interpretar papéis de chefia, não só nas cenas comuns mas também no quadro do quartel dos Trapalhões, onde atuava como coronel. Por ter pele muito branca e ter cavanhaque, era às vezes chamado de \"queijo-com-barba\" por Didi. Faleceu em 2008.\\nJorge Laffond (Jorge Luis Souza Lima): um homem alto,negro e afeminado. Participou principalmente dos quadros do quartel dos Trapalhões , interpretando o Soldado Divino, primo de Mussum e também do Trapa Hotel. Faleceu em 2003.\\nMônica Fraga Atuava como coadjuvante em esquetes\\nDuda Esteves (Maria Eduarda Esteves e Alves) Atuava no quadro \"Trapa Hotel\". Nos créditos finais a Duda Esteves estava como Duda ou Duda Little no elenco de apoio.\\nAlessandra Aguiar Participou dos quadros \"Trapa Hotel\" e \"Vila Vintém\"\\nAldro Cunha: Um homem com pouco cabelo grisalho e gordo que sempre fazia os comerciantes Portugueses azarados que sempre levam calote dos Trapalhões, por exemplo: sorveteiro, quitandeiro, vendedor de cachorro quente e dono de boteco.\\n\\n\\n=== Outros ===\\nOutros coadjuvantes e convidados (participantes de alguns quadros), alguns com muitas participações, alguns deles foram:\\n\\nHouve também diversas homenagens a cantores no programa dos Trapalhões; alguns deles foram: Ritchie, cantando sua música Transas; Joanna, com a sua Sonho a Dois; Sidney Magal, com algumas músicas, incluindo as Meu Sangue Ferve Por Você e Sandra Rosa Madalena; Ney Matogrosso, com muitas músicas, destacando-se Pa-Ran-Pan-Pan,Bandido Corazón e Homem com H; Caetano Veloso com Superbacana e A Filha da Chiquita Bacana; e Marcos Valle com sua Estrelar.\\n\\n\\n== Produção ==\\n\\n\\n=== A direção ===\\nVários profissionais passaram a ser diretores do programa dos trapalhões, alguns deles foram:\\n\\n\\n=== A supervisão de criação ===\\nSó um profissional passou a ser supervisor de criação do programa dos trapalhões, esse foi Chico Anysio.\\n\\n\\n=== A supervisão artística ===\\nSó um profissional passou a ser supervisor artístico do programa dos trapalhões, esse foi:\\n\\nMaurício Sherman\\n\\n\\n=== A redação e redação final ===\\nVários profissionais passaram a ser redatores e redatores finais dos programas dos trapalhões, alguns deles foram:\\n\\n1982-1984: Carlos A. de Nóbrega, Roberto Silveira, Wilson Vaz, Emanuel Rodrigues, Expedito Faggioni, Marco Serrate e Renato Aragão.\\n1984-1985: Carlos A. de Nóbrega, Renato Aragão, Emanuel Rodrigues, Expedito Faggioni, Arnaud Rodrigues, Humberto Ribeiro, Mário Alimari, Nelson Batinga e Bráulio Tavares.\\n1985-1986: Carlos Alberto Nóbrega, Roberto Silveira, Renato Aragão, Expedito Faggioni, Emanoel Rodrigues, Marcos César, Humberto Ribeiro e Geraldo Alves\\n1986-1987: Carlos Alberto Nóbrega, Roberto Silveira, Renato Aragão, Expedito Faggioni, Emanoel Rodrigues, Humberto Ribeiro, Gugu Olimecha e Celso Magno (Baiaco), com redação final de Carlos Alberto Nóbrega e Roberto Silveira.\\n1987-1988: Alberto Dini, Emanoel Rodruigues, Expedito Faggioni, Francisco de Assis, Humberto Ribeiro, Lipe, Marcos César, Marcos Serrate, Renato Aragão e Sérgio Valezin, com redação final de Renato Aragão.\\n1988-1989: Emanoel Rodrigues, Gilberto Fernandes, Gilberto Garcia, Humberto Ribeiro, Lipe, Mauro Wilson, Paulo de Andrade, Sérgio Valezim, Renato Aragão e Wilton Franco, com redação final de Wilton Franco e Renato Aragão.\\n1989-1990:  Emanoel Rodrigues, Gilberto Fernandes, Gilberto Garcia, Humberto Ribeiro, Lipe, Mauro Wilson, Paulo de Andrade, Roberto Silveira, Sérgio Valezin, Walter Stuart, Renato Aragão e Wilton Franco, com redação final de Renato Aragão e Wilton Franco.\\n1990-1991: Elisa Palatnik, Emanoel Rodrigues, Expedito Faggionni, Humberto Ribeiro, José Sampaio, Luiz Carlos Góes, Mário Tupinambá, Mauro Wilson, Papa Camargo, Paulo de Andrade, Paulo Duarte, Roberto Silveira e Rose Duarte, com redação final de Wilton Franco e Renato Aragão.\\n1991-1992: Expedito Faggioni, Gugu Olimecha, Humberto Ribeiro, José Sampaio, Júlio Braz, Mauro Wilson, Paulo de Andrade, Paulo Duarte, Roberto Silveira, Rose Larrea e Wilson Vaz, com redação final de Wilton Franco e Renato Aragão.\\n1992-1993: Redatores: Expedito Faggioni, Gilberto Fernandes, Humberto Ribeiro, Lipe, José Sampaio, Mauro Wilson, Paulo de Andrade, Paulo Duarte e Roberto Silveira, com redação final de Wilton Franco e Renato Aragão.\\n1993-1994: Redação Final: Mauro Wilson e João Motta, com redação de Aloísio de Abreu, Bráulio Tavares, Cláudia Souto, João Carlos Motta, Juca Filho, Lenine, Mané Jacó, Mauro Wilson, Mú Chebabi e Paulo de Andrade\\n\\n\\n== História ==\\n\\n\\n=== Primórdios ===\\nSua estreia ocorreu em 1966, na TV Excelsior de São Paulo, com o nome Os Adoráveis Trapalhões. Reunia na sua fórmula quatro tipos: o galã Wanderley Cardoso, o diplomata Ivon Cury, o estourado Ted Boy Marino e o palhaço Renato Aragão, o \"Didi Mocó\", além de Manfried Sant\\'Anna, o \"Dedé Santana\" e Roberto Guilherme, o eterno Sargento Pincel. Com a saída de alguns desses integrantes, e a entrada do sambista participante de Os Originais do Samba Antônio Carlos Bernardes Gomes (o \"Mussum\") em 1972 e de Mauro Faccio Gonçalves (o \"Zacarias\") em 1976, consolidou-se o grupo que iria mais tarde tornar-se um dos quadros mais famosos da TV brasileira.\\nNa TV Record, estreando em 1972, o programa foi chamado de Os Insociáveis, o que desagradava Renato Aragão. Ao passar para a TV Tupi em 1974, ele fez com que o nome de Os Trapalhões se fixasse como sendo o do grupo (também incluiu Zacarias, no lugar de Roberto Guilherme, que antes completava o quarteto como \"Beto\"). Ali, Os Trapalhões conseguiram maior audiência em seu horário do que o quase sempre líder de audiência Fantástico, na cidade de São Paulo.[carece de fontes?] Mas a antiga emissora já apresentava muitas dificuldades financeiras, o que trouxe inúmeros problemas aos artistas. Finalmente, o programa foi para a TV Globo em 1977, onde conseguiu um sucesso duradouro até 1995, com reprises de 1996 até 1999.[carece de fontes?]\\n\\n\\n=== Estreia na TV Globo ===\\nEm 1977, o diretor de operações da TV Globo, José Bonifácio de Oliveira Sobrinho, o Boni, convidou os Trapalhões para levar seu programa para a emissora. Renato Aragão conta que temia aceitar a proposta.[carece de fontes?] Afinal, na Tupi, ele tinha toda a liberdade para ser irreverente o quanto quisesse. A Globo era conhecida pelo seu padrão de qualidade, e o humorista não tinha certeza se os Trapalhões se encaixariam nele. Para não ter que recusar formalmente a proposta, ele chegou a fazer uma lista de exigências de três páginas na qual determinava quais seriam o diretor, redator e o horário do programa. Para sua surpresa, Boni aceitou sem questionamentos as exigências. Os Trapalhões mudaram, então, de emissora. Depois de dois especiais exibidos dentro da faixa de programação Sexta super, às 21h, em janeiro e fevereiro, Os Trapalhões estreou em 13 de março de 1977, aos domingos, antes do Fantástico. O programa apresentava uma sucessão de esquetes entremeados com números musicais, exibidos sem aparente conexão, exceto a presença dos próprios Trapalhões.\\nUm quadro mais longo, cheio de ação e diálogos, podia ser seguido por uma sucessão de gags visuais curtas e um quadro fixo como o Trapaswat, uma paródia do seriado americano SWAT. O diretor Augusto César Vannucci citava as chanchadas e a comédia pastelão como principais referências, mas não havia um formato pré-estabelecido. Segundo Renato Aragão, qualquer ideia podia virar um esquete a qualquer momento. Ele conta que, certa vez, a caminho do estúdio, ouviu no rádio a canção Teresinha, de Chico Buarque. Achou que a letra – a história de vários amores do ponto-de-vista de uma mulher – daria um quadro para Os Trapalhões. Ao chegar ao Teatro Fênix, onde era gravado o programa, escreveu ele próprio o esquete e, no mesmo dia, gravou uma espécie de videoclipe satírico no qual o quarteto interpretava os personagens da música. Foi a primeira de uma série de paródias de musicais que marcaram o humorístico. Os Trapalhões também costumavam participar dos números dos cantores convidados. Quando Ney Matogrosso foi ao programa, Didi estava trajando figurinos e maquiagem idênticos aos dele, por exemplo. Situação parecida aconteceu em outras ocasiões com outros artistas, como Elba Ramalho e Tony Tornado.\\nO programa também tinha outros atores fixos que não faziam parte do quarteto principal: o hilariante Tião Macalé (que imortalizou o bordão \"Ih! Nojento!\"), Jorge Lafond (que satirizava os homossexuais), Emil Rached (o gigante atrapalhado de 2,23 m), Carlos Kurt (o \"alemão\" de olhos esbugalhados e sempre mal-humorado), Felipe Levy (frequentemente no papel de \"chefe\" ou \"comandante\"), Roberto Guilherme (o eterno \"Sargento Pincel\", quase o quinto trapalhão, uma vez que acompanhou o grupo em toda sua trajetória), Dino Santanna (irmão de Dedé Santana), o anão Quinzinho entre muitos outros.\\n\\n\\n=== Quinze anos dos Trapalhões ===\\nFoi nesse contexto de ampla aceitação que o grupo comemorou 15 anos de existência, com o especial Os Trapalhões – 15 anos, exibido no domingo, dia 28 de junho de 1981, no último domingo do mês, durante sete horas, com a participação de quase todo o elenco da TV Globo, jornalistas e músicos convidados. O especial também serviu para divulgar a campanha em favor dos portadores de deficiência visual, promovendo a doação de córneas e de bolsas de emprego em todo o país.Nesse ano, sob direção de Adriano Stuart e redação de Gilberto Garcia, Os Trapalhões já tinha um público notoriamente infantil e foi nessa época que o quarteto alcançou grande repercussão, principalmente depois dos sucessos que fizeram no Festival de Berlim. Tanto o público quanto os críticos passaram a ver os quatro integrantes do grupo como os principais representantes nacionais da comédia infantojuvenil. No mesmo ano, a Globo exibiu uma programação especial de quinze anos dos Trapalhões que ficou por sete horas no ar, com onze quadros e uma campanha em favor dos deficientes físicos.\\n\\n\\n=== 1982 e 1983 ===\\nEm 1982, o programa ganhava a direção de Osvaldo Loureiro, o público passou a assistir a gravação de alguns quadros no Teatro Fênix (Rio de Janeiro). Em maio de 1983, o programa iniciou uma nova fase com Gracindo Júnior (direção) e Carlos Alberto de Nóbrega (redação). Além dos tradicionais esquetes isolados, as comédias teatrais bastante conhecidas foram adaptadas para o humor do programa. Shows eram gravados mensalmente com a participação do público. Passaram também a ser incluídas gravações externas. Ainda em 1983, foi exibida a campanha Nordeste Urgente até 1985. Na redação de 1983, que além de Renato Aragão e Carlos Alberto de Nóbrega, estavam Roberto Silveira, Wilson Vaz, Emanoel Rodrigues, Expedito Faggioni e Marcos Serrate.\\n\\n\\n=== Separação (1983) e a campanha SOS Nordeste ===\\nO programa passou por um período delicado quando os Trapalhões decidiram se separar. Dedé, Mussum e Zacarias romperam com a Renato Aragão Produções, empresa que cuidava dos negócios do grupo, formaram sua própria empresa (Demuza) e optaram por seguir sozinhos na carreira cinematográfica e deixar o programa. A separação durou cerca de seis meses, período em que Renato Aragão estrelou sozinho o programa. A TV Globo exibiu uma programação especial dedicada aos nordestinos, com 12 horas de duração. Renato Aragão apresentou a campanha SOS Nordeste e Os Trapalhões sem Dedé, Mussum e Zacarias, sendo que estes estavam no antigo programa humorístico \"A Festa É Nossa\".\\n\\n\\n=== Retorno ===\\nNo final de 1983, por iniciativa própria, os humoristas decidiram voltar com o quarteto. Depois do período de afastamento, que Renato Aragão passou a chamar de “férias conjugais”, Os Trapalhões voltaram em grande estilo no domingo, dia 25 de março de 1984, num programa que contou com a participação de Chico Anysio. Em um cenário todo branco, exceto por alguns esparsos elementos de cena – uma árvore e alguns soldadinhos de chumbo, vivamente coloridos –, o comediante contou a história dos Trapalhões para uma pequena plateia formada por Simony, a apresentadora da Turma do Balão Mágico; Isabela Bicalho, a Narizinho do Sítio do pica-pau amarelo; e Gabriela Bicalho, atriz mirim do elenco da novela Champagne. Ilustrando a fala de Chico Anysio, imagens de arquivo relembraram o início da carreira do grupo, seus sucessos no cinema e momentos marcantes na televisão. Em seguida, Renato Aragão, Dedé Santana, Mussum e Zacarias entraram em cena, trajando smokings e, emocionados, se reapresentaram para o seu público.\\n\\n\\n=== 1984, 1985 e 1986 ===\\nSob direção de Paulo Araújo, em 1984, o quarteto teve uma renovação na linguagem visual para dar uma maior unidade, com a base do cenário sendo branca, mudando a cor apenas dos elementos de cena. Passaram a ser usados pela primeira vez bordões pelo grupo (Acredite, mas não é; Dez, nota dez). Em 1985, os humoristas gravaram uma série de catorze episódios em Los Angeles. A partir de 1986, Com direção geral de Walter Lacet, o programa começou a focar mais o público infantil, com quadros direcionados para essa faixa etária e uso dos efeitos especiais. Em agosto do mesmo ano, Carlos Manga passa a dirigir o programa, fazendo quadros mais curtos e interligados uns aos outros.\\n\\n\\n=== Plateia ===\\nOs Trapalhões passou a contar com uma plateia presente às gravações no Teatro Fênix, a partir de 1982, quando o programa era dirigido por Oswaldo Loureiro. Os esquetes eram encenados como se fosse um programa ao vivo, com o mínimo de pausa para a mudança de cenários e figurinos. As constantes improvisações do grupo se tornaram ainda mais frequentes diante de um público que parecia adorar o espírito anárquico dos comediantes. Mais tarde, os “cacos” que resultavam em erros e forçavam a equipe a ter que refazer as cenas – em boa parte das vezes porque o elenco se perdia em gargalhadas descontroladas – passaram a ser exibidos em edições especiais do programa no final do ano, tamanho sucesso faziam aos olhos da plateia.\\nEm 1983, o programa passou a ser dirigido por Gracindo Júnior e redigido por Carlos Alberto de Nóbrega. Gracindo Júnior imprimiu um formato diferente a cada semana, sem fugir do humor característico dos Trapalhões. Assim, em um domingo o programa podia adaptar comédias teatrais; em outro, se transformar num show circense e, no seguinte, apresentar os tradicionais esquetes isolados. Ainda em 1983, houve uma separação não amigável entre os integrantes do grupo!\\n\\n\\n=== Os Trapalhões nas ruas e o SOS Nordeste ===\\nEm 1984, Os Trapalhões passou a ser dirigido por Paulo Araújo. Na equipe de redação estavam, além do próprio Renato Aragão, Carlos Alberto de Nóbrega, Emanuel Rodrigues, Expedito Faggioni, Arnaud Rodrigues, Humberto Ribeiro, Mário Alimari, Nelson Batinga e Bráulio Tavares. O número de quadros do programa aumentou consideravelmente – agora eram cerca de 20 por semana – assim como as cenas externas. Um dos quadros, Jabagnum – sátira ao seriado policial Magnum, exibido pela TV Globo – tinha várias sequências em que Didi corria pelas ruas do Rio de Janeiro envergando camisa havaiana e bigode iguais aos de Tom Selleck, astro do seriado. Em 1985, Didi, Dedé, Mussum e Zacarias foram gravar nos Estados Unidos uma série de 14 episódios que foi exibida a partir de abril, no bloco final do programa. A série mostrava os Trapalhões envolvidos em confusões e perseguições pelas ruas de Los Angeles. Em 1985, o primeiro programa contou com participação de vários artistas, durou quatro horas em um dia de domingo de agosto e teve nome de SOS Nordeste. Na redação do programa Os Trapalhões de 1985, que além de Renato Aragão e Carlos Alberto de Nóbrega, estavam Roberto Silveira, Expedito Faggioni, Emanoel Rodrigues, Marcos César, Humberto Ribeiro e Geraldo Alves.\\n\\n\\n=== Novas mudanças ===\\nOs Trapalhões passou por uma reformulação em março de 1986, quando Walter Lacet assumiu a direção geral do programa. A principal novidade foi a criação de quadros dirigidos especificamente para crianças. Embora fosse um humorístico bastante abrangente, o programa sempre teve grande apelo junto ao público infantil, com uso frequente de efeitos especiais. Renato Aragão classifica seu humor como primordialmente simples e de fácil assimilação. Outra mudança foi a diminuição do número de esquetes independentes em favor de quadros que reuniam Didi, Dedé, Mussum e Zacarias. Atores do elenco da TV Globo que, em geral não costumavam aparecer em humorísticos, foram convidados especiais do programa. Em agosto, Carlos Manga assumiu a direção geral. O número de gravações externas aumentou e os esquetes, agora mais curtos e rápidos, passaram a ser interligados. Dedé Santana passou a ser também co-diretor. A equipe de redação nessa época contava com Carlos Alberto da Nóbrega, Roberto Silveira, Gugu Olimecha, Expedito Faggioni, Humberto Ribeiro, Emanoel Rodrigues, além do próprio Renato Aragão e Celso Magno, o baiaco, que era também o dublê de Renato Aragão nas cenas perigosas. Carlos Alberto da Nóbrega e Roberto Silveira assinavam a redação e redação final.\\n\\n\\n=== O especial de 20 anos dos Trapalhões e o início da campanha Criança Esperança ===\\nNo domingo, dia 28 de dezembro de 1986, os Trapalhões comemoraram 20 anos de carreira com um programa especial dedicado à Campanha do Menor Carente, que marcava o início de uma série de campanhas sociais que seriam exibidas pela TV Globo no decorrer do ano seguinte. Transmitido ao vivo do Teatro Fênix, 20 Anos Trapalhões – Criança Esperança foi ao ar às 11h05 da manhã e se estendeu por nove horas. Em cada um dos seus 28 blocos, fazia-se um balanço das doações da campanha e eram exibidas vinhetas sobre os direitos das crianças, entrevistas com convidados e documentários sobre experiências de apoio e recuperação de menores de rua. A partir de então, a TV Globo passou a exibir anualmente o especial Criança Esperança. No mesmo ano, a Globo exibiu um programa especial de vinte anos dos Trapalhões que ficou por nove horas no ar, com vinte e oito quadros e uma campanha dedicada ao menor e jovem carente. O programa comemorativo 20 Anos Trapalhões  – Criança Esperança iniciou oficialmente e definitivamente a campanha do menor e do jovem carente de todo o Brasil, chamada Criança Esperança, organizada pela Unicef, então parceira da TV Globo durante 18 anos (1986-2003). Antes, o Criança Esperança era chamado de SOS Nordeste, idealizado pelo próprio Renato Aragão.\\n\\n\\n=== Reformulações ===\\nEm 1987, ocorreram novas mudanças: Maurício Tavares assumiu a direção geral e inseriu quadros inéditos, além de humorísticos musicais (com a presença de cantores convidados). Em 1988, Wilton Franco assumiu a redação, redação final e direção geral do programa, que ganhou shows ao vivo com a participação do público e o público infantil passou a ganhar mais atenção, com brincadeiras, atrações e quadros voltados para esse público. O quarteto ainda se tornou parte integrante do elenco do extinto programa de rádio A Turma da Maré Mansa, transmitido pela Rádio Globo. Nesse ano o novo quadro fixo, Quartel Trapalhão foi criado e tornou-se um grande sucesso. Os soldados eram o quarteto, além de atores que participavam e provocavam o Sargento Pincel, interpretado por Roberto Guilherme. Na equipe de redação de 1987 que além do humorista Renato Aragão, estavam Alberto Dini, Emanoel Rodruigues, Expedito Faggioni, Francisco de Assis, Humberto Ribeiro, Lipe, Marcos César, Marcos Serrate e Sérgio Valezin e na redação de 1988 que também além do humorista Renato Aragão com o diretor geral Wilton Franco estavam Emanoel Rodrigues, o ator Gibe, Gilberto Garcia, Humberto Ribeiro, Lipe, Mauro Wilson, Paulo de Andrade, Roberto Silveira e Sérgio Valezin. Na redação de 1989 que também além do humorista Renato Aragão com o diretor geral Wilton Franco estavam Emanoel Rodrigues, o ator Gibe, Gilberto Garcia, Humberto Ribeiro, Lipe, Mauro Wilson, Paulo de Andrade, Roberto Silveira, Sérgio Valezin e Walter Stuart.\\n\\n\\n=== Sem Zacarias (1990-1993) ===\\nNo dia 18 de março de 1990, Zacarias morreu de insuficiência respiratória, antes do início da temporada do programa naquele ano. Segundo Renato Aragão, o impacto da morte do companheiro por pouco não representou o fim do grupo. Ele conta que, uma vez decidido que eles continuariam a trabalhar como forma de homenagear a memória de Zacarias, a estrutura dos Trapalhões precisou ser reinventada de forma a suprir a ausência do amigo. De fato, a estreia da nova temporada foi atrasada para o dia 8 de abril. A direção geral do programa continuava a ser de Wilton Franco e a supervisão de criação, que passou a ser de Chico Anysio, que trouxe mudanças significativas. O humorístico passou a ser dividido em duas partes. A primeira apresentava shows musicais e esquetes de humor em que Didi, Dedé e Mussum contracenavam com vários comediantes e convidados. No mesmo ano, fazia a sua estreia no programa o cantor Conrado, que era o galã do grupo e ficou por três anos e 9 meses no programa. Durante o programa ele engatou um relacionamento com a Paquita Andréia Sorvetão, que dura até hoje.\\nA segunda parte trazia sempre uma aventura passada no quadro Trapa Hotel. Um estabelecimento meio decadente que tenta a todo custo se manter apesar das confusões do gerente Didi; do secretário de esportes e lazer Dedé e do segurança Mussum. Os demais funcionários eram o cozinheiro Divino (Jorge Lafond), o carregador de bagagens Sorriso (Tião Macalé) e o diretor Batatinha (Roberto Guilherme). A atriz mirim Duda Little tinha participação no quadro como filha adotiva e melhor amiga de Didi e passou a fazer parte do elenco de apoio, mesmo contracenando com vários comediantes e convidados. Criado pela cenógrafa Leila Moreira, o cenário do Trapa Hotel - construído no Teatro Fênix – tinha dois andares, elevador panorâmico e porta de entrada giratória. O Trapa Hotel continuou a ser exibido em 1991, mas a primeira parte do programa sofreu mudanças. O palco do Teatro Fênix se transformou em um bairro típico de uma grande metrópole, com prédios altos, letreiros em néon, becos escuros, carros passando e muita fumaça. Nesse cenário, cantores convidados se apresentavam e novos quadros fixos - como a Oficina dos Picaretas e O Filho do Computador, algumas das enquetes do ano anterior foram mantidas, como o anão Ananias, feito por Renato Aragão. Na redação de 1990, estavam Elisa Palatnik, Emanoel Rodrigues, Expedito Faggionni, Gugu Olimecha, Humberto Ribeiro, José Sampaio, Luiz Carlos Góes, o comediante Mário Tupinambá, Mauro Wilson, Papa Camargo, Paulo de Andrade, Paulo Duarte, Roberto Silveira e Rose Duarte. Na redação de 1991 estavam Expedito Faggioni, Gugu Olimecha, Humberto Ribeiro, José Sampaio, Júlio Braz, Mauro Wilson, Paulo de Andrade, Paulo Duarte, Roberto Silvera, Rose Larrea e Wilson Vaz. A redação final do programa ficava a cargo do humorista Renato Aragão e do diretor geral Wilton Franco. Chico Anysio continuava com a supervisão de criação. No ano seguinte novos quadros, como a Oficina dos Picaretas e O Filho do Computador foram adicionados e o rap foi incorporado ao programa. Maurício Sherman que retornava a emissora, passou a dirigir o programa, juntamente com Wilton Franco.\\n\\n\\n=== Os Trapalhões 25 Anos e a programação especial ===\\nEm julho, para celebrar os 25 anos dos Trapalhões, a TV Globo apresentou uma programação especial, com 25 horas de duração, durante a qual foram lançadas campanhas de conscientização sobre os direitos da criança, com arrecadação de donativos para as obras da Unicef. As comemorações tiveram início no sábado, dia 27, a partir de uma matéria do Jornal Nacional, seguida de flashes ao vivo do Teatro Fênix.\\nNo dia 28, a programação teve início às 7 horas com a missa celebrada ao vivo pelo cardeal D. Eugênio Salles e terminou no fim da noite, no Teatro Fênix, com a despedida e o agradecimento dos Trapalhões ao público. O especial Trapalhões 25 Anos – Festa da Amizade teve direção geral de Aloysio Legey e Walter Lacet e direção de Maurício Sherman e Wilton Franco. No mesmo ano, a Globo exibiu uma programação especial de vinte e cinco anos que ficou no ar durante 25 horas. A edição especial da Escolinha do Professor Raimundo no sábado, dia 27 ou no domingo, dia 28 com os atores e atrizes da Globo, fez uma emocionante homenagem ao saudoso Mauro Gonçalves, o Zacaria, feito pelo o saudoso mestre do humor Chico Anysio.\\n\\n\\n=== Vila Vintém ===\\nEm março de 1992, foi estreada a A Vila Vintém, que mostrava histórias passadas em uma rua de subúrbio, além da Agência Trapa Tudo. Didi era o vagabundo \"Bonga\", personagem que já havia interpretado em filme dos anos 1970, e acolhia a menina \"Tininha\" (Alessandra Aguiar), fugida de um orfanato – o primeiro quadro da dupla fez clara referência ao O garoto, de Charles Chaplin; Dedé era o dono de uma oficina; Mussum o mordomo de uma casa rica. Na redação de 1992 estavam Expedito Faggioni, Gilberto Fernandes, Humberto Ribeiro, Lipe, José Sampaio, Mauro Wilson, Paulo de Andrade, Paulo Duarte e Roberto Silveira. como em 1990 e 1991, a redação final ficou a cargo do humorista Renato Aragão e do saudoso diretor Wilton Franco.\\n\\n\\n=== Inovações ===\\nCom a missão de renovar a linguagem d\\'Os Trapalhões, José Lavigne assumiu a direção geral em 1993 e promoveu modificações radicais no programa. A plateia foi abolida e os esquetes deixaram de ser pontuados pelas risadas da claque. A primeira parte do programa trazia esquetes variados em que Didi, Dedé e Mussum contracenavam com o elenco do ano anterior. Alguns desses esquetes eram fixos, como Os piratas, em que os Trapalhões, caracterizados como os próprios piratas, apareciam nas situações mais inusitadas, e também bastava Didi mencioná-la para aparecerem repentinamente uma multidão de piratas para atacar todos os presentes na cena. A origem do quadro deu-se devido à frase OOS PIRATAAA!, que Didi repetia várias vezes durante as cenas da temporada de 1993, e que acabou dando origem ao quadro fixo, assim como criou outros quadros, como O Mestre (pronunciado do mesmo jeito de OOS PIRATA: OOO MESTRE!), que se passava em um templo onde Mussum era um velho mestre chinês e Didi era Bruce Lindo, seu aprendiz. A redação final era de Mauro Wilson e depois João Motta, a colaboração foi do grupo Casseta & Planeta, os diretores assistentes eram Márcio Trigo e Paulo Aragão e a direção geral coube a José Lavigne. A supervisão artística era de Maurício Sherman. Na redação de 1993 estavam Aloísio de Abreu, Bráulio Tavares, Claudia Souto, João Carlos Motta, o ator Juca Filho, o cantor Lenine, Mané Jacó, Mauro Wilson, Mu Chebabi e Paulo de Andrade.\\nA segunda parte do programa, em 1993 era dedicada à comédia Nos cafundós do brejo, escrita pelos humoristas do Casseta & Planeta e pelo dramaturgo Carlos Lombardi. Com uma linguagem entre o sitcom e as histórias em quadrinhos, o quadro mostrava o cotidiano de Zé do Brejo, personagem de Renato Aragão, e sua vida numa fazenda caindo aos pedaços. No elenco também estavam Alessandra Aguiar, Sérgio Mamberti, Chico Diaz, Letícia Spiller e Roberto Bomtempo.\\n\\n\\n=== Morte de Mussum ===\\nEm 29 de julho de 1994, quando Mussum morreu, em decorrência de problemas no coração, Renato Aragão conta que achou que sua carreira havia chegado ao fim. Depois de prosseguir durante um tempo, o humorista decidiu parar de gravar o programa. Nesse ano, o programa deixou de gravar quadros para exibir apenas reprises, que continuaram até a reestreia do programa, em 1995.\\nVersões compactas de 25 minutos com os melhores momentos dos Trapalhões desde a estreia em 1977 passaram a ser exibidos de segunda à sexta, às 17h. A direção era de Fernando Gueiros, com supervisão artística de Maurício Sherman.\\n\\n\\n=== Tudo novo em 1995 ===\\nOs Trapalhões só voltou ao ar em 1995, exibido nas tardes de domingo e dirigido por Paulo Aragão Neto, filho de Renato Aragão. Nessa fase, as reprises dos melhores momentos continuaram a ser apresentadas no programa. Em um cenário idealizado por Leila Moreira – um palco fixo de 360°, cercado pela plateia e com um fundo composto por um telão com nove telas planas e mais 25 monitores, que faziam uma moldura em torno das telas –, Didi e Dedé organizavam brincadeiras com a plateia e recebiam artistas convidados, com quem comentavam os esquetes e relembravam suas participações no programa. A função de recepcionar os convidados também cabia às Didicas, duas assistentes de palco vividas por Terezinha Elisa e Roberto Guilherme. As Didicas também participavam das gags com os Trapalhões e apresentavam coreografias entre um quadro e outro. O figurino da dupla era temático, idealizado por Lulu Areal de acordo com os convidados do programa. Já Renato Aragão e Dedé Santana trajavam um figurino sóbrio, diferente de todos os que já usaram no programa. No encerramento, manteve-se a tradição de se mencionar as campanhas da Unicef em prol das crianças carentes. Em julho, o programa estreou o quadro Plantão Trapalhão, no qual Alessandra Aguiar apresentava entrevistas curtas feitas com personalidades, transmitidas através do telão, e contracenava com Renato Aragão no palco. Em agosto, o programa ainda apresentou novas mudanças: Didi e Dedé estrelavam versões bem-humoradas de clássicos infantis e esquetes com a participação de humoristas como Tom Cavalcante e Eliezer Motta, entre outros. Mas nesse mesmo mês, o programa foi cancelado.\\n\\n\\n=== Trinta anos de grandes alegrias e emoções ===\\nEm 1996, os comediantes e humoristas Renato Aragão e Dedé Santana foram os apresentadores do 11° show especial do programa Criança Esperança, Os Trapalhões 30 Anos. Esse especial reuniu parte de todo o grande elenco da Globo e artistas diversos. O especial Criança Esperança, Os Trapalhões 30 Anos foi criado por Aloysio Legey, Paulo Netto e Mauro Monteiro, teve direção de Aloysio Legey e Paulo Netto e direção geral com núcleo de Aloysio Legey. O especial também homenageou os 30 anos do grupo humorístico Os Trapalhões, representados pelo trio humorístico Didi, Dedé e Sargento Pincel, respectivamente (Renato Aragão, Dedé Santana e Roberto Guilherme). O programa humorístico e o grupo humorístico Os Trapalhões seria extinto definitivamente em 1997. No mesmo ano, a Globo exibiu um programa especial com os 30 anos dos Trapalhões, com 2 horas de duração. Com direção geral e com núcleo de Aloysio Legey, direção de Aloysio Legey e Paulo Netto e criação de Aloysio Legey, Paulo Netto e Mauro Monteiro, o show Criança Esperança 96 trouxe uma homenagem emocionante aos 30 anos dos Trapalhões, com Renata Ceribelli, crianças e os atores Marcos Frota e Suzana Vieira.\\n\\n\\n=== Palavrões em humor infantil ===\\nMesmo que fosse uma série infantil e com humor pastelão, alguns filmes dos Trapalhões teve palavras de baixo calão em os produtores esqueceram de cortar ou de por mudo em algumas cenas.\\n\\n\\n=== Atualmente ===\\nApós várias discussões e debates na TV Globo, Dedé reergueu sua parceria com Renato no programa de televisão A Turma do Didi, dirigido por Guto Franco. O episódio foi transmitido no domingo, dia 22 de junho de 2008 e contou com a participação dos amigos juntos. Após os momentos de nostalgia e brincadeiras entre a equipe técnica, que confirma que Didi ficou à vontade ao trabalhar com Dedé, o elenco surpreendeu-os com bolo e festa pela presença do humorista novamente na trupe. Foram quase quinze anos de distância profissional ou pessoal, mas a amizade, dizem eles, continua a mesma. Apesar de toda a alegria do reencontro, nenhuma menção ao extinto Os Trapalhões foi feita. \"Reviver o passado é muito duro para nós dois. Não podemos fazer nenhuma referência; foi uma época de ouro, agora é outro trabalho, novos tempos\", explica Aragão, o Didi. Em 2010, a série deu lugar a Aventuras do Didi, que manteve o mesmo formato e foi cancelada em fevereiro de 2013.Em 2014, Renato Aragão e Dedé Santana atuaram em Os Saltimbancos Trapalhões - O Musical,  montada por Charles Möeller e Claudio Botelho, a peça no entanto não é um remake do filme original, mas sim uma nova adaptação do musical Os Saltimbancos de Sergio Bardotti e Luis Enríquez Bacalov, inspirado no conto Os Músicos de Bremen, dos irmãos Grimm, que em 1977 ganhou uma versão brasileira e músicas adicionais de Chico Buarque. No ano seguinte, foi confirmado um novo filme inspirada no musical, Os Saltimbancos Trapalhões: Rumo a Hollywood lançado em 2017, o filme não é um remake, mas sim de um reboot.Em 2016, o Canal Viva anunciou a possibilidade de uma releitura de Os Trapalhões, nos moldes do remake da Escolinha do Professor Raimundo, lançado em 2015 Rodrigo Sant\\'Anna, Mussunzinho (filho do humorista Mussum), Tadeu Mello, Aílton Graça, Rafael Cortez  e Armando Babaioff. chegaram a ser cogitados como os \"Novos Trapalhões\", diferente da Escolinha, a série não é remake, mas sim um revival, os personagens serão sobrinhos dos personagens originais.\\nRenato Aragão é redator, Mauro Wilson é redator final e Ricardo Waddington será diretor geral de gênero. O humorístico completa 40 anos no ar em 2017, quando estreou em 13 de março de 1977. O primeiro ator confirmado foi Lucas Veloso (Filho do falecido humorista Shaolin), como Didico, logo se juntaram ao ator e confirmados o cantor Mumuzinho, como Mussa, o humorista ex-Pânico Gui Santana como Zaca e o ator Bruno Gissoni como Dedeco. Também foi confirmado na direção Frederico Mayrink. Dedé Santana chegou a recusar participar da nova versão devido a problemas de direitos autorais, mas voltou atrás e está confirmado assim como Nego do Borel, que estará como Tião, em homenagem a Tião Macalé.\\n\\n\\n== Reprises ==\\nDesde 1994, quando Mussum faleceu, a TV Globo reprisava os Trapalhões. Em 1998, por exemplo, as reprises eram diárias as 11h30 da manhã antecedendo os jornais locais porém não eram exibidas na cidade de SP devido ao aumento da duração do SPTV ocorrido em março do mesmo ano. Em 14 de agosto de 2000, as reprises foram extintas, só voltando em 2010 dentro do Aventuras do Didi, em comemoração dos 50 anos do personagem Didi.\\nDe 1 de Janeiro de 2018 a 13 de Janeiro de 2020, as temporadas de 1988 até 1995 foram reprisadas pelo Canal Viva. deixando as temporadas de 1977 ate 1987 de lado.\\n\\n\\n== Aberturas ==\\nA primeira abertura original d\\'Os Trapalhões foi produzida pela Blimp Film com criação, direção, roteiro e storyboard de Joaquim 3 Rios no final de 1975. Era um desenho animado que mostrava Didi, Dedé, Mussum e Zacarias numa sequência de situações absurdas. Entre outras aventuras, os quatro escapavam de ser atropelados por uma locomotiva, fugiam da perseguição de um tubarão, atravessavam o sertão vestidos como cangaceiros e subiam a bordo de um navio pirata no qual Didi aparecia como capitão, usando uma perna-de-pau. Tudo isso ao som do tema instrumental que acompanharia o grupo ao longo dos anos, composto pelo diretor musical do programa José Menezes França. As palavras “os trapalhões” tinham a cor branca\\nO programa ganhou nova abertura de Hans Donner em 25 de março de 1984. Dessa vez, os quatro comediantes gravaram todas as cenas em película, como se estivessem contracenando com outros atores.\\nDepois, suas imagens foram coloridas por computador e foram inseridos desenhos animados. Como na primeira abertura, os Trapalhões eram mostrados em diversas situações cômicas, mas, dessa vez, os traços realistas ressaltavam o absurdo das gags: Didi chutou o esqueleto de um boi vertebrado, que colocou o próprio correr; Dedé era um frentista de posto de gasolina que, distraído com a passagem de uma mulher de biquíni, quase afogava um cliente com combustível; Mussum era um pescador que secava um rio quando acidentalmente arrancava a tampa de um ralo gigante; Zacarias era um caçador embrenhado na mata que levava um ovo na cara quando tentava atirar num passarinho; e Didi, um presidiário que fazia embaixadas com a bola de ferro presa ao seu tornozelo, dava um belo chute de bicicleta e era catapultado para fora dos muros da prisão. Renato Aragão lembra que teve que repetir a cena da bicicleta diversas vezes, sem dublê, até que o diretor se desse por satisfeito com o resultado. As palavras “os trapalhões” ganharam estrelas com as cores nas letras: Uma estrela azul na letra a, uma estrela vermelha na letra p, uma estrela verde na letra a e uma estrela amarela na letra ó com o til em cima.\\nA abertura de 8 de abril de 1990 foi uma das mais simples, em relação às já feitas. Talvez isso se deva ao fato de que não quiseram colocar imagens do grupo, pois se tratava dos primeiros programas gravados sem a presença de Zacarias, que havia falecido naquele mesmo ano em março. Para começar, pela primeira vez, desde a estreia, os humoristas não apareciam na vinheta de abertura. Dessa vez, uma animação mostrava as letras da logomarca do programa executando um balé no vídeo até que, por fim, se uniam para formar as palavras “OS TRAPALHÕES”, que ficaram grandes.\\nEm 1992, Didi, Dedé e Mussum voltaram com uma nova abertura: Mussum-o guarda de trânsito atrapalhado, Dedé um tocador de flauta ilusionista e Didi um domador de elefante. Essa foi a quarta abertura e as palavras “OS TRAPALHÕES” continuaram a ficar grandes.\\nEm 1993, a quinta abertura foi criada por Hans Donner, dessa vez, os três protagonistas eram marionetes manipulado pelos próprios. As palavras “OS TRAPALHÕES” ficaram grandes.\\nEm 31 de julho de 1994, com a morte de Mussum, foi intitulado como \"os melhores momentos de todos os tempos\"… a sexta abertura ficou similar com a anterior, e contava com diversas montagens de todas as aberturas. A abertura ganhou o nome de “FESTIVAL OS TRAPALHÕES”.\\nEm 1995, a última abertura ficou similar com a anterior, e contava com diversas montagens de todas as aberturas. Foi a última abertura do programa “OS TRAPALHÕES”.\\n\\n\\n== Os Trapalhões em Portugal ==\\n\\nO programa em Portugal contava apenas com Dedé Santana e Renato Aragão (Didi Mocó) e com a paricipação Roberto Guilherme.\\nNa versão produzida pela SIC a série não contava com Zacarias e Mussum, que já tinham falecido à altura.\\nConvidados pela SIC para repetirem a proeza que fizeram no Brasil, fizeram então \"Os Trapalhões em Portugal\". A série durou quatro anos, de 1995 a 1998.\\nPara além de Didi e Dedé, o show também contava com alguns atores portugueses, como José Boavida, Carlos Sebastião, João Didelet, Raquel Almeida, Rita Aresta, Ana Luís e João Vaz.\\n\\n\\n== Legado ==\\n\\n\\n=== Filmes ===\\n\\nO primeiro filme foi realizado em 1966 e contava apenas com a dupla Didi e Dedé. Com a formação clássica (que contava ainda com Mussum e Zacarias) foram realizados vinte e três filmes, entre 1978 e 1990. Mais de cento e vinte milhões de pessoas já assistiram a filmes de Os Trapalhões, sendo que sete filmes estão na lista dos dez mais vistos na história do cinema brasileiro. São eles:\\n\\n4.º lugar – O Trapalhão nas Minas do Rei Salomão de 1977, com 5,8 milhões de espectadores\\n5.º lugar – Os Saltimbancos Trapalhões de 1981, com 5 milhões\\n6.º lugar – Os Trapalhões na Guerra dos Planetas de 1978, com  5 milhões\\n7.º lugar – O Cinderelo Trapalhão de 1979, com 4,7 milhões\\n8.º lugar – Os Trapalhões na Serra Pelada de 1982, com 4,7 milhões\\n9.º lugar – O Casamento dos Trapalhões de 1988, com 4,5 milhões\\n10.º lugar – Os Vagabundos Trapalhões de 1982, com 4,4 milhões\\n\\n\\n=== Histórias em quadrinhos ===\\n\\n\\n=== Álbuns ===\\n\\nVol. I (1974)\\nVolume 2 (1975)\\nOs Trapalhões Na TV (1979)\\nSaltimbancos Trapalhões \\u200e(1981)\\nO Forró dos Trapalhões (1981)\\nOs Vagabundos Trapalhões (1982)\\nOs Trapalhões Na Serra Pelada (1982)\\nO Cangaceiro Trapalhão (1983)\\nAtrapalhando A Suate (Compacto) (1983)\\nO Trapalhão Na Arca de Noé (1984)\\nOs Trapalhões E O Mágico de Oróz (1984)\\nPintando O Sete (EMI) (1984)\\nA Filha dos Trapalhões (Compacto) (1985)\\nOs Trapalhões No Reino da Fantasia (Compacto) (1985)\\nOs Trapalhões No Rabo do Cometa (1986)\\nOs Trapalhões (1987)\\nOs Trapalhões (1988)\\nAmigos do Peito - 25 Anos dos Trapalhões (1991)\\nOs Trapalhões (Portugal) (1995)\\nTrapalhões E Seus Amigos (1996)\\nO Trapalhão E A Luz Azul (1999)\\nDidi & Sua Turma (2000)\\n\\n\\n=== Livros ===\\nOs Trapalhões possuem três livros que retratam seu trabalho. O primeiro, lançado em 1996, tem o nome Ô Psit, o Cinema Popular dos Trapalhões, da gaúcha Fatimarley Lunardelli. A obra, com tom acadêmico, desvenda as fórmulas usadas pelo quarteto para fazer sucesso também nas salas de cinema. O segundo livro, Os Adoráveis Trapalhões, é de 2007, e foi escrito por Luís Joly, o mesmo autor de Chaves: Foi sem Querer Querendo?. A obra de Joly conta o nascimento, o auge e a separação do grupo, desde a formação original até a última fase, em Portugal. O terceiro livro, O Cinema dos Trapalhões, por quem fez e por quem viu, foi escrito por Rafael Spaca e trata da obra fílmica do quarteto. O livro reúne 132 entrevistas com profissionais que trabalharam com os Trapalhões no cinema, incluindo entrevistas inéditas com Renato Aragão e Dedé Santana. Em 2017 a Editora Estronho lançou o livro As HQs dos Trapalhões, esse livro é organizado por Rafael Spaca.\\n\\n\\n=== Homenagem ===\\nEm 1988 a escola de samba Unidos do Cabuçu prestou homenagem aos Trapalhões com o samba-enredo O mundo mágico dos Trapalhões\\n\\n\\n== Elenco ==\\nAo longo de todos esses anos, fizeram parte do elenco de Os Trapalhões, entre muitos outros: Álvaro Aguiar, Apolo Correia, Andrea Veiga, Andréia Faria, Átila Iório, Anderson Müller, Angelito Mello, Augusto Olímpio, Aurimar Rocha, Alessandra Aguiar, Bia Seidl, Carlos Alberto de Nóbrega, Carlos Eduardo Dolabella, Carlos Koppa, Carlos Kroeber, Carlos Kurt, Carlos Leite, Catalano, Catita Soares, Celso Magno Hofacker Rossatto (Baiaco), Cláudio Lisboa, Colé Santana, Conrado, Cristina Mullins, Cristina Nunes, Darcy de Souza, Dary Reis, Dayse Benvolff, Denny Perrier, Dilma Lóes, Dino Santana, Duda Little, Eduardo Conde, Edna Velho, Eliana Araújo, Eliana Ovalle, Emil Rached, Elizângela, Érica Nunes, Esmeralda Barros, Felipe Levy, Felipe Wagner, Fernando Multedo, Fernando Reski, Floro José, Glória Costa, Glória Cristal, Gilliane, Humberto Freddy, Iran Lima, Isaac Bardavid, Ivan Mesquita, Ivan Setta, Ivon Cury, Jandir Motta, Jece Valadão, João Carlos Barroso, Jorge Cherques, Jorge Lafond, Aldine Müller, Alfredo Murphy, Alexandre Régis, Adriana de Broux, Amândio, Anão Quinzinho, André Sabino, Antônio Carlos, Angelo Antônio, Antônio Pedro, Arthur Costa Filho, Ângela Vieira, Augusto Aloísio, Adalberto da Silva, Bené,\\nBenvindo Sequeira, Berta Loran, Brandão Filho, Bruno Mazzeo, Castrinho, Christina Rocha, Older Cazarré, Chico Anysio,\\nCláudia Jimenez, Cláudia Savieto, Cleá Simões Costinha\\nDary Reis, Jorgeh Ramos, José Leonardo, José Augusto Branco, Jorge Cherques, Lady Francisco, Lúcio Mauro, Luiz Armando Queiróz, Marina Miranda, Márcia Cabrita, Marcelo Barauna, Mariette Detotto, Marilu Bueno, Marli Mendes, Marta Bianchi, Marta Pietro, Maurício do Valle, Mônica Fraga, Monique Evans, Monique Lafond, Narjara Turetta, Nelson Caruso, Orlando Drummond, Oberdan Júnior, Otávio Augusto, Olney Cazarré, Osmar Prado, Paulo Figueiredo, Paulo Nolasco, Paulo Rodrigues, Pepita Rodrigues, Roberto Guilherme, Rogério Cardoso, Roberto Lee, Rossane Campos, Reginaldo Primo, Ruth de Souza, Sandoval Motta, Sandra Barsotti, Selma Lopes, Silvia Massari, Silvino Neto, Sônia Maria, Sônia Mamede, Ted Boy Marino, Terezinha Elisa, Tião Macalé, Tony Tornado, Waldemar Rocha, Walter Santos, Walter Stuart, Wanderley Cardoso, Wilson Grey, Xuxa Meneghel, Zezé Macedo e Zilda Cardoso.\\n\\n\\n== Notas ==\\n\\n\\n== Referências ==\\n\\n\\n== Bibliografia ==\\nLunardelli, Fatimarley (30 de dezembro de 1995). Ô Psit! o Cinema Popular dos Trapalhões (Capa comum). [S.l.]: Artes e Ofícios. 177 páginas. ISBN 978-8-585-41866-3 \\nJoly, Luís; Franco, Paulo (dezembro de 2007). Adoráveis Trapalhões (Capa comum). [S.l.]: Matrix. ISBN 978-8-577-88021-8 \\nSpaca, Rafael (2016). O Cinema dos Trapalhões - Por Quem Fez e Por Quem Viu (Capa comum). [S.l.]: Matrix. 560 páginas. ISBN 978-8-583-73101-6  \\nSpaca, Rafael (15 de abril de 2017). As HQs dos Trapalhões (Capa comum). [S.l.]: Editora Estronho. 192 páginas. ISBN 978-8-594-58013-9. Consultado em 13 de maio de 2019 \\n\\n\\n== Ligações externas ==\\n«Trapalhões». Viva \\nOs Trapalhões. no IMDb.'"
      ]
     },
     "execution_count": 5,
     "metadata": {},
     "output_type": "execute_result"
    }
   ],
   "source": [
    "content = obj.content\n",
    "print(\"O texto é:\")\n",
    "content"
   ]
  },
  {
   "cell_type": "markdown",
   "metadata": {},
   "source": [
    "Efetivamente, podemos observar que é necessário um pré-tratamento do texto para poder usá-lo, pois quebra de linha (`\\n`) ou `links` ou títulos, .. etc, pode atrapalhar na análise. \n",
    "\n",
    "Podemos usar `REGEX` ou a Biblioteca [FlashText](https://github.com/vi3k6i5/flashtext). Está última é mais eficiente que o regex e mais fácil de manipular."
   ]
  },
  {
   "cell_type": "code",
   "execution_count": 6,
   "metadata": {},
   "outputs": [],
   "source": [
    "# from flashtext import KeywordProcessor\n",
    "# keyword_processor = KeywordProcessor()"
   ]
  },
  {
   "cell_type": "code",
   "execution_count": 7,
   "metadata": {},
   "outputs": [
    {
     "name": "stderr",
     "output_type": "stream",
     "text": [
      "/tmp/ipykernel_8890/134174736.py:7: FutureWarning: Possible nested set at position 1\n",
      "  content = re.sub(r\"[[](carece de fontes)+\\?]\", \" \", content)\n"
     ]
    },
    {
     "data": {
      "text/plain": [
       "'Os Trapalhões foi um programa de televisão humorístico brasileiro, criado por Wilton Franco e estrelado pelo quarteto cômico de mesmo nome, composto por Didi, Dedé, Mussum e Zacarias; cada um desenvolveu uma persona cênica distinta. O grupo já obtinha sucesso na televisão e no cinema desde meados da década de 1960.O programa estreou no ano de 1974, aos sábados, na Rede Tupi. Em 13 de março de 1977, estrearam na TV Globo, antes do Fantástico. Exibido aos domingos, o programa apresentava uma sucessão de esquetes entremeados sem aparente conexão, exceto a presença dos próprios. Um dos maiores fenômenos de popularidade e audiência no Brasil em toda a história, o programa entrou para o Livro Guinness de Recordes Mundiais como o programa humorístico de maior duração da televisão, com trinta anos de exibição. O primeiro filme deles, Na Onda do Iê-Iê-Iê (1966), contava apenas com a dupla Didi e Dedé. Com o quarteto clássico, foram produzidos vinte e um filmes, começando com Os Trapalhões na Guerra dos Planetas (1978) até Uma Escola Atrapalhada (1990). Mais de cento e vinte milhões de pessoas já assistiram aos filmes de Os Trapalhões, sendo que sete destes filmes estão na lista das dez maiores bilheterias do cinema brasileiro.Em 2017, a Globo, em uma parceria com o Canal Viva produz um revival do programa, agora com seis trapalhões. Além de Didi e Dedé, o programa apresenta os sobrinhos dos trapalhões originais: Didico, Dedeco, Mussa e Zaca. Sem repetir o sucesso da versão original, foi descontinuado no mesmo ano devido à crítica e recepção negativa. Em dezembro do mesmo ano, o canal anunciou reprises das temporadas antigas do programa, em janeiro de 2018.O programa era formulado por várias cenas de alguns minutos, em que tomavam parte situações cômicas dos protagonistas, às vezes com um deles, dois, três e mesmo com os quatro Trapalhões. Os assuntos das cenas eram, por exemplo, os Trapalhões se opondo a inimigos ou a si mesmos em disputas (nas quais Didi e qualquer um dos três Trapalhões que estivessem do lado dele saíam vitoriosos em quase todas as vezes), eles pregando peças em outras pessoas e até em si mesmos e os quatro cooperando entre si mesmos para chegar a um objetivo comum. Houve também, ao longo dos anos do programa, várias paródias de super-heróis tradicionais, como Super-Homem (frequentemente interpretado por Didi por causa de seu papel de líder), Batman (este mais interpretado por Dedé, devido ao seu papel de segundo em comando), Homem-Aranha, Fantasma, Hulk, etc. Também houve, ao longo dos anos do programa, os Trapalhões mencionando a campanha em favor dos deficientes físicos e a favor do menor carente. O exemplo, é a campanha Criança Esperança, que começou em 1985 como SOS Nordeste e depois em 1986, foi rebatizado num programa comemorativo de 20 anos dos Trapalhões. Didi Mocó (Renato Aragão) : Seu nome completo é Didi Mocó Sonrisal Colesterol Novalgino Mufumbbo, um esperto cearense com linguajar e aparência bastante cômicos, e que poucas vezes terminava as cenas com má sorte ou como perdedor, tanto enfrentando inimigos como seus próprios três companheiros. Apesar de ser o líder do grupo, em certas cenas é considerado pelos seus três companheiros como o membro de menor importância. Era apelidado de \"cardeal\" (por conta da tintura acobreada do cabelo de Renato a partir de 79), \"cearense\", \"troféu de corrida de jegue\", \"alegria do jabá\", \"cabecinha\" ou \"cabeça-chata\", referindo-se à sua condição de retirante nordestino. Didi estrelou o humorístico \"Os Adoráveis Trapalhões\"Dedé (Manfried Sant\\'Anna): O \"Galã da Periferia\", era o que agia com mais seriedade e considerado o cérebro do grupo e o mais valente dos quatro, sendo uma espécie de \"segundo no comando\". Sua masculinidade era sempre ironizada por Didi, que criava apelidos como \"Divino\", \"rapaz alegre\" e \"audácia da pilombeta\". Dedé estava no elenco de apoio do humorístico \"Os Adoráveis Trapalhões\" até a fase da RecordTV em 1972, quando passou a ser definitivamente o escada do grupo. Foi ele quem sugeriu a entrada de Mussum ao grupo. A partir da década de 90, o personagem passou a ser comilão, devido ao aumento de peso de Dedé.Mussum (Antônio Carlos Bernardes Gomes): Um bem-humorado sambista carioca que tinha orgulho de dizer que era natural do Morro da Mangueira, uma favela do Rio de Janeiro. Possuía um linguajar bastante peculiar, sempre empregando o \"is\" no final de quase todas as palavras, criando assim os bordões \"cacildis\" e \"forévis\". Sua maior paixão é a cachaça, a qual ele chama de \"mé\" (\"mel\"). Devido ao fato de ser negro, era sempre alvo de piadas e apelidos, como ser chamado ironicamente de Maizena por Didi, ou mesmo \"azulão\", \"Mumu da Mangueira\" ou \"cromado\". Faleceu em 29 de julho de 1994. Dedé trouxe Mussum ao grupo, ao lado do Didi. Mussum entrou no humorístico \"Os Insociáveis\" na fase da RecordTV.Zacarias (Mauro Faccio Gonçalves): Um tímido e ingênuo  mineirinho de Sete Lagoas com personalidade infantil, baixa estatura, uma risada inconfundível e voz bastante fina, como a de uma criança. Por ser calvo, sempre usava uma peruca e entrava em desespero se esta fosse retirada de sua cabeça (geralmente por Didi), revelando sua calvície. A partir de 1989, o personagem passou a ser chamado de Zacaria, sem o último \\'s\\'. O personagem estrelou o filme Deu a Louca nas Mulheres em 1977. Faleceu em 18 de março de 1990. Renato trouxe Zacarias ao grupo, completando assim ao lado de Dedé Santana e Mussum, a formação mais famosa dos Trapalhões em 1974, no humorístico \"Os Trapalhões\" na Rede Tupi.O principal elenco de coadjuvantes, devido aos vários anos nos quais participaram do programa, era.Carlos Kurt (José Carlos Kunstat): um homem louro, às vezes barbudo, intimidador, alto e com olhos enormes, que frequentemente representava vilões, valentões e outros personagens inimigos dos Trapalhões. Era frequentemente apelidado por Didi como \"bode louro\", \"alumão\" (alemão) e \"macarrão de hospital\". Teve grande participação no programa durante a década de 80, ao contrário da década de 90. Faleceu em 2003.Conrado (Conrado Fernandes Antunes) : Outro também tímido e alto mineiro com personalidade boa e madura  .  É romântico , extrovertido , alegre ,  brincalhão , apaixonado por várias garotas e muito sério . Conrado também gosta muito de música porquê gosta de cantar e de tocar violão.Roberto Guilherme (Edward Guilherme Nunes da Silva): um homem grande, obeso e calvo que, assim como Carlos Kurt, também se destacou no programa interpretando papéis antagonistas. Seu principal trabalho foi dar vida ao seu mais famoso personagem, o Sargento Pincel, que comandava os \"soldados\" Trapalhões num quartel de exército. Roberto continuou a interpretar seu personagem ao lado de Renato Aragão e Dedé Santana em A Turma do Didi e Aventuras do Didi. Muitos fãs o consideravam como o \\'quinto Trapalhão\\'.Dino Santana (Ondino Sant\\'Anna): irmão de Dedé Santana. Representava personagens anônimos e sem destaque, o que pode tornar difícil saber quem e como ele é. Foi coadjuvante não só no programa dos Trapalhões até o ano final (1993), mas também em alguns filmes do quarteto, como Os Trapalhões e o Mágico de Oróz, no qual representou o personagem Beato do deserto. Dino foi coadjuvante também no programa Dedé e o Comando Maluco, estrelado por seu irmão Dedé Santana. Faleceu em 2010.Ted Boy Marino (Mario Marino): um lutador de luta-livre com um cabelo bem similar ao do personagem He-Man e sotaque espanhol. Faleceu em 2012.Tião Macalé (Augusto Temístocles da Silva Costa): um dos mais famosos coadjuvantes. Um homem negro com um sorriso sem-dentes, que quase sempre encerrava suas participações nas cenas com a frase \"Nojento!\", frase que o fez famoso no Brasil. Faleceu em 1993.Felipe Levy (Philippe Charles Achille Levy): outro homem obeso e calvo, frequentemente escolhido para interpretar papéis de chefia, não só nas cenas comuns mas também no quadro do quartel dos Trapalhões, onde atuava como coronel. Por ter pele muito branca e ter cavanhaque, era às vezes chamado de \"queijo-com-barba\" por Didi. Faleceu em 2008.Jorge Laffond (Jorge Luis Souza Lima): um homem alto,negro e afeminado. Participou principalmente dos quadros do quartel dos Trapalhões , interpretando o Soldado Divino, primo de Mussum e também do Trapa Hotel. Faleceu em 2003.Mônica Fraga Atuava como coadjuvante em esquetesDuda Esteves (Maria Eduarda Esteves e Alves) Atuava no quadro \"Trapa Hotel\". Nos créditos finais a Duda Esteves estava como Duda ou Duda Little no elenco de apoio.Alessandra Aguiar Participou dos quadros \"Trapa Hotel\" e \"Vila Vintém\"Aldro Cunha: Um homem com pouco cabelo grisalho e gordo que sempre fazia os comerciantes Portugueses azarados que sempre levam calote dos Trapalhões, por exemplo: sorveteiro, quitandeiro, vendedor de cachorro quente e dono de boteco.Outros coadjuvantes e convidados (participantes de alguns quadros), alguns com muitas participações, alguns deles foram:Houve também diversas homenagens a cantores no programa dos Trapalhões; alguns deles foram: Ritchie, cantando sua música Transas; Joanna, com a sua Sonho a Dois; Sidney Magal, com algumas músicas, incluindo as Meu Sangue Ferve Por Você e Sandra Rosa Madalena; Ney Matogrosso, com muitas músicas, destacando-se Pa-Ran-Pan-Pan,Bandido Corazón e Homem com H; Caetano Veloso com Superbacana e A Filha da Chiquita Bacana; e Marcos Valle com sua Estrelar.Vários profissionais passaram a ser redatores e redatores finais dos programas dos trapalhões, alguns deles foram:1982-1984: Carlos A. de Nóbrega, Roberto Silveira, Wilson Vaz, Emanuel Rodrigues, Expedito Faggioni, Marco Serrate e Renato Aragão.1984-1985: Carlos A. de Nóbrega, Renato Aragão, Emanuel Rodrigues, Expedito Faggioni, Arnaud Rodrigues, Humberto Ribeiro, Mário Alimari, Nelson Batinga e Bráulio Tavares.1985-1986: Carlos Alberto Nóbrega, Roberto Silveira, Renato Aragão, Expedito Faggioni, Emanoel Rodrigues, Marcos César, Humberto Ribeiro e Geraldo Alves1986-1987: Carlos Alberto Nóbrega, Roberto Silveira, Renato Aragão, Expedito Faggioni, Emanoel Rodrigues, Humberto Ribeiro, Gugu Olimecha e Celso Magno (Baiaco), com redação final de Carlos Alberto Nóbrega e Roberto Silveira.1987-1988: Alberto Dini, Emanoel Rodruigues, Expedito Faggioni, Francisco de Assis, Humberto Ribeiro, Lipe, Marcos César, Marcos Serrate, Renato Aragão e Sérgio Valezin, com redação final de Renato Aragão.1988-1989: Emanoel Rodrigues, Gilberto Fernandes, Gilberto Garcia, Humberto Ribeiro, Lipe, Mauro Wilson, Paulo de Andrade, Sérgio Valezim, Renato Aragão e Wilton Franco, com redação final de Wilton Franco e Renato Aragão.1989-1990:  Emanoel Rodrigues, Gilberto Fernandes, Gilberto Garcia, Humberto Ribeiro, Lipe, Mauro Wilson, Paulo de Andrade, Roberto Silveira, Sérgio Valezin, Walter Stuart, Renato Aragão e Wilton Franco, com redação final de Renato Aragão e Wilton Franco.1990-1991: Elisa Palatnik, Emanoel Rodrigues, Expedito Faggionni, Humberto Ribeiro, José Sampaio, Luiz Carlos Góes, Mário Tupinambá, Mauro Wilson, Papa Camargo, Paulo de Andrade, Paulo Duarte, Roberto Silveira e Rose Duarte, com redação final de Wilton Franco e Renato Aragão.1991-1992: Expedito Faggioni, Gugu Olimecha, Humberto Ribeiro, José Sampaio, Júlio Braz, Mauro Wilson, Paulo de Andrade, Paulo Duarte, Roberto Silveira, Rose Larrea e Wilson Vaz, com redação final de Wilton Franco e Renato Aragão.1992-1993: Redatores: Expedito Faggioni, Gilberto Fernandes, Humberto Ribeiro, Lipe, José Sampaio, Mauro Wilson, Paulo de Andrade, Paulo Duarte e Roberto Silveira, com redação final de Wilton Franco e Renato Aragão.1993-1994: Redação Final: Mauro Wilson e João Motta, com redação de Aloísio de Abreu, Bráulio Tavares, Cláudia Souto, João Carlos Motta, Juca Filho, Lenine, Mané Jacó, Mauro Wilson, Mú Chebabi e Paulo de AndradeSua estreia ocorreu em 1966, na TV Excelsior de São Paulo, com o nome Os Adoráveis Trapalhões. Reunia na sua fórmula quatro tipos: o galã Wanderley Cardoso, o diplomata Ivon Cury, o estourado Ted Boy Marino e o palhaço Renato Aragão, o \"Didi Mocó\", além de Manfried Sant\\'Anna, o \"Dedé Santana\" e Roberto Guilherme, o eterno Sargento Pincel. Com a saída de alguns desses integrantes, e a entrada do sambista participante de Os Originais do Samba Antônio Carlos Bernardes Gomes (o \"Mussum\") em 1972 e de Mauro Faccio Gonçalves (o \"Zacarias\") em 1976, consolidou-se o grupo que iria mais tarde tornar-se um dos quadros mais famosos da TV brasileira.Na TV Record, estreando em 1972, o programa foi chamado de Os Insociáveis, o que desagradava Renato Aragão. Ao passar para a TV Tupi em 1974, ele fez com que o nome de Os Trapalhões se fixasse como sendo o do grupo (também incluiu Zacarias, no lugar de Roberto Guilherme, que antes completava o quarteto como \"Beto\"). Ali, Os Trapalhões conseguiram maior audiência em seu horário do que o quase sempre líder de audiência Fantástico, na cidade de São Paulo.  Mas a antiga emissora já apresentava muitas dificuldades financeiras, o que trouxe inúmeros problemas aos artistas. Finalmente, o programa foi para a TV Globo em 1977, onde conseguiu um sucesso duradouro até 1995, com reprises de 1996 até 1999. Em 1977, o diretor de operações da TV Globo, José Bonifácio de Oliveira Sobrinho, o Boni, convidou os Trapalhões para levar seu programa para a emissora. Renato Aragão conta que temia aceitar a proposta.  Afinal, na Tupi, ele tinha toda a liberdade para ser irreverente o quanto quisesse. A Globo era conhecida pelo seu padrão de qualidade, e o humorista não tinha certeza se os Trapalhões se encaixariam nele. Para não ter que recusar formalmente a proposta, ele chegou a fazer uma lista de exigências de três páginas na qual determinava quais seriam o diretor, redator e o horário do programa. Para sua surpresa, Boni aceitou sem questionamentos as exigências. Os Trapalhões mudaram, então, de emissora. Depois de dois especiais exibidos dentro da faixa de programação Sexta super, às 21h, em janeiro e fevereiro, Os Trapalhões estreou em 13 de março de 1977, aos domingos, antes do Fantástico. O programa apresentava uma sucessão de esquetes entremeados com números musicais, exibidos sem aparente conexão, exceto a presença dos próprios Trapalhões.Um quadro mais longo, cheio de ação e diálogos, podia ser seguido por uma sucessão de gags visuais curtas e um quadro fixo como o Trapaswat, uma paródia do seriado americano SWAT. O diretor Augusto César Vannucci citava as chanchadas e a comédia pastelão como principais referências, mas não havia um formato pré-estabelecido. Segundo Renato Aragão, qualquer ideia podia virar um esquete a qualquer momento. Ele conta que, certa vez, a caminho do estúdio, ouviu no rádio a canção Teresinha, de Chico Buarque. Achou que a letra – a história de vários amores do ponto-de-vista de uma mulher – daria um quadro para Os Trapalhões. Ao chegar ao Teatro Fênix, onde era gravado o programa, escreveu ele próprio o esquete e, no mesmo dia, gravou uma espécie de videoclipe satírico no qual o quarteto interpretava os personagens da música. Foi a primeira de uma série de paródias de musicais que marcaram o humorístico. Os Trapalhões também costumavam participar dos números dos cantores convidados. Quando Ney Matogrosso foi ao programa, Didi estava trajando figurinos e maquiagem idênticos aos dele, por exemplo. Situação parecida aconteceu em outras ocasiões com outros artistas, como Elba Ramalho e Tony Tornado.O programa também tinha outros atores fixos que não faziam parte do quarteto principal: o hilariante Tião Macalé (que imortalizou o bordão \"Ih! Nojento!\"), Jorge Lafond (que satirizava os homossexuais), Emil Rached (o gigante atrapalhado de 2,23 m), Carlos Kurt (o \"alemão\" de olhos esbugalhados e sempre mal-humorado), Felipe Levy (frequentemente no papel de \"chefe\" ou \"comandante\"), Roberto Guilherme (o eterno \"Sargento Pincel\", quase o quinto trapalhão, uma vez que acompanhou o grupo em toda sua trajetória), Dino Santanna (irmão de Dedé Santana), o anão Quinzinho entre muitos outros.Em 1982, o programa ganhava a direção de Osvaldo Loureiro, o público passou a assistir a gravação de alguns quadros no Teatro Fênix (Rio de Janeiro). Em maio de 1983, o programa iniciou uma nova fase com Gracindo Júnior (direção) e Carlos Alberto de Nóbrega (redação). Além dos tradicionais esquetes isolados, as comédias teatrais bastante conhecidas foram adaptadas para o humor do programa. Shows eram gravados mensalmente com a participação do público. Passaram também a ser incluídas gravações externas. Ainda em 1983, foi exibida a campanha Nordeste Urgente até 1985. Na redação de 1983, que além de Renato Aragão e Carlos Alberto de Nóbrega, estavam Roberto Silveira, Wilson Vaz, Emanoel Rodrigues, Expedito Faggioni e Marcos Serrate.=== Separação (1983) e a campanha SOS Nordeste ===O programa passou por um período delicado quando os Trapalhões decidiram se separar. Dedé, Mussum e Zacarias romperam com a Renato Aragão Produções, empresa que cuidava dos negócios do grupo, formaram sua própria empresa (Demuza) e optaram por seguir sozinhos na carreira cinematográfica e deixar o programa. A separação durou cerca de seis meses, período em que Renato Aragão estrelou sozinho o programa. A TV Globo exibiu uma programação especial dedicada aos nordestinos, com 12 horas de duração. Renato Aragão apresentou a campanha SOS Nordeste e Os Trapalhões sem Dedé, Mussum e Zacarias, sendo que estes estavam no antigo programa humorístico \"A Festa É Nossa\".Sob direção de Paulo Araújo, em 1984, o quarteto teve uma renovação na linguagem visual para dar uma maior unidade, com a base do cenário sendo branca, mudando a cor apenas dos elementos de cena. Passaram a ser usados pela primeira vez bordões pelo grupo (Acredite, mas não é; Dez, nota dez). Em 1985, os humoristas gravaram uma série de catorze episódios em Los Angeles. A partir de 1986, Com direção geral de Walter Lacet, o programa começou a focar mais o público infantil, com quadros direcionados para essa faixa etária e uso dos efeitos especiais. Em agosto do mesmo ano, Carlos Manga passa a dirigir o programa, fazendo quadros mais curtos e interligados uns aos outros.No domingo, dia 28 de dezembro de 1986, os Trapalhões comemoraram 20 anos de carreira com um programa especial dedicado à Campanha do Menor Carente, que marcava o início de uma série de campanhas sociais que seriam exibidas pela TV Globo no decorrer do ano seguinte. Transmitido ao vivo do Teatro Fênix, 20 Anos Trapalhões – Criança Esperança foi ao ar às 11h05 da manhã e se estendeu por nove horas. Em cada um dos seus 28 blocos, fazia-se um balanço das doações da campanha e eram exibidas vinhetas sobre os direitos das crianças, entrevistas com convidados e documentários sobre experiências de apoio e recuperação de menores de rua. A partir de então, a TV Globo passou a exibir anualmente o especial Criança Esperança. No mesmo ano, a Globo exibiu um programa especial de vinte anos dos Trapalhões que ficou por nove horas no ar, com vinte e oito quadros e uma campanha dedicada ao menor e jovem carente. O programa comemorativo 20 Anos Trapalhões  – Criança Esperança iniciou oficialmente e definitivamente a campanha do menor e do jovem carente de todo o Brasil, chamada Criança Esperança, organizada pela Unicef, então parceira da TV Globo durante 18 anos (1986-2003). Antes, o Criança Esperança era chamado de SOS Nordeste, idealizado pelo próprio Renato Aragão.Em 1987, ocorreram novas mudanças: Maurício Tavares assumiu a direção geral e inseriu quadros inéditos, além de humorísticos musicais (com a presença de cantores convidados). Em 1988, Wilton Franco assumiu a redação, redação final e direção geral do programa, que ganhou shows ao vivo com a participação do público e o público infantil passou a ganhar mais atenção, com brincadeiras, atrações e quadros voltados para esse público. O quarteto ainda se tornou parte integrante do elenco do extinto programa de rádio A Turma da Maré Mansa, transmitido pela Rádio Globo. Nesse ano o novo quadro fixo, Quartel Trapalhão foi criado e tornou-se um grande sucesso. Os soldados eram o quarteto, além de atores que participavam e provocavam o Sargento Pincel, interpretado por Roberto Guilherme. Na equipe de redação de 1987 que além do humorista Renato Aragão, estavam Alberto Dini, Emanoel Rodruigues, Expedito Faggioni, Francisco de Assis, Humberto Ribeiro, Lipe, Marcos César, Marcos Serrate e Sérgio Valezin e na redação de 1988 que também além do humorista Renato Aragão com o diretor geral Wilton Franco estavam Emanoel Rodrigues, o ator Gibe, Gilberto Garcia, Humberto Ribeiro, Lipe, Mauro Wilson, Paulo de Andrade, Roberto Silveira e Sérgio Valezin. Na redação de 1989 que também além do humorista Renato Aragão com o diretor geral Wilton Franco estavam Emanoel Rodrigues, o ator Gibe, Gilberto Garcia, Humberto Ribeiro, Lipe, Mauro Wilson, Paulo de Andrade, Roberto Silveira, Sérgio Valezin e Walter Stuart.=== Sem Zacarias (1990-1993) ===No dia 18 de março de 1990, Zacarias morreu de insuficiência respiratória, antes do início da temporada do programa naquele ano. Segundo Renato Aragão, o impacto da morte do companheiro por pouco não representou o fim do grupo. Ele conta que, uma vez decidido que eles continuariam a trabalhar como forma de homenagear a memória de Zacarias, a estrutura dos Trapalhões precisou ser reinventada de forma a suprir a ausência do amigo. De fato, a estreia da nova temporada foi atrasada para o dia 8 de abril. A direção geral do programa continuava a ser de Wilton Franco e a supervisão de criação, que passou a ser de Chico Anysio, que trouxe mudanças significativas. O humorístico passou a ser dividido em duas partes. A primeira apresentava shows musicais e esquetes de humor em que Didi, Dedé e Mussum contracenavam com vários comediantes e convidados. No mesmo ano, fazia a sua estreia no programa o cantor Conrado, que era o galã do grupo e ficou por três anos e 9 meses no programa. Durante o programa ele engatou um relacionamento com a Paquita Andréia Sorvetão, que dura até hoje.A segunda parte trazia sempre uma aventura passada no quadro Trapa Hotel. Um estabelecimento meio decadente que tenta a todo custo se manter apesar das confusões do gerente Didi; do secretário de esportes e lazer Dedé e do segurança Mussum. Os demais funcionários eram o cozinheiro Divino (Jorge Lafond), o carregador de bagagens Sorriso (Tião Macalé) e o diretor Batatinha (Roberto Guilherme). A atriz mirim Duda Little tinha participação no quadro como filha adotiva e melhor amiga de Didi e passou a fazer parte do elenco de apoio, mesmo contracenando com vários comediantes e convidados. Criado pela cenógrafa Leila Moreira, o cenário do Trapa Hotel - construído no Teatro Fênix – tinha dois andares, elevador panorâmico e porta de entrada giratória. O Trapa Hotel continuou a ser exibido em 1991, mas a primeira parte do programa sofreu mudanças. O palco do Teatro Fênix se transformou em um bairro típico de uma grande metrópole, com prédios altos, letreiros em néon, becos escuros, carros passando e muita fumaça. Nesse cenário, cantores convidados se apresentavam e novos quadros fixos - como a Oficina dos Picaretas e O Filho do Computador, algumas das enquetes do ano anterior foram mantidas, como o anão Ananias, feito por Renato Aragão. Na redação de 1990, estavam Elisa Palatnik, Emanoel Rodrigues, Expedito Faggionni, Gugu Olimecha, Humberto Ribeiro, José Sampaio, Luiz Carlos Góes, o comediante Mário Tupinambá, Mauro Wilson, Papa Camargo, Paulo de Andrade, Paulo Duarte, Roberto Silveira e Rose Duarte. Na redação de 1991 estavam Expedito Faggioni, Gugu Olimecha, Humberto Ribeiro, José Sampaio, Júlio Braz, Mauro Wilson, Paulo de Andrade, Paulo Duarte, Roberto Silvera, Rose Larrea e Wilson Vaz. A redação final do programa ficava a cargo do humorista Renato Aragão e do diretor geral Wilton Franco. Chico Anysio continuava com a supervisão de criação. No ano seguinte novos quadros, como a Oficina dos Picaretas e O Filho do Computador foram adicionados e o rap foi incorporado ao programa. Maurício Sherman que retornava a emissora, passou a dirigir o programa, juntamente com Wilton Franco.Em março de 1992, foi estreada a A Vila Vintém, que mostrava histórias passadas em uma rua de subúrbio, além da Agência Trapa Tudo. Didi era o vagabundo \"Bonga\", personagem que já havia interpretado em filme dos anos 1970, e acolhia a menina \"Tininha\" (Alessandra Aguiar), fugida de um orfanato – o primeiro quadro da dupla fez clara referência ao O garoto, de Charles Chaplin; Dedé era o dono de uma oficina; Mussum o mordomo de uma casa rica. Na redação de 1992 estavam Expedito Faggioni, Gilberto Fernandes, Humberto Ribeiro, Lipe, José Sampaio, Mauro Wilson, Paulo de Andrade, Paulo Duarte e Roberto Silveira. como em 1990 e 1991, a redação final ficou a cargo do humorista Renato Aragão e do saudoso diretor Wilton Franco.Com a missão de renovar a linguagem d\\'Os Trapalhões, José Lavigne assumiu a direção geral em 1993 e promoveu modificações radicais no programa. A plateia foi abolida e os esquetes deixaram de ser pontuados pelas risadas da claque. A primeira parte do programa trazia esquetes variados em que Didi, Dedé e Mussum contracenavam com o elenco do ano anterior. Alguns desses esquetes eram fixos, como Os piratas, em que os Trapalhões, caracterizados como os próprios piratas, apareciam nas situações mais inusitadas, e também bastava Didi mencioná-la para aparecerem repentinamente uma multidão de piratas para atacar todos os presentes na cena. A origem do quadro deu-se devido à frase OOS PIRATAAA!, que Didi repetia várias vezes durante as cenas da temporada de 1993, e que acabou dando origem ao quadro fixo, assim como criou outros quadros, como O Mestre (pronunciado do mesmo jeito de OOS PIRATA: OOO MESTRE!), que se passava em um templo onde Mussum era um velho mestre chinês e Didi era Bruce Lindo, seu aprendiz. A redação final era de Mauro Wilson e depois João Motta, a colaboração foi do grupo Casseta & Planeta, os diretores assistentes eram Márcio Trigo e Paulo Aragão e a direção geral coube a José Lavigne. A supervisão artística era de Maurício Sherman. Na redação de 1993 estavam Aloísio de Abreu, Bráulio Tavares, Claudia Souto, João Carlos Motta, o ator Juca Filho, o cantor Lenine, Mané Jacó, Mauro Wilson, Mu Chebabi e Paulo de Andrade.A segunda parte do programa, em 1993 era dedicada à comédia Nos cafundós do brejo, escrita pelos humoristas do Casseta & Planeta e pelo dramaturgo Carlos Lombardi. Com uma linguagem entre o sitcom e as histórias em quadrinhos, o quadro mostrava o cotidiano de Zé do Brejo, personagem de Renato Aragão, e sua vida numa fazenda caindo aos pedaços. No elenco também estavam Alessandra Aguiar, Sérgio Mamberti, Chico Diaz, Letícia Spiller e Roberto Bomtempo.Em 1996, os comediantes e humoristas Renato Aragão e Dedé Santana foram os apresentadores do 11° show especial do programa Criança Esperança, Os Trapalhões 30 Anos. Esse especial reuniu parte de todo o grande elenco da Globo e artistas diversos. O especial Criança Esperança, Os Trapalhões 30 Anos foi criado por Aloysio Legey, Paulo Netto e Mauro Monteiro, teve direção de Aloysio Legey e Paulo Netto e direção geral com núcleo de Aloysio Legey. O especial também homenageou os 30 anos do grupo humorístico Os Trapalhões, representados pelo trio humorístico Didi, Dedé e Sargento Pincel, respectivamente (Renato Aragão, Dedé Santana e Roberto Guilherme). O programa humorístico e o grupo humorístico Os Trapalhões seria extinto definitivamente em 1997. No mesmo ano, a Globo exibiu um programa especial com os 30 anos dos Trapalhões, com 2 horas de duração. Com direção geral e com núcleo de Aloysio Legey, direção de Aloysio Legey e Paulo Netto e criação de Aloysio Legey, Paulo Netto e Mauro Monteiro, o show Criança Esperança 96 trouxe uma homenagem emocionante aos 30 anos dos Trapalhões, com Renata Ceribelli, crianças e os atores Marcos Frota e Suzana Vieira.Após várias discussões e debates na TV Globo, Dedé reergueu sua parceria com Renato no programa de televisão A Turma do Didi, dirigido por Guto Franco. O episódio foi transmitido no domingo, dia 22 de junho de 2008 e contou com a participação dos amigos juntos. Após os momentos de nostalgia e brincadeiras entre a equipe técnica, que confirma que Didi ficou à vontade ao trabalhar com Dedé, o elenco surpreendeu-os com bolo e festa pela presença do humorista novamente na trupe. Foram quase quinze anos de distância profissional ou pessoal, mas a amizade, dizem eles, continua a mesma. Apesar de toda a alegria do reencontro, nenhuma menção ao extinto Os Trapalhões foi feita. \"Reviver o passado é muito duro para nós dois. Não podemos fazer nenhuma referência; foi uma época de ouro, agora é outro trabalho, novos tempos\", explica Aragão, o Didi. Em 2010, a série deu lugar a Aventuras do Didi, que manteve o mesmo formato e foi cancelada em fevereiro de 2013.Em 2014, Renato Aragão e Dedé Santana atuaram em Os Saltimbancos Trapalhões - O Musical,  montada por Charles Möeller e Claudio Botelho, a peça no entanto não é um remake do filme original, mas sim uma nova adaptação do musical Os Saltimbancos de Sergio Bardotti e Luis Enríquez Bacalov, inspirado no conto Os Músicos de Bremen, dos irmãos Grimm, que em 1977 ganhou uma versão brasileira e músicas adicionais de Chico Buarque. No ano seguinte, foi confirmado um novo filme inspirada no musical, Os Saltimbancos Trapalhões: Rumo a Hollywood lançado em 2017, o filme não é um remake, mas sim de um reboot.Em 2016, o Canal Viva anunciou a possibilidade de uma releitura de Os Trapalhões, nos moldes do remake da Escolinha do Professor Raimundo, lançado em 2015 Rodrigo Sant\\'Anna, Mussunzinho (filho do humorista Mussum), Tadeu Mello, Aílton Graça, Rafael Cortez  e Armando Babaioff. chegaram a ser cogitados como os \"Novos Trapalhões\", diferente da Escolinha, a série não é remake, mas sim um revival, os personagens serão sobrinhos dos personagens originais.Renato Aragão é redator, Mauro Wilson é redator final e Ricardo Waddington será diretor geral de gênero. O humorístico completa 40 anos no ar em 2017, quando estreou em 13 de março de 1977. O primeiro ator confirmado foi Lucas Veloso (Filho do falecido humorista Shaolin), como Didico, logo se juntaram ao ator e confirmados o cantor Mumuzinho, como Mussa, o humorista ex-Pânico Gui Santana como Zaca e o ator Bruno Gissoni como Dedeco. Também foi confirmado na direção Frederico Mayrink. Dedé Santana chegou a recusar participar da nova versão devido a problemas de direitos autorais, mas voltou atrás e está confirmado assim como Nego do Borel, que estará como Tião, em homenagem a Tião Macalé.O programa em Portugal contava apenas com Dedé Santana e Renato Aragão (Didi Mocó) e com a paricipação Roberto Guilherme.Na versão produzida pela SIC a série não contava com Zacarias e Mussum, que já tinham falecido à altura.Convidados pela SIC para repetirem a proeza que fizeram no Brasil, fizeram então \"Os Trapalhões em Portugal\". A série durou quatro anos, de 1995 a 1998.Para além de Didi e Dedé, o show também contava com alguns atores portugueses, como José Boavida, Carlos Sebastião, João Didelet, Raquel Almeida, Rita Aresta, Ana Luís e João Vaz.O primeiro filme foi realizado em 1966 e contava apenas com a dupla Didi e Dedé. Com a formação clássica (que contava ainda com Mussum e Zacarias) foram realizados vinte e três filmes, entre 1978 e 1990. Mais de cento e vinte milhões de pessoas já assistiram a filmes de Os Trapalhões, sendo que sete filmes estão na lista dos dez mais vistos na história do cinema brasileiro. São eles:4.º lugar – O Trapalhão nas Minas do Rei Salomão de 1977, com 5,8 milhões de espectadores5.º lugar – Os Saltimbancos Trapalhões de 1981, com 5 milhões6.º lugar – Os Trapalhões na Guerra dos Planetas de 1978, com  5 milhões7.º lugar – O Cinderelo Trapalhão de 1979, com 4,7 milhões8.º lugar – Os Trapalhões na Serra Pelada de 1982, com 4,7 milhões9.º lugar – O Casamento dos Trapalhões de 1988, com 4,5 milhões10.º lugar – Os Vagabundos Trapalhões de 1982, com 4,4 milhõesVol. I (1974)Volume 2 (1975)Os Trapalhões Na TV (1979)Saltimbancos Trapalhões \\u200e(1981)O Forró dos Trapalhões (1981)Os Vagabundos Trapalhões (1982)Os Trapalhões Na Serra Pelada (1982)O Cangaceiro Trapalhão (1983)Atrapalhando A Suate (Compacto) (1983)O Trapalhão Na Arca de Noé (1984)Os Trapalhões E O Mágico de Oróz (1984)Pintando O Sete (EMI) (1984)A Filha dos Trapalhões (Compacto) (1985)Os Trapalhões No Reino da Fantasia (Compacto) (1985)Os Trapalhões No Rabo do Cometa (1986)Os Trapalhões (1987)Os Trapalhões (1988)Amigos do Peito - 25 Anos dos Trapalhões (1991)Os Trapalhões (Portugal) (1995)Trapalhões E Seus Amigos (1996)O Trapalhão E A Luz Azul (1999)Didi & Sua Turma (2000)Ao longo de todos esses anos, fizeram parte do elenco de Os Trapalhões, entre muitos outros: Álvaro Aguiar, Apolo Correia, Andrea Veiga, Andréia Faria, Átila Iório, Anderson Müller, Angelito Mello, Augusto Olímpio, Aurimar Rocha, Alessandra Aguiar, Bia Seidl, Carlos Alberto de Nóbrega, Carlos Eduardo Dolabella, Carlos Koppa, Carlos Kroeber, Carlos Kurt, Carlos Leite, Catalano, Catita Soares, Celso Magno Hofacker Rossatto (Baiaco), Cláudio Lisboa, Colé Santana, Conrado, Cristina Mullins, Cristina Nunes, Darcy de Souza, Dary Reis, Dayse Benvolff, Denny Perrier, Dilma Lóes, Dino Santana, Duda Little, Eduardo Conde, Edna Velho, Eliana Araújo, Eliana Ovalle, Emil Rached, Elizângela, Érica Nunes, Esmeralda Barros, Felipe Levy, Felipe Wagner, Fernando Multedo, Fernando Reski, Floro José, Glória Costa, Glória Cristal, Gilliane, Humberto Freddy, Iran Lima, Isaac Bardavid, Ivan Mesquita, Ivan Setta, Ivon Cury, Jandir Motta, Jece Valadão, João Carlos Barroso, Jorge Cherques, Jorge Lafond, Aldine Müller, Alfredo Murphy, Alexandre Régis, Adriana de Broux, Amândio, Anão Quinzinho, André Sabino, Antônio Carlos, Angelo Antônio, Antônio Pedro, Arthur Costa Filho, Ângela Vieira, Augusto Aloísio, Adalberto da Silva, Bené,Benvindo Sequeira, Berta Loran, Brandão Filho, Bruno Mazzeo, Castrinho, Christina Rocha, Older Cazarré, Chico Anysio,Cláudia Jimenez, Cláudia Savieto, Cleá Simões CostinhaDary Reis, Jorgeh Ramos, José Leonardo, José Augusto Branco, Jorge Cherques, Lady Francisco, Lúcio Mauro, Luiz Armando Queiróz, Marina Miranda, Márcia Cabrita, Marcelo Barauna, Mariette Detotto, Marilu Bueno, Marli Mendes, Marta Bianchi, Marta Pietro, Maurício do Valle, Mônica Fraga, Monique Evans, Monique Lafond, Narjara Turetta, Nelson Caruso, Orlando Drummond, Oberdan Júnior, Otávio Augusto, Olney Cazarré, Osmar Prado, Paulo Figueiredo, Paulo Nolasco, Paulo Rodrigues, Pepita Rodrigues, Roberto Guilherme, Rogério Cardoso, Roberto Lee, Rossane Campos, Reginaldo Primo, Ruth de Souza, Sandoval Motta, Sandra Barsotti, Selma Lopes, Silvia Massari, Silvino Neto, Sônia Maria, Sônia Mamede, Ted Boy Marino, Terezinha Elisa, Tião Macalé, Tony Tornado, Waldemar Rocha, Walter Santos, Walter Stuart, Wanderley Cardoso, Wilson Grey, Xuxa Meneghel, Zezé Macedo e Zilda Cardoso.Lunardelli, Fatimarley (30 de dezembro de 1995). Ô Psit! o Cinema Popular dos Trapalhões (Capa comum). [S.l.]: Artes e Ofícios. 177 páginas. ISBN 978-8-585-41866-3 Joly, Luís; Franco, Paulo (dezembro de 2007). Adoráveis Trapalhões (Capa comum). [S.l.]: Matrix. ISBN 978-8-577-88021-8 Spaca, Rafael (2016). O Cinema dos Trapalhões - Por Quem Fez e Por Quem Viu (Capa comum). [S.l.]: Matrix. 560 páginas. ISBN 978-8-583-73101-6  Spaca, Rafael (15 de abril de 2017). As HQs dos Trapalhões (Capa comum). [S.l.]: Editora Estronho. 192 páginas. ISBN 978-8-594-58013-9. Consultado em 13 de maio de 2019 «Trapalhões». Viva Os Trapalhões. no IMDb.'"
      ]
     },
     "execution_count": 7,
     "metadata": {},
     "output_type": "execute_result"
    }
   ],
   "source": [
    "# [[](carece de fontes)+\\?]\n",
    "#keyword_processor.add_keyword('[[](carece de fontes)+\\?]', ' ')\n",
    "#content = keyword_processor.replace_keywords(content)\n",
    "\n",
    "import re\n",
    "content = re.sub(\"\\n\",\"\", content)\n",
    "content = re.sub(r\"[[](carece de fontes)+\\?]\", \" \", content)\n",
    "# content = re.sub(r\"\\[[^()]*\\]\",\"\", content)\n",
    "\n",
    "content = re.sub(r\"==[^()]*==\",\"\", content)\n",
    "content"
   ]
  },
  {
   "cell_type": "markdown",
   "metadata": {},
   "source": [
    "# spaCy"
   ]
  },
  {
   "cell_type": "markdown",
   "metadata": {},
   "source": [
    "Se encarrega de extrair `Part-Of-Speech Tagger (POS Tagger)`, `criar árvore de dependência`, `criar tokens`, `extrair lemma de cada palavra` e muito mais,"
   ]
  },
  {
   "cell_type": "code",
   "execution_count": 8,
   "metadata": {},
   "outputs": [
    {
     "name": "stdout",
     "output_type": "stream",
     "text": [
      "Requirement already satisfied: spacy in /home/eddygiusepe/Documentos/Repasso_Python/venv_repasso/lib/python3.8/site-packages (3.4.3)\n",
      "Requirement already satisfied: setuptools in /home/eddygiusepe/Documentos/Repasso_Python/venv_repasso/lib/python3.8/site-packages (from spacy) (56.0.0)\n",
      "Requirement already satisfied: pydantic!=1.8,!=1.8.1,<1.11.0,>=1.7.4 in /home/eddygiusepe/Documentos/Repasso_Python/venv_repasso/lib/python3.8/site-packages (from spacy) (1.10.2)\n",
      "Requirement already satisfied: wasabi<1.1.0,>=0.9.1 in /home/eddygiusepe/Documentos/Repasso_Python/venv_repasso/lib/python3.8/site-packages (from spacy) (0.10.1)\n",
      "Requirement already satisfied: typer<0.8.0,>=0.3.0 in /home/eddygiusepe/Documentos/Repasso_Python/venv_repasso/lib/python3.8/site-packages (from spacy) (0.7.0)\n",
      "Requirement already satisfied: cymem<2.1.0,>=2.0.2 in /home/eddygiusepe/Documentos/Repasso_Python/venv_repasso/lib/python3.8/site-packages (from spacy) (2.0.7)\n",
      "Requirement already satisfied: srsly<3.0.0,>=2.4.3 in /home/eddygiusepe/Documentos/Repasso_Python/venv_repasso/lib/python3.8/site-packages (from spacy) (2.4.5)\n",
      "Requirement already satisfied: pathy>=0.3.5 in /home/eddygiusepe/Documentos/Repasso_Python/venv_repasso/lib/python3.8/site-packages (from spacy) (0.9.0)\n",
      "Requirement already satisfied: numpy>=1.15.0 in /home/eddygiusepe/Documentos/Repasso_Python/venv_repasso/lib/python3.8/site-packages (from spacy) (1.23.5)\n",
      "Requirement already satisfied: spacy-loggers<2.0.0,>=1.0.0 in /home/eddygiusepe/Documentos/Repasso_Python/venv_repasso/lib/python3.8/site-packages (from spacy) (1.0.3)\n",
      "Requirement already satisfied: tqdm<5.0.0,>=4.38.0 in /home/eddygiusepe/Documentos/Repasso_Python/venv_repasso/lib/python3.8/site-packages (from spacy) (4.64.1)\n",
      "Requirement already satisfied: packaging>=20.0 in /home/eddygiusepe/Documentos/Repasso_Python/venv_repasso/lib/python3.8/site-packages (from spacy) (21.3)\n",
      "Requirement already satisfied: thinc<8.2.0,>=8.1.0 in /home/eddygiusepe/Documentos/Repasso_Python/venv_repasso/lib/python3.8/site-packages (from spacy) (8.1.5)\n",
      "Requirement already satisfied: preshed<3.1.0,>=3.0.2 in /home/eddygiusepe/Documentos/Repasso_Python/venv_repasso/lib/python3.8/site-packages (from spacy) (3.0.8)\n",
      "Requirement already satisfied: murmurhash<1.1.0,>=0.28.0 in /home/eddygiusepe/Documentos/Repasso_Python/venv_repasso/lib/python3.8/site-packages (from spacy) (1.0.9)\n",
      "Requirement already satisfied: requests<3.0.0,>=2.13.0 in /home/eddygiusepe/Documentos/Repasso_Python/venv_repasso/lib/python3.8/site-packages (from spacy) (2.28.1)\n",
      "Requirement already satisfied: jinja2 in /home/eddygiusepe/Documentos/Repasso_Python/venv_repasso/lib/python3.8/site-packages (from spacy) (3.1.2)\n",
      "Requirement already satisfied: langcodes<4.0.0,>=3.2.0 in /home/eddygiusepe/Documentos/Repasso_Python/venv_repasso/lib/python3.8/site-packages (from spacy) (3.3.0)\n",
      "Requirement already satisfied: catalogue<2.1.0,>=2.0.6 in /home/eddygiusepe/Documentos/Repasso_Python/venv_repasso/lib/python3.8/site-packages (from spacy) (2.0.8)\n",
      "Requirement already satisfied: spacy-legacy<3.1.0,>=3.0.10 in /home/eddygiusepe/Documentos/Repasso_Python/venv_repasso/lib/python3.8/site-packages (from spacy) (3.0.10)\n",
      "Requirement already satisfied: pyparsing!=3.0.5,>=2.0.2 in /home/eddygiusepe/Documentos/Repasso_Python/venv_repasso/lib/python3.8/site-packages (from packaging>=20.0->spacy) (3.0.9)\n",
      "Requirement already satisfied: smart-open<6.0.0,>=5.2.1 in /home/eddygiusepe/Documentos/Repasso_Python/venv_repasso/lib/python3.8/site-packages (from pathy>=0.3.5->spacy) (5.2.1)\n",
      "Requirement already satisfied: typing-extensions>=4.1.0 in /home/eddygiusepe/Documentos/Repasso_Python/venv_repasso/lib/python3.8/site-packages (from pydantic!=1.8,!=1.8.1,<1.11.0,>=1.7.4->spacy) (4.4.0)\n",
      "Requirement already satisfied: idna<4,>=2.5 in /home/eddygiusepe/Documentos/Repasso_Python/venv_repasso/lib/python3.8/site-packages (from requests<3.0.0,>=2.13.0->spacy) (3.4)\n",
      "Requirement already satisfied: charset-normalizer<3,>=2 in /home/eddygiusepe/Documentos/Repasso_Python/venv_repasso/lib/python3.8/site-packages (from requests<3.0.0,>=2.13.0->spacy) (2.1.1)\n",
      "Requirement already satisfied: urllib3<1.27,>=1.21.1 in /home/eddygiusepe/Documentos/Repasso_Python/venv_repasso/lib/python3.8/site-packages (from requests<3.0.0,>=2.13.0->spacy) (1.26.12)\n",
      "Requirement already satisfied: certifi>=2017.4.17 in /home/eddygiusepe/Documentos/Repasso_Python/venv_repasso/lib/python3.8/site-packages (from requests<3.0.0,>=2.13.0->spacy) (2022.9.24)\n",
      "Requirement already satisfied: blis<0.8.0,>=0.7.8 in /home/eddygiusepe/Documentos/Repasso_Python/venv_repasso/lib/python3.8/site-packages (from thinc<8.2.0,>=8.1.0->spacy) (0.7.9)\n",
      "Requirement already satisfied: confection<1.0.0,>=0.0.1 in /home/eddygiusepe/Documentos/Repasso_Python/venv_repasso/lib/python3.8/site-packages (from thinc<8.2.0,>=8.1.0->spacy) (0.0.3)\n",
      "Requirement already satisfied: click<9.0.0,>=7.1.1 in /home/eddygiusepe/Documentos/Repasso_Python/venv_repasso/lib/python3.8/site-packages (from typer<0.8.0,>=0.3.0->spacy) (8.1.3)\n",
      "Requirement already satisfied: MarkupSafe>=2.0 in /home/eddygiusepe/Documentos/Repasso_Python/venv_repasso/lib/python3.8/site-packages (from jinja2->spacy) (2.1.1)\n",
      "\u001b[33mWARNING: You are using pip version 22.0.4; however, version 22.3.1 is available.\n",
      "You should consider upgrading via the '/home/eddygiusepe/Documentos/Repasso_Python/venv_repasso/bin/python -m pip install --upgrade pip' command.\u001b[0m\u001b[33m\n",
      "\u001b[0mNote: you may need to restart the kernel to use updated packages.\n"
     ]
    }
   ],
   "source": [
    "%pip install -U spacy"
   ]
  },
  {
   "cell_type": "code",
   "execution_count": 9,
   "metadata": {},
   "outputs": [
    {
     "name": "stdout",
     "output_type": "stream",
     "text": [
      "Collecting pt-core-news-sm==3.4.0\n",
      "  Downloading https://github.com/explosion/spacy-models/releases/download/pt_core_news_sm-3.4.0/pt_core_news_sm-3.4.0-py3-none-any.whl (13.0 MB)\n",
      "\u001b[2K     \u001b[90m━━━━━━━━━━━━━━━━━━━━━━━━━━━━━━━━━━━━━━━━\u001b[0m \u001b[32m13.0/13.0 MB\u001b[0m \u001b[31m5.5 MB/s\u001b[0m eta \u001b[36m0:00:00\u001b[0m00:01\u001b[0m00:01\u001b[0mm\n",
      "\u001b[?25hRequirement already satisfied: spacy<3.5.0,>=3.4.0 in /home/eddygiusepe/Documentos/Repasso_Python/venv_repasso/lib/python3.8/site-packages (from pt-core-news-sm==3.4.0) (3.4.3)\n",
      "Requirement already satisfied: jinja2 in /home/eddygiusepe/Documentos/Repasso_Python/venv_repasso/lib/python3.8/site-packages (from spacy<3.5.0,>=3.4.0->pt-core-news-sm==3.4.0) (3.1.2)\n",
      "Requirement already satisfied: murmurhash<1.1.0,>=0.28.0 in /home/eddygiusepe/Documentos/Repasso_Python/venv_repasso/lib/python3.8/site-packages (from spacy<3.5.0,>=3.4.0->pt-core-news-sm==3.4.0) (1.0.9)\n",
      "Requirement already satisfied: pydantic!=1.8,!=1.8.1,<1.11.0,>=1.7.4 in /home/eddygiusepe/Documentos/Repasso_Python/venv_repasso/lib/python3.8/site-packages (from spacy<3.5.0,>=3.4.0->pt-core-news-sm==3.4.0) (1.10.2)\n",
      "Requirement already satisfied: numpy>=1.15.0 in /home/eddygiusepe/Documentos/Repasso_Python/venv_repasso/lib/python3.8/site-packages (from spacy<3.5.0,>=3.4.0->pt-core-news-sm==3.4.0) (1.23.5)\n",
      "Requirement already satisfied: thinc<8.2.0,>=8.1.0 in /home/eddygiusepe/Documentos/Repasso_Python/venv_repasso/lib/python3.8/site-packages (from spacy<3.5.0,>=3.4.0->pt-core-news-sm==3.4.0) (8.1.5)\n",
      "Requirement already satisfied: srsly<3.0.0,>=2.4.3 in /home/eddygiusepe/Documentos/Repasso_Python/venv_repasso/lib/python3.8/site-packages (from spacy<3.5.0,>=3.4.0->pt-core-news-sm==3.4.0) (2.4.5)\n",
      "Requirement already satisfied: requests<3.0.0,>=2.13.0 in /home/eddygiusepe/Documentos/Repasso_Python/venv_repasso/lib/python3.8/site-packages (from spacy<3.5.0,>=3.4.0->pt-core-news-sm==3.4.0) (2.28.1)\n",
      "Requirement already satisfied: pathy>=0.3.5 in /home/eddygiusepe/Documentos/Repasso_Python/venv_repasso/lib/python3.8/site-packages (from spacy<3.5.0,>=3.4.0->pt-core-news-sm==3.4.0) (0.9.0)\n",
      "Requirement already satisfied: setuptools in /home/eddygiusepe/Documentos/Repasso_Python/venv_repasso/lib/python3.8/site-packages (from spacy<3.5.0,>=3.4.0->pt-core-news-sm==3.4.0) (56.0.0)\n",
      "Requirement already satisfied: preshed<3.1.0,>=3.0.2 in /home/eddygiusepe/Documentos/Repasso_Python/venv_repasso/lib/python3.8/site-packages (from spacy<3.5.0,>=3.4.0->pt-core-news-sm==3.4.0) (3.0.8)\n",
      "Requirement already satisfied: wasabi<1.1.0,>=0.9.1 in /home/eddygiusepe/Documentos/Repasso_Python/venv_repasso/lib/python3.8/site-packages (from spacy<3.5.0,>=3.4.0->pt-core-news-sm==3.4.0) (0.10.1)\n",
      "Requirement already satisfied: spacy-legacy<3.1.0,>=3.0.10 in /home/eddygiusepe/Documentos/Repasso_Python/venv_repasso/lib/python3.8/site-packages (from spacy<3.5.0,>=3.4.0->pt-core-news-sm==3.4.0) (3.0.10)\n",
      "Requirement already satisfied: catalogue<2.1.0,>=2.0.6 in /home/eddygiusepe/Documentos/Repasso_Python/venv_repasso/lib/python3.8/site-packages (from spacy<3.5.0,>=3.4.0->pt-core-news-sm==3.4.0) (2.0.8)\n",
      "Requirement already satisfied: typer<0.8.0,>=0.3.0 in /home/eddygiusepe/Documentos/Repasso_Python/venv_repasso/lib/python3.8/site-packages (from spacy<3.5.0,>=3.4.0->pt-core-news-sm==3.4.0) (0.7.0)\n",
      "Requirement already satisfied: tqdm<5.0.0,>=4.38.0 in /home/eddygiusepe/Documentos/Repasso_Python/venv_repasso/lib/python3.8/site-packages (from spacy<3.5.0,>=3.4.0->pt-core-news-sm==3.4.0) (4.64.1)\n",
      "Requirement already satisfied: cymem<2.1.0,>=2.0.2 in /home/eddygiusepe/Documentos/Repasso_Python/venv_repasso/lib/python3.8/site-packages (from spacy<3.5.0,>=3.4.0->pt-core-news-sm==3.4.0) (2.0.7)\n",
      "Requirement already satisfied: spacy-loggers<2.0.0,>=1.0.0 in /home/eddygiusepe/Documentos/Repasso_Python/venv_repasso/lib/python3.8/site-packages (from spacy<3.5.0,>=3.4.0->pt-core-news-sm==3.4.0) (1.0.3)\n",
      "Requirement already satisfied: langcodes<4.0.0,>=3.2.0 in /home/eddygiusepe/Documentos/Repasso_Python/venv_repasso/lib/python3.8/site-packages (from spacy<3.5.0,>=3.4.0->pt-core-news-sm==3.4.0) (3.3.0)\n",
      "Requirement already satisfied: packaging>=20.0 in /home/eddygiusepe/Documentos/Repasso_Python/venv_repasso/lib/python3.8/site-packages (from spacy<3.5.0,>=3.4.0->pt-core-news-sm==3.4.0) (21.3)\n",
      "Requirement already satisfied: pyparsing!=3.0.5,>=2.0.2 in /home/eddygiusepe/Documentos/Repasso_Python/venv_repasso/lib/python3.8/site-packages (from packaging>=20.0->spacy<3.5.0,>=3.4.0->pt-core-news-sm==3.4.0) (3.0.9)\n",
      "Requirement already satisfied: smart-open<6.0.0,>=5.2.1 in /home/eddygiusepe/Documentos/Repasso_Python/venv_repasso/lib/python3.8/site-packages (from pathy>=0.3.5->spacy<3.5.0,>=3.4.0->pt-core-news-sm==3.4.0) (5.2.1)\n",
      "Requirement already satisfied: typing-extensions>=4.1.0 in /home/eddygiusepe/Documentos/Repasso_Python/venv_repasso/lib/python3.8/site-packages (from pydantic!=1.8,!=1.8.1,<1.11.0,>=1.7.4->spacy<3.5.0,>=3.4.0->pt-core-news-sm==3.4.0) (4.4.0)\n",
      "Requirement already satisfied: certifi>=2017.4.17 in /home/eddygiusepe/Documentos/Repasso_Python/venv_repasso/lib/python3.8/site-packages (from requests<3.0.0,>=2.13.0->spacy<3.5.0,>=3.4.0->pt-core-news-sm==3.4.0) (2022.9.24)\n",
      "Requirement already satisfied: idna<4,>=2.5 in /home/eddygiusepe/Documentos/Repasso_Python/venv_repasso/lib/python3.8/site-packages (from requests<3.0.0,>=2.13.0->spacy<3.5.0,>=3.4.0->pt-core-news-sm==3.4.0) (3.4)\n",
      "Requirement already satisfied: charset-normalizer<3,>=2 in /home/eddygiusepe/Documentos/Repasso_Python/venv_repasso/lib/python3.8/site-packages (from requests<3.0.0,>=2.13.0->spacy<3.5.0,>=3.4.0->pt-core-news-sm==3.4.0) (2.1.1)\n",
      "Requirement already satisfied: urllib3<1.27,>=1.21.1 in /home/eddygiusepe/Documentos/Repasso_Python/venv_repasso/lib/python3.8/site-packages (from requests<3.0.0,>=2.13.0->spacy<3.5.0,>=3.4.0->pt-core-news-sm==3.4.0) (1.26.12)\n",
      "Requirement already satisfied: blis<0.8.0,>=0.7.8 in /home/eddygiusepe/Documentos/Repasso_Python/venv_repasso/lib/python3.8/site-packages (from thinc<8.2.0,>=8.1.0->spacy<3.5.0,>=3.4.0->pt-core-news-sm==3.4.0) (0.7.9)\n",
      "Requirement already satisfied: confection<1.0.0,>=0.0.1 in /home/eddygiusepe/Documentos/Repasso_Python/venv_repasso/lib/python3.8/site-packages (from thinc<8.2.0,>=8.1.0->spacy<3.5.0,>=3.4.0->pt-core-news-sm==3.4.0) (0.0.3)\n",
      "Requirement already satisfied: click<9.0.0,>=7.1.1 in /home/eddygiusepe/Documentos/Repasso_Python/venv_repasso/lib/python3.8/site-packages (from typer<0.8.0,>=0.3.0->spacy<3.5.0,>=3.4.0->pt-core-news-sm==3.4.0) (8.1.3)\n",
      "Requirement already satisfied: MarkupSafe>=2.0 in /home/eddygiusepe/Documentos/Repasso_Python/venv_repasso/lib/python3.8/site-packages (from jinja2->spacy<3.5.0,>=3.4.0->pt-core-news-sm==3.4.0) (2.1.1)\n",
      "\u001b[33mWARNING: You are using pip version 22.0.4; however, version 22.3.1 is available.\n",
      "You should consider upgrading via the '/home/eddygiusepe/Documentos/Repasso_Python/venv_repasso/bin/python -m pip install --upgrade pip' command.\u001b[0m\u001b[33m\n",
      "\u001b[0m\u001b[38;5;2m✔ Download and installation successful\u001b[0m\n",
      "You can now load the package via spacy.load('pt_core_news_sm')\n"
     ]
    }
   ],
   "source": [
    "!python -m spacy download pt_core_news_sm"
   ]
  },
  {
   "cell_type": "markdown",
   "metadata": {},
   "source": [
    "O modelo acima foi treinado usando o [Universal Dependencies (UD) Portuguese treebank](https://github.com/UniversalDependencies/UD_Portuguese-Bosque), além de ter a capacidade para se poder treinar o próprio modelo. Para mais detalhes ver o site do [spaCy](https://spacy.io/)."
   ]
  },
  {
   "cell_type": "code",
   "execution_count": 10,
   "metadata": {},
   "outputs": [],
   "source": [
    "import spacy\n",
    "\n",
    "nlp = spacy.load('pt_core_news_sm')"
   ]
  },
  {
   "cell_type": "markdown",
   "metadata": {},
   "source": [
    "## Tokens"
   ]
  },
  {
   "cell_type": "markdown",
   "metadata": {},
   "source": [
    "Primeiramente falar o que são os tokens. Existem duas maneiras de tokenizar um texto, a partir de palavras, e a partir de sentenças.\n",
    "\n",
    "No token de palavra é criado um array na qual cada elemento desse array é uma palavra."
   ]
  },
  {
   "cell_type": "code",
   "execution_count": 11,
   "metadata": {},
   "outputs": [
    {
     "data": {
      "text/plain": [
       "' O grupo já obtinha sucesso na televisão e no cinema desde meados da década de 1960'"
      ]
     },
     "execution_count": 11,
     "metadata": {},
     "output_type": "execute_result"
    }
   ],
   "source": [
    "texto = content.split(\".\")[1]\n",
    "texto"
   ]
  },
  {
   "cell_type": "markdown",
   "metadata": {},
   "source": [
    "E para tokenizar em palavras, fazemos:"
   ]
  },
  {
   "cell_type": "code",
   "execution_count": 12,
   "metadata": {},
   "outputs": [
    {
     "name": "stdout",
     "output_type": "stream",
     "text": [
      "[' ', 'O', 'grupo', 'já', 'obtinha', 'sucesso', 'na', 'televisão', 'e', 'no', 'cinema', 'desde', 'meados', 'da', 'década', 'de', '1960']\n"
     ]
    }
   ],
   "source": [
    "import pprint\n",
    "\n",
    "doc = nlp(texto)\n",
    "\n",
    "tokens = [tok.orth_ for tok in doc]\n",
    "pp = pprint.PrettyPrinter(width=200, compact=True)\n",
    "pp.pprint(tokens)"
   ]
  },
  {
   "cell_type": "markdown",
   "metadata": {},
   "source": [
    "Token de sentença é para quando se tem um texto contendo várias frases, e com isso o array ao invés de conter palavras, ele vai conter frases."
   ]
  },
  {
   "cell_type": "code",
   "execution_count": 38,
   "metadata": {},
   "outputs": [
    {
     "name": "stdout",
     "output_type": "stream",
     "text": [
      "['Os Trapalhões foi um programa de televisão humorístico brasileiro, criado por Wilton Franco e estrelado pelo quarteto cômico de mesmo nome, composto por Didi, Dedé, Mussum e Zacarias;', 'cada um desenvolveu uma persona cênica distinta.', 'O grupo já obtinha sucesso na televisão e no cinema desde meados da década de 1960.O programa estreou no ano de 1974, aos sábados, na Rede Tupi.', 'Em 13 de março de 1977, estrearam na TV Globo, antes do Fantástico.', 'Exibido aos domingos, o programa apresentava uma sucessão de esquetes entremeados sem aparente conexão, exceto a presença dos próprios.', 'Um dos maiores fenômenos de popularidade e audiência no Brasil em toda a história, o programa entrou para o Livro Guinness de Recordes Mundiais como o programa humorístico de maior duração da televisão, com trinta anos de exibição.', 'O primeiro filme deles, Na Onda do Iê-Iê-Iê (1966), contava apenas com a dupla Didi e Dedé.',\n",
      " 'Com o quarteto clássico, foram produzidos vinte e um filmes, começando com Os Trapalhões na Guerra dos Planetas (1978) até Uma Escola Atrapalhada (1990).', 'Mais de cento e vinte milhões de pessoas já assistiram aos filmes de Os Trapalhões, sendo que sete destes filmes estão na lista das dez maiores bilheterias do cinema brasileiro.', 'Em 2017, a Globo, em uma parceria com o Canal Viva produz um revival do programa, agora com seis trapalhões.', 'Além de Didi e Dedé, o programa apresenta os sobrinhos dos trapalhões originais', ': Didico, Dedeco, Mussa e Zaca.', 'Sem repetir o sucesso da versão original, foi descontinuado no mesmo ano devido à crítica e recepção negativa.', 'Em dezembro do mesmo ano, o canal anunciou reprises das temporadas antigas do programa, em janeiro de 2018.O programa era formulado por várias cenas de alguns minutos, em que tomavam parte situações cômicas dos protagonistas, às vezes com um deles, dois, três e mesmo com os quatro Trapalhões.',\n",
      " 'Os assuntos das cenas eram, por exemplo, os Trapalhões se opondo a inimigos ou a si mesmos em disputas (nas quais Didi e qualquer um dos três Trapalhões que estivessem do lado dele saíam vitoriosos em quase todas as vezes), eles pregando peças em outras pessoas e até em si mesmos e os quatro cooperando entre si mesmos para chegar a um objetivo comum.', 'Houve também, ao longo dos anos do programa, várias paródias de super-heróis tradicionais, como Super-Homem (frequentemente interpretado por Didi por causa de seu papel de líder), Batman (este mais interpretado por Dedé, devido ao seu papel de segundo em comando), Homem-Aranha, Fantasma, Hulk, etc.', 'Também houve, ao longo dos anos do programa, os Trapalhões mencionando a campanha em favor dos deficientes físicos e a favor do menor carente.', 'O exemplo, é a campanha Criança Esperança, que começou em 1985 como SOS Nordeste e depois em 1986, foi rebatizado num programa comemorativo de 20 anos dos Trapalhões.',\n",
      " 'Didi Mocó (Renato Aragão) :', 'Seu nome completo é Didi Mocó Sonrisal Colesterol Novalgino Mufumbbo, um esperto cearense com linguajar e aparência bastante cômicos, e que poucas vezes terminava as cenas com má sorte ou como perdedor, tanto enfrentando inimigos como seus próprios três companheiros.', 'Apesar de ser o líder do grupo, em certas cenas é considerado pelos seus três companheiros como o membro de menor importância.', 'Era apelidado de \"cardeal\" (por conta da tintura acobreada do cabelo de Renato a partir de 79), \"cearense\", \"troféu de corrida de jegue\", \"alegria do jabá\", \"cabecinha\" ou \"cabeça-chata\", referindo-se à sua condição de retirante nordestino.', 'Didi estrelou o humorístico \"', 'Os Adoráveis', 'Trapalhões\"Dedé', \"(Manfried Sant'Anna):\", 'O \"Galã da Periferia\", era o que agia com mais seriedade e considerado o cérebro do grupo e o mais valente dos quatro, sendo uma espécie de \"segundo no comando\".',\n",
      " 'Sua masculinidade era sempre ironizada por Didi, que criava apelidos como \"Divino\", \"rapaz alegre\" e \"audácia da pilombeta\".', 'Dedé estava no elenco de apoio do humorístico \"', 'Os Adoráveis Trapalhões\" até a fase da RecordTV em 1972, quando passou a ser definitivamente o escada do grupo.', 'Foi ele quem sugeriu a entrada de Mussum ao grupo.', 'A partir da década de 90, o personagem passou a ser comilão, devido ao aumento de peso de Dedé.', 'Mussum (Antônio Carlos Bernardes Gomes):', 'Um bem-humorado sambista carioca que tinha orgulho de dizer que era natural do Morro da Mangueira, uma favela do Rio de Janeiro.', 'Possuía um linguajar bastante peculiar, sempre empregando o \"is\" no final de quase todas as palavras, criando assim os bordões \"cacildis\" e \"forévis\".', 'Sua maior paixão é a cachaça, a qual ele chama de \"mé\" (\"mel\").',\n",
      " 'Devido ao fato de ser negro, era sempre alvo de piadas e apelidos, como ser chamado ironicamente de Maizena por Didi, ou mesmo \"azulão\", \"Mumu da Mangueira\" ou \"cromado\".', 'Faleceu em 29 de julho de 1994.', 'Dedé trouxe Mussum ao grupo, ao lado do Didi.', 'Mussum entrou no humorístico \"', 'Os Insociáveis\" na fase da RecordTV.Zacarias (Mauro Faccio Gonçalves):', 'Um tímido e ingênuo  mineirinho de Sete Lagoas com personalidade infantil, baixa estatura, uma risada inconfundível e voz bastante fina, como a de uma criança.', 'Por ser calvo, sempre usava uma peruca e entrava em desespero se esta fosse retirada de sua cabeça (geralmente por Didi), revelando sua calvície.', \"A partir de 1989, o personagem passou a ser chamado de Zacaria, sem o último 's'.\", 'O personagem estrelou o filme', 'Deu a Louca nas Mulheres em 1977.', 'Faleceu em 18 de março de 1990.',\n",
      " 'Renato trouxe Zacarias ao grupo, completando assim ao lado de Dedé Santana e Mussum, a formação mais famosa dos Trapalhões em 1974, no humorístico \"Os Trapalhões\" na Rede Tupi.', 'O principal elenco de coadjuvantes, devido aos vários anos nos quais participaram do programa, era.', 'Carlos Kurt (José Carlos Kunstat):', 'um homem louro, às vezes barbudo, intimidador, alto e com olhos enormes, que frequentemente representava vilões, valentões e outros personagens inimigos dos Trapalhões.', 'Era frequentemente apelidado por Didi como \"bode louro\", \"alumão\" (alemão) e \"macarrão de hospital\".', 'Teve grande participação no programa durante a década de 80, ao contrário da década de 90.', 'Faleceu em 2003.Conrado (Conrado Fernandes Antunes) :', 'Outro também tímido e alto mineiro com personalidade boa e madura  .  ', 'É romântico , extrovertido , alegre ,  brincalhão , apaixonado por várias garotas e muito sério .',\n",
      " 'Conrado também gosta muito de música porquê gosta de cantar e de tocar violão.', 'Roberto Guilherme (Edward Guilherme Nunes da Silva):', 'um homem grande, obeso e calvo que, assim como Carlos Kurt, também se destacou no programa interpretando papéis antagonistas.', 'Seu principal trabalho foi dar vida ao seu mais famoso personagem, o Sargento Pincel, que comandava os \"soldados\" Trapalhões num quartel de exército.', 'Roberto continuou a interpretar seu personagem ao lado de Renato Aragão e Dedé Santana em A Turma do Didi e Aventuras do Didi.', \"Muitos fãs o consideravam como o 'quinto Trapalhão'.\", \"Dino Santana (Ondino Sant'Anna):\", 'irmão de Dedé Santana.', 'Representava personagens anônimos e sem destaque, o que pode tornar difícil saber quem e como ele é.', 'Foi coadjuvante não só no programa dos Trapalhões até o ano final (1993), mas também em alguns filmes do quarteto, como Os Trapalhões e o Mágico de Oróz, no qual representou o personagem Beato do deserto.',\n",
      " 'Dino foi coadjuvante também no programa Dedé e o Comando Maluco, estrelado por seu irmão Dedé Santana.', 'Faleceu em 2010.Ted Boy Marino (Mario Marino):', 'um lutador de luta-livre com um cabelo bem similar ao do personagem He-Man e sotaque espanhol.', 'Faleceu em 2012.Tião Macalé (Augusto Temístocles da Silva Costa):', 'um dos mais famosos coadjuvantes.', 'Um homem negro com um sorriso sem-dentes, que quase sempre encerrava suas participações nas cenas com a frase \"Nojento!\", frase que o fez famoso no Brasil.', 'Faleceu em 1993.Felipe Levy (Philippe Charles Achille Levy):', 'outro homem obeso e calvo, frequentemente escolhido para interpretar papéis de chefia, não só nas cenas comuns mas também no quadro do quartel dos Trapalhões, onde atuava como coronel.', 'Por ter pele muito branca e ter cavanhaque, era às vezes chamado de \"queijo-com-barba\" por Didi.', 'Faleceu em 2008.Jorge Laffond (Jorge Luis Souza Lima):', 'um homem alto,negro e afeminado.',\n",
      " 'Participou principalmente dos quadros do quartel dos Trapalhões , interpretando o Soldado Divino, primo de Mussum e também do Trapa Hotel.', 'Faleceu em 2003.Mônica', 'Fraga Atuava', 'como coadjuvante em esquetesDuda', 'Esteves (Maria Eduarda Esteves e Alves) Atuava no quadro \"Trapa Hotel\".', 'Nos créditos finais a Duda Esteves estava como Duda ou Duda Little no elenco de apoio.', 'Alessandra Aguiar Participou dos quadros \"Trapa Hotel\" e \"Vila Vintém\"Aldro Cunha:', 'Um homem com pouco cabelo grisalho e gordo que sempre fazia os comerciantes Portugueses azarados que sempre levam calote dos Trapalhões, por exemplo: sorveteiro, quitandeiro, vendedor de cachorro quente e dono de boteco.', 'Outros coadjuvantes e convidados (participantes de alguns quadros), alguns com muitas participações, alguns deles foram:Houve também diversas homenagens a cantores no programa dos Trapalhões;',\n",
      " 'alguns deles foram: Ritchie, cantando sua música Transas; Joanna, com a sua Sonho a Dois; Sidney Magal, com algumas músicas, incluindo as Meu Sangue Ferve Por Você e Sandra Rosa Madalena;', 'Ney Matogrosso, com muitas músicas, destacando-se Pa-Ran-Pan-Pan,Bandido Corazón e Homem com H;', 'Caetano Veloso com Superbacana e', 'A Filha da Chiquita Bacana; e Marcos Valle com sua Estrelar.', 'Vários profissionais passaram a ser redatores e redatores finais dos programas dos trapalhões, alguns deles foram:1982-1984: Carlos A. de Nóbrega, Roberto Silveira, Wilson Vaz, Emanuel Rodrigues, Expedito Faggioni, Marco Serrate e Renato Aragão.',\n",
      " '1984-1985: Carlos A. de Nóbrega, Renato Aragão, Emanuel Rodrigues, Expedito Faggioni, Arnaud Rodrigues, Humberto Ribeiro, Mário Alimari, Nelson Batinga e Bráulio Tavares.1985-1986: Carlos Alberto Nóbrega, Roberto Silveira, Renato Aragão, Expedito Faggioni, Emanoel Rodrigues, Marcos César, Humberto Ribeiro e Geraldo Alves1986-1987: Carlos Alberto Nóbrega, Roberto Silveira, Renato Aragão, Expedito Faggioni, Emanoel Rodrigues, Humberto Ribeiro, Gugu Olimecha e Celso Magno (Baiaco), com redação final de Carlos Alberto Nóbrega e Roberto Silveira.1987-1988:', 'Alberto Dini, Emanoel Rodruigues, Expedito Faggioni, Francisco de Assis, Humberto Ribeiro, Lipe, Marcos César, Marcos Serrate, Renato Aragão e Sérgio Valezin, com redação final de Renato Aragão.1988-1989: Emanoel Rodrigues, Gilberto Fernandes, Gilberto Garcia, Humberto Ribeiro, Lipe, Mauro Wilson, Paulo de Andrade, Sérgio Valezim, Renato Aragão e Wilton Franco, com redação final de Wilton Franco e Renato Aragão.',\n",
      " '1989-1990:  Emanoel Rodrigues, Gilberto Fernandes, Gilberto Garcia, Humberto Ribeiro, Lipe, Mauro Wilson, Paulo de Andrade, Roberto Silveira, Sérgio Valezin, Walter Stuart, Renato Aragão e Wilton Franco, com redação final de Renato Aragão e Wilton Franco.1990-1991: Elisa Palatnik, Emanoel Rodrigues, Expedito Faggionni, Humberto Ribeiro, José Sampaio, Luiz Carlos Góes, Mário Tupinambá, Mauro Wilson, Papa Camargo, Paulo de Andrade, Paulo Duarte, Roberto Silveira e Rose Duarte, com redação final de Wilton Franco e Renato Aragão.1991-1992: Expedito Faggioni, Gugu Olimecha, Humberto Ribeiro, José Sampaio, Júlio Braz, Mauro Wilson, Paulo de Andrade, Paulo Duarte, Roberto Silveira, Rose Larrea e Wilson Vaz, com redação final de Wilton Franco e Renato Aragão.1992-1993: Redatores: Expedito Faggioni, Gilberto Fernandes, Humberto Ribeiro, Lipe, José Sampaio, Mauro Wilson, Paulo de Andrade, Paulo Duarte e Roberto Silveira, com redação final de Wilton Franco e Renato Aragão.1993-1994: Redação '\n",
      " 'Final: Mauro Wilson e João Motta, com redação de Aloísio de Abreu, Bráulio Tavares, Cláudia Souto, João Carlos Motta, Juca Filho, Lenine, Mané Jacó, Mauro Wilson, Mú Chebabi e Paulo de AndradeSua estreia ocorreu em 1966, na TV Excelsior de São Paulo, com o nome',\n",
      " 'Os Adoráveis Trapalhões.', 'Reunia na sua fórmula quatro tipos: o galã Wanderley Cardoso, o diplomata Ivon Cury, o estourado Ted Boy Marino e o palhaço Renato Aragão, o \"Didi Mocó\", além de Manfried Sant\\'Anna, o \"Dedé Santana\" e Roberto Guilherme, o eterno Sargento Pincel.', 'Com a saída de alguns desses integrantes, e a entrada do sambista participante de Os Originais do Samba Antônio Carlos Bernardes Gomes (o \"Mussum\") em 1972 e de Mauro Faccio Gonçalves (o \"Zacarias\") em 1976, consolidou-se o grupo que iria mais tarde tornar-se um dos quadros mais famosos da TV brasileira.', 'Na TV Record, estreando em 1972, o programa foi chamado de Os Insociáveis, o que desagradava Renato Aragão.', 'Ao passar para a TV Tupi em 1974, ele fez com que o nome de Os Trapalhões se fixasse como sendo o do grupo (também incluiu Zacarias, no lugar de Roberto Guilherme, que antes completava o quarteto como \"Beto\").',\n",
      " 'Ali, Os Trapalhões conseguiram maior audiência em seu horário do que o quase sempre líder de audiência Fantástico, na cidade de São Paulo.  ', 'Mas a antiga emissora já apresentava muitas dificuldades financeiras, o que trouxe inúmeros problemas aos artistas.', 'Finalmente, o programa foi para a TV Globo em 1977, onde conseguiu um sucesso duradouro até 1995, com reprises de 1996 até 1999.', 'Em 1977, o diretor de operações da TV Globo, José Bonifácio de Oliveira Sobrinho, o Boni, convidou os Trapalhões para levar seu programa para a emissora.', 'Renato Aragão conta que temia aceitar a proposta.  ', 'Afinal, na Tupi, ele tinha toda a liberdade para ser irreverente o quanto quisesse.', 'A Globo era conhecida pelo seu padrão de qualidade, e o humorista não tinha certeza se os Trapalhões se encaixariam nele.',\n",
      " 'Para não ter que recusar formalmente a proposta, ele chegou a fazer uma lista de exigências de três páginas na qual determinava quais seriam o diretor, redator e o horário do programa.', 'Para sua surpresa, Boni aceitou sem questionamentos as exigências.', 'Os Trapalhões mudaram, então, de emissora.', 'Depois de dois especiais exibidos dentro da faixa de programação Sexta super, às 21h, em janeiro e fevereiro, Os Trapalhões estreou em 13 de março de 1977, aos domingos, antes do Fantástico.', 'O programa apresentava uma sucessão de esquetes entremeados com números musicais, exibidos sem aparente conexão, exceto a presença dos próprios Trapalhões.', 'Um quadro mais longo, cheio de ação e diálogos, podia ser seguido por uma sucessão de gags visuais curtas e um quadro fixo como o Trapaswat, uma paródia do seriado americano SWAT.', 'O diretor Augusto César Vannucci citava as chanchadas e a comédia pastelão como principais referências, mas não havia um formato pré-estabelecido.',\n",
      " 'Segundo Renato Aragão, qualquer ideia podia virar um esquete a qualquer momento.', 'Ele conta que, certa vez, a caminho do estúdio, ouviu no rádio a canção Teresinha, de Chico Buarque.', 'Achou que a letra – a história de vários amores do ponto-de-vista de uma mulher – daria um quadro para Os Trapalhões.', 'Ao chegar ao Teatro Fênix, onde era gravado o programa, escreveu ele próprio o esquete e, no mesmo dia, gravou uma espécie de videoclipe satírico no qual o quarteto interpretava os personagens da música.', 'Foi a primeira de uma série de paródias de musicais que marcaram o humorístico.', 'Os Trapalhões também costumavam participar dos números dos cantores convidados.', 'Quando Ney Matogrosso foi ao programa, Didi estava trajando figurinos e maquiagem idênticos aos dele, por exemplo.', 'Situação parecida aconteceu em outras ocasiões com outros artistas, como Elba Ramalho e Tony Tornado.',\n",
      " 'O programa também tinha outros atores fixos que não faziam parte do quarteto principal: o hilariante Tião Macalé (que imortalizou o bordão \"Ih!', 'Nojento!\")', ', Jorge Lafond (que satirizava os homossexuais), Emil Rached (o gigante atrapalhado de 2,23 m), Carlos Kurt (o \"alemão\" de olhos esbugalhados e sempre mal-humorado), Felipe Levy (frequentemente no papel de \"chefe\" ou \"comandante\"), Roberto Guilherme (o eterno \"Sargento Pincel\", quase o quinto trapalhão, uma vez que acompanhou o grupo em toda sua trajetória), Dino Santanna (irmão de Dedé Santana),', 'o anão Quinzinho entre muitos outros.', 'Em 1982, o programa ganhava a direção de Osvaldo Loureiro, o público passou a assistir a gravação de alguns quadros no Teatro Fênix (Rio de Janeiro).', 'Em maio de 1983, o programa iniciou uma nova fase com Gracindo Júnior (direção) e Carlos Alberto de Nóbrega (redação).',\n",
      " 'Além dos tradicionais esquetes isolados, as comédias teatrais bastante conhecidas foram adaptadas para o humor do programa.', 'Shows eram gravados mensalmente com a participação do público.', 'Passaram também a ser incluídas gravações externas.', 'Ainda em 1983, foi exibida a campanha Nordeste Urgente até 1985.', 'Na redação de 1983, que além de Renato Aragão e Carlos Alberto de Nóbrega, estavam Roberto Silveira, Wilson Vaz, Emanoel Rodrigues, Expedito Faggioni e Marcos Serrate.=== Separação (1983) e a campanha SOS Nordeste ===', 'O programa passou por um período delicado quando os Trapalhões decidiram se separar.', 'Dedé, Mussum e Zacarias romperam com a Renato Aragão Produções, empresa que cuidava dos negócios do grupo, formaram sua própria empresa (Demuza) e optaram por seguir sozinhos na carreira cinematográfica e deixar o programa.', 'A separação durou cerca de seis meses, período em que Renato Aragão estrelou sozinho o programa.',\n",
      " 'A TV Globo exibiu uma programação especial dedicada aos nordestinos, com 12 horas de duração.', 'Renato Aragão apresentou a campanha SOS Nordeste e Os Trapalhões sem Dedé, Mussum e Zacarias, sendo que estes estavam no antigo programa humorístico \"', 'A Festa É Nossa\".', 'Sob direção de Paulo Araújo, em 1984, o quarteto teve uma renovação na linguagem visual para dar uma maior unidade, com a base do cenário sendo branca, mudando a cor apenas dos elementos de cena.', 'Passaram a ser usados pela primeira vez bordões pelo grupo (Acredite, mas não é;', 'Dez, nota dez).', 'Em 1985, os humoristas gravaram uma série de catorze episódios em Los Angeles.', 'A partir de 1986, Com direção geral de Walter Lacet, o programa começou a focar mais o público infantil, com quadros direcionados para essa faixa etária e uso dos efeitos especiais.', 'Em agosto do mesmo ano, Carlos Manga passa a dirigir o programa, fazendo quadros mais curtos e interligados uns aos outros.',\n",
      " 'No domingo, dia 28 de dezembro de 1986, os Trapalhões comemoraram 20 anos de carreira com um programa especial dedicado à Campanha do Menor Carente, que marcava o início de uma série de campanhas sociais que seriam exibidas pela TV Globo no decorrer do ano seguinte.', 'Transmitido ao vivo do Teatro Fênix, 20 Anos Trapalhões – Criança Esperança foi ao ar às 11h05 da manhã e se estendeu por nove horas.', 'Em cada um dos seus 28 blocos, fazia-se um balanço das doações da campanha e eram exibidas vinhetas sobre os direitos das crianças, entrevistas com convidados e documentários sobre experiências de apoio e recuperação de menores de rua.', 'A partir de então, a TV Globo passou a exibir anualmente o especial Criança Esperança.', 'No mesmo ano, a Globo exibiu um programa especial de vinte anos dos Trapalhões que ficou por nove horas no ar, com vinte e oito quadros e uma campanha dedicada ao menor e jovem carente.',\n",
      " 'O programa comemorativo 20 Anos Trapalhões  – Criança Esperança iniciou oficialmente e definitivamente a campanha do menor e do jovem carente de todo o Brasil, chamada Criança Esperança, organizada pela Unicef, então parceira da TV Globo durante 18 anos (1986-2003).', 'Antes, o Criança Esperança era chamado de SOS Nordeste, idealizado pelo próprio Renato Aragão.', 'Em 1987, ocorreram novas mudanças:', 'Maurício Tavares assumiu a direção geral e inseriu quadros inéditos, além de humorísticos musicais (com a presença de cantores convidados).', 'Em 1988, Wilton Franco assumiu a redação, redação final e direção geral do programa, que ganhou shows ao vivo com a participação do público e o público infantil passou a ganhar mais atenção, com brincadeiras, atrações e quadros voltados para esse público.', 'O quarteto ainda se tornou parte integrante do elenco do extinto programa de rádio', 'A Turma da Maré Mansa, transmitido pela Rádio Globo.',\n",
      " 'Nesse ano o novo quadro fixo, Quartel Trapalhão foi criado e tornou-se um grande sucesso.', 'Os soldados eram o quarteto, além de atores que participavam e provocavam o Sargento Pincel, interpretado por Roberto Guilherme.', 'Na equipe de redação de 1987 que além do humorista Renato Aragão, estavam Alberto Dini, Emanoel Rodruigues, Expedito Faggioni, Francisco de Assis, Humberto Ribeiro, Lipe, Marcos César, Marcos Serrate e Sérgio Valezin e na redação de 1988 que também além do humorista Renato Aragão com o diretor geral Wilton Franco estavam Emanoel Rodrigues, o ator Gibe, Gilberto Garcia, Humberto Ribeiro, Lipe, Mauro Wilson, Paulo de Andrade, Roberto Silveira e Sérgio Valezin.', 'Na redação de 1989 que também além do humorista Renato Aragão com o diretor geral Wilton Franco estavam Emanoel Rodrigues, o ator Gibe, Gilberto Garcia, Humberto Ribeiro, Lipe, Mauro Wilson, Paulo de Andrade, Roberto Silveira, Sérgio Valezin e Walter Stuart.=== Sem Zacarias (1990-1993) ===',\n",
      " 'No dia 18 de março de 1990, Zacarias morreu de insuficiência respiratória, antes do início da temporada do programa naquele ano.', 'Segundo Renato Aragão, o impacto da morte do companheiro por pouco não representou o fim do grupo.', 'Ele conta que, uma vez decidido que eles continuariam a trabalhar como forma de homenagear a memória de Zacarias, a estrutura dos Trapalhões precisou ser reinventada de forma a suprir a ausência do amigo.', 'De fato, a estreia da nova temporada foi atrasada para o dia 8 de abril.', 'A direção geral do programa continuava a ser de Wilton Franco e a supervisão de criação, que passou a ser de Chico Anysio, que trouxe mudanças significativas.', 'O humorístico passou a ser dividido em duas partes.', 'A primeira apresentava shows musicais e esquetes de humor em que Didi, Dedé e Mussum contracenavam com vários comediantes e convidados.',\n",
      " 'No mesmo ano, fazia a sua estreia no programa o cantor Conrado, que era o galã do grupo e ficou por três anos e 9 meses no programa.', 'Durante o programa ele engatou um relacionamento com a Paquita Andréia Sorvetão, que dura até hoje.', 'A segunda parte trazia sempre uma aventura passada no quadro Trapa Hotel.', 'Um estabelecimento meio decadente que tenta a todo custo se manter apesar das confusões do gerente Didi; do secretário de esportes e lazer Dedé e do segurança Mussum.', 'Os demais funcionários eram o cozinheiro Divino (Jorge Lafond), o carregador de bagagens Sorriso (Tião Macalé) e o diretor Batatinha (Roberto Guilherme).', 'A atriz mirim Duda Little tinha participação no quadro como filha adotiva e melhor amiga de Didi e passou a fazer parte do elenco de apoio, mesmo contracenando com vários comediantes e convidados.',\n",
      " 'Criado pela cenógrafa Leila Moreira, o cenário do Trapa Hotel - construído no Teatro Fênix – tinha dois andares, elevador panorâmico e porta de entrada giratória.', 'O Trapa Hotel continuou a ser exibido em 1991, mas a primeira parte do programa sofreu mudanças.', 'O palco do Teatro Fênix se transformou em um bairro típico de uma grande metrópole, com prédios altos, letreiros em néon, becos escuros, carros passando e muita fumaça.', 'Nesse cenário, cantores convidados se apresentavam e novos quadros fixos - como a Oficina dos Picaretas e O Filho do Computador, algumas das enquetes do ano anterior foram mantidas, como o anão Ananias, feito por Renato Aragão.', 'Na redação de 1990, estavam Elisa Palatnik, Emanoel Rodrigues, Expedito Faggionni, Gugu Olimecha, Humberto Ribeiro, José Sampaio, Luiz Carlos Góes, o comediante Mário Tupinambá, Mauro Wilson, Papa Camargo, Paulo de Andrade, Paulo Duarte, Roberto Silveira e Rose Duarte.',\n",
      " 'Na redação de 1991 estavam Expedito Faggioni, Gugu Olimecha, Humberto Ribeiro, José Sampaio, Júlio Braz, Mauro Wilson, Paulo de Andrade, Paulo Duarte, Roberto Silvera, Rose Larrea e Wilson Vaz.', 'A redação final do programa ficava a cargo do humorista Renato Aragão e do diretor geral Wilton Franco.', 'Chico Anysio continuava com a supervisão de criação.', 'No ano seguinte novos quadros, como a Oficina dos Picaretas e O Filho do Computador foram adicionados e o rap foi incorporado ao programa.', 'Maurício Sherman que retornava a emissora, passou a dirigir o programa, juntamente com Wilton Franco.', 'Em março de 1992, foi estreada a A Vila Vintém, que mostrava histórias passadas em uma rua de subúrbio, além da Agência Trapa Tudo.', 'Didi era o vagabundo \"Bonga\", personagem que já havia interpretado em filme dos anos 1970, e acolhia a menina \"', 'Tininha\" (Alessandra Aguiar), fugida de um orfanato – o primeiro quadro da dupla fez clara referência ao O garoto, de Charles Chaplin;',\n",
      " 'Dedé era o dono de uma oficina;', 'Mussum o mordomo de uma casa rica.', 'Na redação de 1992 estavam Expedito Faggioni, Gilberto Fernandes, Humberto Ribeiro, Lipe, José Sampaio, Mauro Wilson, Paulo de Andrade, Paulo Duarte e Roberto Silveira.', 'como em 1990 e 1991, a redação final ficou a cargo do humorista Renato Aragão e do saudoso diretor Wilton Franco.', \"Com a missão de renovar a linguagem d'Os Trapalhões, José Lavigne assumiu a direção geral em 1993 e promoveu modificações radicais no programa.\", 'A plateia foi abolida e os esquetes deixaram de ser pontuados pelas risadas da claque.', 'A primeira parte do programa trazia esquetes variados em que Didi, Dedé e Mussum contracenavam com o elenco do ano anterior.',\n",
      " 'Alguns desses esquetes eram fixos, como Os piratas, em que os Trapalhões, caracterizados como os próprios piratas, apareciam nas situações mais inusitadas, e também bastava Didi mencioná-la para aparecerem repentinamente uma multidão de piratas para atacar todos os presentes na cena.', 'A origem do quadro deu-se devido à frase OOS PIRATAAA!, que Didi repetia várias vezes durante as cenas da temporada de 1993, e que acabou dando origem ao quadro fixo, assim como criou outros quadros, como O Mestre (pronunciado do mesmo jeito de OOS PIRATA: OOO MESTRE!), que se passava em um templo onde Mussum era um velho mestre chinês e Didi era Bruce Lindo, seu aprendiz.', 'A redação final era de Mauro Wilson e depois João Motta, a colaboração foi do grupo Casseta & Planeta, os diretores assistentes eram Márcio Trigo e Paulo Aragão e a direção geral coube a José Lavigne.', 'A supervisão artística era de Maurício Sherman.',\n",
      " 'Na redação de 1993 estavam Aloísio de Abreu, Bráulio Tavares, Claudia Souto, João Carlos Motta, o ator Juca Filho, o cantor Lenine, Mané Jacó, Mauro Wilson, Mu Chebabi e Paulo de Andrade.', 'A segunda parte do programa, em 1993 era dedicada à comédia', 'Nos cafundós do brejo, escrita pelos humoristas do Casseta & Planeta e pelo dramaturgo Carlos Lombardi.', 'Com uma linguagem entre o sitcom e as histórias em quadrinhos, o quadro mostrava o cotidiano de Zé do Brejo, personagem de Renato Aragão, e sua vida numa fazenda caindo aos pedaços.', 'No elenco também estavam Alessandra Aguiar, Sérgio Mamberti, Chico Diaz, Letícia Spiller e Roberto Bomtempo.', 'Em 1996, os comediantes e humoristas Renato Aragão e Dedé Santana foram os apresentadores do 11° show especial do programa Criança Esperança, Os Trapalhões 30 Anos.', 'Esse especial reuniu parte de todo o grande elenco da Globo e artistas diversos.',\n",
      " 'O especial Criança Esperança, Os Trapalhões 30 Anos foi criado por Aloysio Legey, Paulo Netto e Mauro Monteiro, teve direção de Aloysio Legey e Paulo Netto e direção geral com núcleo de Aloysio Legey.', 'O especial também homenageou os 30 anos do grupo humorístico', 'Os Trapalhões, representados pelo trio humorístico Didi, Dedé e Sargento Pincel, respectivamente (Renato Aragão, Dedé Santana e Roberto Guilherme).', 'O programa humorístico e o grupo humorístico', 'Os Trapalhões seria extinto definitivamente em 1997.', 'No mesmo ano, a Globo exibiu um programa especial com os 30 anos dos Trapalhões, com 2 horas de duração.', 'Com direção geral e com núcleo de Aloysio Legey, direção de Aloysio Legey e Paulo Netto e criação de Aloysio Legey, Paulo Netto e Mauro Monteiro, o show Criança Esperança 96 trouxe uma homenagem emocionante aos 30 anos dos Trapalhões, com Renata Ceribelli, crianças e os atores Marcos Frota e Suzana Vieira.',\n",
      " 'Após várias discussões e debates na TV Globo, Dedé reergueu sua parceria com Renato no programa de televisão', 'A Turma do Didi, dirigido por Guto Franco.', 'O episódio foi transmitido no domingo, dia 22 de junho de 2008 e contou com a participação dos amigos juntos.', 'Após os momentos de nostalgia e brincadeiras entre a equipe técnica, que confirma que Didi ficou à vontade ao trabalhar com Dedé, o elenco surpreendeu-os com bolo e festa pela presença do humorista novamente na trupe.', 'Foram quase quinze anos de distância profissional ou pessoal, mas a amizade, dizem eles, continua a mesma.', 'Apesar de toda a alegria do reencontro, nenhuma menção ao extinto', 'Os Trapalhões foi feita.', '\"', 'Reviver o passado é muito duro para nós dois.', 'Não podemos fazer nenhuma referência; foi uma época de ouro, agora é outro trabalho, novos tempos\", explica Aragão, o Didi.',\n",
      " 'Em 2010, a série deu lugar a Aventuras do Didi, que manteve o mesmo formato e foi cancelada em fevereiro de 2013.Em 2014, Renato Aragão e Dedé Santana atuaram em Os Saltimbancos Trapalhões - O Musical,  montada por Charles Möeller e Claudio Botelho, a peça no entanto não é um remake do filme original, mas sim uma nova adaptação do musical', 'Os Saltimbancos de Sergio Bardotti e Luis Enríquez Bacalov, inspirado no conto', 'Os Músicos de Bremen, dos irmãos Grimm, que em 1977 ganhou uma versão brasileira e músicas adicionais de Chico Buarque.', 'No ano seguinte, foi confirmado um novo filme inspirada no musical, Os Saltimbancos Trapalhões: Rumo a Hollywood lançado em 2017, o filme não é um remake, mas sim de um reboot.',\n",
      " \"Em 2016, o Canal Viva anunciou a possibilidade de uma releitura de Os Trapalhões, nos moldes do remake da Escolinha do Professor Raimundo, lançado em 2015 Rodrigo Sant'Anna, Mussunzinho (filho do humorista Mussum), Tadeu Mello, Aílton Graça, Rafael Cortez  e Armando Babaioff.\", 'chegaram a ser cogitados como os \"Novos Trapalhões\", diferente da Escolinha, a série não é remake, mas sim um revival, os personagens serão sobrinhos dos personagens originais.', 'Renato Aragão é redator, Mauro Wilson é redator final e Ricardo Waddington será diretor geral de gênero.', 'O humorístico completa 40 anos no ar em 2017, quando estreou em 13 de março de 1977.', 'O primeiro ator confirmado foi Lucas Veloso (Filho do falecido humorista Shaolin), como Didico', ', logo se juntaram ao ator e confirmados o cantor Mumuzinho, como Mussa, o humorista ex-Pânico Gui Santana como Zaca e o ator Bruno Gissoni como Dedeco.', 'Também foi confirmado na direção Frederico Mayrink.',\n",
      " 'Dedé Santana chegou a recusar participar da nova versão devido a problemas de direitos autorais, mas voltou atrás e está confirmado assim como Nego do Borel, que estará como Tião, em homenagem a Tião Macalé.', 'O programa em Portugal contava apenas com Dedé Santana e Renato Aragão (Didi Mocó) e com a paricipação Roberto Guilherme.', 'Na versão produzida pela SIC a série não contava com Zacarias e Mussum, que já tinham falecido à altura.', 'Convidados pela SIC para repetirem a proeza que fizeram no Brasil, fizeram então \"', 'Os Trapalhões em Portugal\".', 'A série durou quatro anos, de 1995 a 1998.Para além de Didi e Dedé, o show também contava com alguns atores portugueses, como José Boavida, Carlos Sebastião, João Didelet, Raquel Almeida, Rita Aresta, Ana Luís e João Vaz.', 'O primeiro filme foi realizado em 1966 e contava apenas com a dupla Didi e Dedé.', 'Com a formação clássica (que contava ainda com Mussum e Zacarias) foram realizados vinte e três filmes, entre 1978 e 1990.',\n",
      " 'Mais de cento e vinte milhões de pessoas já assistiram a filmes de Os Trapalhões, sendo que sete filmes estão na lista dos dez mais vistos na história do cinema brasileiro.', 'São eles:4.º lugar –', 'O Trapalhão nas Minas do Rei Salomão de 1977,', 'com 5,8 milhões de espectadores5.º lugar –', 'Os Saltimbancos Trapalhões de 1981,', 'com 5 milhões6.º lugar –', 'Os Trapalhões na Guerra dos Planetas de 1978, com  5 milhões7.º lugar –', 'O Cinderelo Trapalhão de 1979, com 4,7 milhões8.º lugar –', 'Os Trapalhões na Serra Pelada de 1982, com 4,7 milhões9.º lugar –', 'O Casamento dos Trapalhões de 1988, com 4,5 milhões10.º lugar –', 'Os Vagabundos Trapalhões de 1982, com 4,4 milhõesVol.', 'I (1974)Volume 2 (1975)Os Trapalhões', 'Na TV (1979)Saltimbancos', 'Trapalhões', '\\u200e(1981)O', 'Forró dos Trapalhões (1981)Os Vagabundos Trapalhões (1982)Os Trapalhões', 'Na Serra Pelada (1982)O Cangaceiro Trapalhão (1983)Atrapalhando', 'A Suate (Compacto) (1983)O Trapalhão',\n",
      " 'Na Arca de Noé (1984)Os Trapalhões', 'E', 'O Mágico de Oróz (1984)Pintando', 'O', 'Sete (EMI) (1984)A Filha dos Trapalhões (Compacto) (1985)Os Trapalhões', 'No Reino da Fantasia (Compacto) (1985)Os Trapalhões', 'No Rabo do Cometa (1986)Os Trapalhões (1987)Os Trapalhões (1988)Amigos do Peito',\n",
      " '- 25 Anos dos Trapalhões (1991)Os Trapalhões (Portugal) (1995)Trapalhões E Seus Amigos (1996)O Trapalhão E A Luz Azul (1999)Didi & Sua Turma (2000)Ao longo de todos esses anos, fizeram parte do elenco de Os Trapalhões, entre muitos outros: Álvaro Aguiar, Apolo Correia, Andrea Veiga, Andréia Faria, Átila Iório, Anderson Müller, Angelito Mello, Augusto Olímpio, Aurimar Rocha, Alessandra Aguiar, Bia Seidl, Carlos Alberto de Nóbrega, Carlos Eduardo Dolabella, Carlos Koppa, Carlos Kroeber, Carlos Kurt, Carlos Leite, Catalano, Catita Soares, Celso Magno Hofacker Rossatto (Baiaco), Cláudio Lisboa, Colé Santana, Conrado, Cristina Mullins, Cristina Nunes, Darcy de Souza, Dary Reis, Dayse Benvolff, Denny Perrier, Dilma Lóes, Dino Santana, Duda Little, Eduardo Conde, Edna Velho, Eliana Araújo, Eliana Ovalle, Emil Rached, Elizângela, Érica Nunes, Esmeralda Barros, Felipe Levy, Felipe Wagner, Fernando Multedo, Fernando Reski, Floro José, Glória Costa, Glória Cristal, Gilliane, Humberto Freddy, '\n",
      " 'Iran Lima, Isaac Bardavid, Ivan Mesquita, Ivan Setta, Ivon Cury, Jandir Motta, Jece Valadão, João Carlos Barroso, Jorge Cherques, Jorge Lafond, Aldine Müller, Alfredo Murphy, Alexandre Régis, Adriana de Broux, Amândio, Anão Quinzinho, André Sabino, Antônio Carlos, Angelo Antônio, Antônio Pedro, Arthur Costa Filho, Ângela Vieira, Augusto Aloísio, Adalberto da Silva, Bené,Benvindo Sequeira, Berta Loran, Brandão Filho, Bruno Mazzeo, Castrinho, Christina Rocha, Older Cazarré, Chico Anysio,Cláudia Jimenez, Cláudia Savieto, Cleá Simões CostinhaDary Reis, Jorgeh Ramos, José Leonardo, José Augusto Branco, Jorge Cherques, Lady Francisco, Lúcio Mauro, Luiz Armando Queiróz, Marina Miranda, Márcia Cabrita, Marcelo Barauna, Mariette Detotto, Marilu Bueno, Marli Mendes, Marta Bianchi, Marta Pietro, Maurício do Valle, Mônica Fraga, Monique Evans, Monique Lafond, Narjara Turetta, Nelson Caruso, Orlando Drummond, Oberdan Júnior, Otávio Augusto, Olney Cazarré, Osmar Prado, Paulo Figueiredo, Paulo '\n",
      " 'Nolasco, Paulo Rodrigues, Pepita Rodrigues, Roberto Guilherme, Rogério Cardoso, Roberto Lee, Rossane Campos, Reginaldo Primo, Ruth de Souza, Sandoval Motta, Sandra Barsotti, Selma Lopes, Silvia Massari, Silvino Neto, Sônia Maria, Sônia Mamede, Ted Boy Marino, Terezinha Elisa, Tião Macalé, Tony Tornado, Waldemar Rocha, Walter Santos, Walter Stuart, Wanderley Cardoso, Wilson Grey, Xuxa Meneghel, Zezé Macedo e Zilda Cardoso.',\n",
      " 'Lunardelli, Fatimarley (30 de dezembro de 1995).', 'Ô', 'Psit!', 'o Cinema Popular dos Trapalhões (Capa comum).', '[S.l.]:', 'Artes e Ofícios.', '177 páginas.', 'ISBN 978-8-585-41866-3 Joly, Luís; Franco, Paulo (dezembro de 2007).', 'Adoráveis Trapalhões (Capa comum).', '[S.l.]:', 'Matrix.', 'ISBN 978-8-577-88021-8 Spaca, Rafael (2016).', 'O Cinema dos Trapalhões - Por Quem Fez e Por Quem Viu (Capa comum).', '[S.l.]:', 'Matrix.', '560 páginas.', 'ISBN 978-8-583-73101-6  Spaca, Rafael (15 de abril de 2017).', 'As HQs dos Trapalhões (Capa comum).', '[S.l.]:', 'Editora Estronho.', '192 páginas.', 'ISBN 978-8-594-58013-9.', 'Consultado em 13 de maio de 2019 «Trapalhões».', 'Viva', 'Os Trapalhões.', 'no IMDb.']\n"
     ]
    }
   ],
   "source": [
    "doc = nlp(content)\n",
    "\n",
    "sentences = [tok.text for tok in doc.sents]\n",
    "pp = pprint.PrettyPrinter(width=1000, compact=True)\n",
    "pp.pprint(sentences)"
   ]
  },
  {
   "cell_type": "markdown",
   "metadata": {},
   "source": [
    "Cada token gerado por sentença é separado por virgulas."
   ]
  },
  {
   "cell_type": "markdown",
   "metadata": {},
   "source": [
    "## Lemma"
   ]
  },
  {
   "cell_type": "markdown",
   "metadata": {},
   "source": [
    "Muitas vezes quando se trabalha com texto, palavras como por exemplo, `cachorro` ou `cachorros` tem teoricamente o mesmo significado para quando se for analisar um `texto em nlp`, e ter ambos deles acaba, em maior parte das vezes, mais atrapalhando do que ajudando.\n",
    "\n",
    "\n",
    "Existe duas maneiras de se lidar com isso, usando [stemização](https://pt.wikipedia.org/wiki/Stemiza%C3%A7%C3%A3o), que praticamente deixa a palavra somente com a `raiz/base` dela, <font color='yellow'>por exemplo:</font>\n",
    "\n",
    "<font color='orange'>correr e corrida seria mudado ambos para corr</font>\n",
    "\n",
    "e o `lemma`, que tenta deixar a palavra em seu radical, <font color='yellow'>por exemplo:</font>\n",
    "\n",
    "<font color='orange'>correr e corrida ambos seriam mudado para correr</font>\n",
    "\n",
    "\n",
    "Particularmente prefiro muito mais o lemma, por ser mais fácil de ser lido. Lógico, `como todos algoritmos pode existir um erro, o lemma não é exceção`, algumas palavras tem seu lemma errado pelo `spaCy`.\n",
    "\n",
    "A seguir vamos a extrair os Lemmas:"
   ]
  },
  {
   "cell_type": "code",
   "execution_count": 39,
   "metadata": {},
   "outputs": [
    {
     "data": {
      "text/plain": [
       "'Os Trapalhões foi um programa de televisão humorístico brasileiro, criado por Wilton Franco e estrelado pelo quarteto cômico de mesmo nome, composto por Didi, Dedé, Mussum e Zacarias; cada um desenvolveu uma persona cênica distinta'"
      ]
     },
     "execution_count": 39,
     "metadata": {},
     "output_type": "execute_result"
    }
   ],
   "source": [
    "texto = content.split('.')[0]\n",
    "texto"
   ]
  },
  {
   "cell_type": "code",
   "execution_count": 40,
   "metadata": {},
   "outputs": [
    {
     "name": "stdout",
     "output_type": "stream",
     "text": [
      "['o', 'Trapalhões', 'ser', 'um', 'programa', 'de', 'televisão', 'humorístico', 'brasileiro', ',', 'criar', 'por', 'Wilton', 'Franco', 'e', 'estrelar', 'por o', 'quarteto', 'cômico', 'de', 'mesmo', 'nome', ',', 'compor', 'por', 'Didi', ',', 'Dedé', ',', 'Mussum', 'e', 'Zacarias', ';', 'cada', 'um', 'desenvolver', 'um', 'persona', 'cênico', 'distinto']\n"
     ]
    }
   ],
   "source": [
    "doc = nlp(texto)\n",
    "x = [tok.lemma_ for tok in doc]\n",
    "\n",
    "pp.pprint(x)\n"
   ]
  },
  {
   "cell_type": "markdown",
   "metadata": {},
   "source": [
    "O pprint só foi usado para deixar o output em uma formatação melhor de se ver. Como pode ver o `spaCy` faz um bom trabalho extraindo o `lemma` das palavras, mas cuidado ao se usar, `tok.lemma` e `tok.lemma_` são diferentes, o primeiro ele retorna a `id` da palavra enquanto o segundo retorna a `palavra em si`. \n",
    "\n",
    "Observando o output já podemos ver algumas coisas **meio estranhas**, estrelado (`adjetivo`) foi substituído por estrelar(`verbo`), bem como programa (`substantivo`) foi trocado por programar(`verbo`), mas mesmo assim o resultado é muito bom. Na documentação do `spaCy` ele tem qual acc de algumas features."
   ]
  },
  {
   "cell_type": "markdown",
   "metadata": {},
   "source": [
    "## Part-Of-Speech Tagger (POS Tagger)"
   ]
  },
  {
   "cell_type": "markdown",
   "metadata": {},
   "source": [
    "O `POS-tagger` são as classes gramaticais das palavras, como `verbo`, `substantivo`, `adjetivo` e etc. `spaCy` também consegue extrair essas informações.\n",
    "\n",
    "Para mais exemplos fazer [click aqui](https://www.geeksforgeeks.org/python-pos-tagging-and-lemmatization-using-spacy/) e [Tagset: POS](http://lxcenter.di.fc.ul.pt/tools/en/LXTaggerEN.html)."
   ]
  },
  {
   "cell_type": "code",
   "execution_count": 41,
   "metadata": {},
   "outputs": [
    {
     "name": "stdout",
     "output_type": "stream",
     "text": [
      "Os DET\n",
      "Trapalhões PROPN\n",
      "foi AUX\n",
      "um DET\n",
      "programa NOUN\n",
      "de ADP\n",
      "televisão NOUN\n",
      "humorístico NOUN\n",
      "brasileiro ADJ\n",
      ", PUNCT\n",
      "criado VERB\n",
      "por ADP\n",
      "Wilton PROPN\n",
      "Franco PROPN\n",
      "e CCONJ\n",
      "estrelado VERB\n",
      "pelo ADP\n",
      "quarteto NOUN\n",
      "cômico ADJ\n",
      "de ADP\n",
      "mesmo ADJ\n",
      "nome NOUN\n",
      ", PUNCT\n",
      "composto VERB\n",
      "por ADP\n",
      "Didi PROPN\n",
      ", PUNCT\n",
      "Dedé PROPN\n",
      ", PUNCT\n",
      "Mussum PROPN\n",
      "e CCONJ\n",
      "Zacarias PROPN\n",
      "; PUNCT\n",
      "cada DET\n",
      "um NUM\n",
      "desenvolveu VERB\n",
      "uma DET\n",
      "persona NOUN\n",
      "cênica ADJ\n",
      "distinta VERB\n"
     ]
    }
   ],
   "source": [
    "doc = nlp(texto)\n",
    "\n",
    "# Token and Tag\n",
    "for token in doc:\n",
    "  print(token, token.pos_)\n"
   ]
  },
  {
   "cell_type": "code",
   "execution_count": 42,
   "metadata": {},
   "outputs": [
    {
     "name": "stdout",
     "output_type": "stream",
     "text": [
      "Verbs: ['criado', 'estrelado', 'composto', 'desenvolveu', 'distinta']\n"
     ]
    }
   ],
   "source": [
    "# You want list of Verb tokens\n",
    "print(\"Verbs:\", [token.text for token in doc if token.pos_ == \"VERB\"])"
   ]
  },
  {
   "cell_type": "markdown",
   "metadata": {},
   "source": [
    "## Árvore de dependência"
   ]
  },
  {
   "cell_type": "markdown",
   "metadata": {},
   "source": [
    "Árvore de dependência nos mostra como é a relação entre as palavras na frase."
   ]
  },
  {
   "cell_type": "code",
   "execution_count": 43,
   "metadata": {},
   "outputs": [
    {
     "data": {
      "text/plain": [
       " O grupo já obtinha sucesso na televisão e no cinema desde meados da década de 1960"
      ]
     },
     "execution_count": 43,
     "metadata": {},
     "output_type": "execute_result"
    }
   ],
   "source": [
    "from spacy import displacy\n",
    "\n",
    "doc = nlp(content.split(\".\")[1])\n",
    "doc"
   ]
  },
  {
   "cell_type": "code",
   "execution_count": 44,
   "metadata": {},
   "outputs": [
    {
     "data": {
      "text/html": [
       "<span class=\"tex2jax_ignore\"><svg xmlns=\"http://www.w3.org/2000/svg\" xmlns:xlink=\"http://www.w3.org/1999/xlink\" xml:lang=\"pt\" id=\"3513997082624b1583d3c50fc5757b82-0\" class=\"displacy\" width=\"900\" height=\"237.0\" direction=\"ltr\" style=\"max-width: none; height: 237.0px; color: #000000; background: #ffffff; font-family: Arial; direction: ltr\">\n",
       "<text class=\"displacy-token\" fill=\"currentColor\" text-anchor=\"middle\" y=\"147.0\">\n",
       "    <tspan class=\"displacy-word\" fill=\"currentColor\" x=\"50\"> </tspan>\n",
       "    <tspan class=\"displacy-tag\" dy=\"2em\" fill=\"currentColor\" x=\"50\">SPACE</tspan>\n",
       "</text>\n",
       "\n",
       "<text class=\"displacy-token\" fill=\"currentColor\" text-anchor=\"middle\" y=\"147.0\">\n",
       "    <tspan class=\"displacy-word\" fill=\"currentColor\" x=\"100\">O</tspan>\n",
       "    <tspan class=\"displacy-tag\" dy=\"2em\" fill=\"currentColor\" x=\"100\">DET</tspan>\n",
       "</text>\n",
       "\n",
       "<text class=\"displacy-token\" fill=\"currentColor\" text-anchor=\"middle\" y=\"147.0\">\n",
       "    <tspan class=\"displacy-word\" fill=\"currentColor\" x=\"150\">grupo</tspan>\n",
       "    <tspan class=\"displacy-tag\" dy=\"2em\" fill=\"currentColor\" x=\"150\">NOUN</tspan>\n",
       "</text>\n",
       "\n",
       "<text class=\"displacy-token\" fill=\"currentColor\" text-anchor=\"middle\" y=\"147.0\">\n",
       "    <tspan class=\"displacy-word\" fill=\"currentColor\" x=\"200\">já</tspan>\n",
       "    <tspan class=\"displacy-tag\" dy=\"2em\" fill=\"currentColor\" x=\"200\">ADV</tspan>\n",
       "</text>\n",
       "\n",
       "<text class=\"displacy-token\" fill=\"currentColor\" text-anchor=\"middle\" y=\"147.0\">\n",
       "    <tspan class=\"displacy-word\" fill=\"currentColor\" x=\"250\">obtinha</tspan>\n",
       "    <tspan class=\"displacy-tag\" dy=\"2em\" fill=\"currentColor\" x=\"250\">VERB</tspan>\n",
       "</text>\n",
       "\n",
       "<text class=\"displacy-token\" fill=\"currentColor\" text-anchor=\"middle\" y=\"147.0\">\n",
       "    <tspan class=\"displacy-word\" fill=\"currentColor\" x=\"300\">sucesso</tspan>\n",
       "    <tspan class=\"displacy-tag\" dy=\"2em\" fill=\"currentColor\" x=\"300\">NOUN</tspan>\n",
       "</text>\n",
       "\n",
       "<text class=\"displacy-token\" fill=\"currentColor\" text-anchor=\"middle\" y=\"147.0\">\n",
       "    <tspan class=\"displacy-word\" fill=\"currentColor\" x=\"350\">na</tspan>\n",
       "    <tspan class=\"displacy-tag\" dy=\"2em\" fill=\"currentColor\" x=\"350\">ADP</tspan>\n",
       "</text>\n",
       "\n",
       "<text class=\"displacy-token\" fill=\"currentColor\" text-anchor=\"middle\" y=\"147.0\">\n",
       "    <tspan class=\"displacy-word\" fill=\"currentColor\" x=\"400\">televisão</tspan>\n",
       "    <tspan class=\"displacy-tag\" dy=\"2em\" fill=\"currentColor\" x=\"400\">NOUN</tspan>\n",
       "</text>\n",
       "\n",
       "<text class=\"displacy-token\" fill=\"currentColor\" text-anchor=\"middle\" y=\"147.0\">\n",
       "    <tspan class=\"displacy-word\" fill=\"currentColor\" x=\"450\">e</tspan>\n",
       "    <tspan class=\"displacy-tag\" dy=\"2em\" fill=\"currentColor\" x=\"450\">CCONJ</tspan>\n",
       "</text>\n",
       "\n",
       "<text class=\"displacy-token\" fill=\"currentColor\" text-anchor=\"middle\" y=\"147.0\">\n",
       "    <tspan class=\"displacy-word\" fill=\"currentColor\" x=\"500\">no</tspan>\n",
       "    <tspan class=\"displacy-tag\" dy=\"2em\" fill=\"currentColor\" x=\"500\">ADP</tspan>\n",
       "</text>\n",
       "\n",
       "<text class=\"displacy-token\" fill=\"currentColor\" text-anchor=\"middle\" y=\"147.0\">\n",
       "    <tspan class=\"displacy-word\" fill=\"currentColor\" x=\"550\">cinema</tspan>\n",
       "    <tspan class=\"displacy-tag\" dy=\"2em\" fill=\"currentColor\" x=\"550\">NOUN</tspan>\n",
       "</text>\n",
       "\n",
       "<text class=\"displacy-token\" fill=\"currentColor\" text-anchor=\"middle\" y=\"147.0\">\n",
       "    <tspan class=\"displacy-word\" fill=\"currentColor\" x=\"600\">desde</tspan>\n",
       "    <tspan class=\"displacy-tag\" dy=\"2em\" fill=\"currentColor\" x=\"600\">ADP</tspan>\n",
       "</text>\n",
       "\n",
       "<text class=\"displacy-token\" fill=\"currentColor\" text-anchor=\"middle\" y=\"147.0\">\n",
       "    <tspan class=\"displacy-word\" fill=\"currentColor\" x=\"650\">meados</tspan>\n",
       "    <tspan class=\"displacy-tag\" dy=\"2em\" fill=\"currentColor\" x=\"650\">NOUN</tspan>\n",
       "</text>\n",
       "\n",
       "<text class=\"displacy-token\" fill=\"currentColor\" text-anchor=\"middle\" y=\"147.0\">\n",
       "    <tspan class=\"displacy-word\" fill=\"currentColor\" x=\"700\">da</tspan>\n",
       "    <tspan class=\"displacy-tag\" dy=\"2em\" fill=\"currentColor\" x=\"700\">ADP</tspan>\n",
       "</text>\n",
       "\n",
       "<text class=\"displacy-token\" fill=\"currentColor\" text-anchor=\"middle\" y=\"147.0\">\n",
       "    <tspan class=\"displacy-word\" fill=\"currentColor\" x=\"750\">década</tspan>\n",
       "    <tspan class=\"displacy-tag\" dy=\"2em\" fill=\"currentColor\" x=\"750\">NOUN</tspan>\n",
       "</text>\n",
       "\n",
       "<text class=\"displacy-token\" fill=\"currentColor\" text-anchor=\"middle\" y=\"147.0\">\n",
       "    <tspan class=\"displacy-word\" fill=\"currentColor\" x=\"800\">de</tspan>\n",
       "    <tspan class=\"displacy-tag\" dy=\"2em\" fill=\"currentColor\" x=\"800\">ADP</tspan>\n",
       "</text>\n",
       "\n",
       "<text class=\"displacy-token\" fill=\"currentColor\" text-anchor=\"middle\" y=\"147.0\">\n",
       "    <tspan class=\"displacy-word\" fill=\"currentColor\" x=\"850\">1960</tspan>\n",
       "    <tspan class=\"displacy-tag\" dy=\"2em\" fill=\"currentColor\" x=\"850\">NUM</tspan>\n",
       "</text>\n",
       "\n",
       "<g class=\"displacy-arrow\">\n",
       "    <path class=\"displacy-arc\" id=\"arrow-3513997082624b1583d3c50fc5757b82-0-0\" stroke-width=\"2px\" d=\"M105,102.0 C105,77.0 146.25,77.0 146.25,102.0\" fill=\"none\" stroke=\"currentColor\"/>\n",
       "    <text dy=\"1.25em\" style=\"font-size: 0.8em; letter-spacing: 1px\">\n",
       "        <textPath xlink:href=\"#arrow-3513997082624b1583d3c50fc5757b82-0-0\" class=\"displacy-label\" startOffset=\"50%\" side=\"left\" fill=\"currentColor\" text-anchor=\"middle\">det</textPath>\n",
       "    </text>\n",
       "    <path class=\"displacy-arrowhead\" d=\"M105,104.0 L97,92.0 113,92.0\" fill=\"currentColor\"/>\n",
       "</g>\n",
       "\n",
       "<g class=\"displacy-arrow\">\n",
       "    <path class=\"displacy-arc\" id=\"arrow-3513997082624b1583d3c50fc5757b82-0-1\" stroke-width=\"2px\" d=\"M155,102.0 C155,52.0 247.5,52.0 247.5,102.0\" fill=\"none\" stroke=\"currentColor\"/>\n",
       "    <text dy=\"1.25em\" style=\"font-size: 0.8em; letter-spacing: 1px\">\n",
       "        <textPath xlink:href=\"#arrow-3513997082624b1583d3c50fc5757b82-0-1\" class=\"displacy-label\" startOffset=\"50%\" side=\"left\" fill=\"currentColor\" text-anchor=\"middle\">nsubj</textPath>\n",
       "    </text>\n",
       "    <path class=\"displacy-arrowhead\" d=\"M155,104.0 L147,92.0 163,92.0\" fill=\"currentColor\"/>\n",
       "</g>\n",
       "\n",
       "<g class=\"displacy-arrow\">\n",
       "    <path class=\"displacy-arc\" id=\"arrow-3513997082624b1583d3c50fc5757b82-0-2\" stroke-width=\"2px\" d=\"M205,102.0 C205,77.0 246.25,77.0 246.25,102.0\" fill=\"none\" stroke=\"currentColor\"/>\n",
       "    <text dy=\"1.25em\" style=\"font-size: 0.8em; letter-spacing: 1px\">\n",
       "        <textPath xlink:href=\"#arrow-3513997082624b1583d3c50fc5757b82-0-2\" class=\"displacy-label\" startOffset=\"50%\" side=\"left\" fill=\"currentColor\" text-anchor=\"middle\">advmod</textPath>\n",
       "    </text>\n",
       "    <path class=\"displacy-arrowhead\" d=\"M205,104.0 L197,92.0 213,92.0\" fill=\"currentColor\"/>\n",
       "</g>\n",
       "\n",
       "<g class=\"displacy-arrow\">\n",
       "    <path class=\"displacy-arc\" id=\"arrow-3513997082624b1583d3c50fc5757b82-0-3\" stroke-width=\"2px\" d=\"M255,102.0 C255,77.0 296.25,77.0 296.25,102.0\" fill=\"none\" stroke=\"currentColor\"/>\n",
       "    <text dy=\"1.25em\" style=\"font-size: 0.8em; letter-spacing: 1px\">\n",
       "        <textPath xlink:href=\"#arrow-3513997082624b1583d3c50fc5757b82-0-3\" class=\"displacy-label\" startOffset=\"50%\" side=\"left\" fill=\"currentColor\" text-anchor=\"middle\">obj</textPath>\n",
       "    </text>\n",
       "    <path class=\"displacy-arrowhead\" d=\"M296.25,104.0 L304.25,92.0 288.25,92.0\" fill=\"currentColor\"/>\n",
       "</g>\n",
       "\n",
       "<g class=\"displacy-arrow\">\n",
       "    <path class=\"displacy-arc\" id=\"arrow-3513997082624b1583d3c50fc5757b82-0-4\" stroke-width=\"2px\" d=\"M355,102.0 C355,77.0 396.25,77.0 396.25,102.0\" fill=\"none\" stroke=\"currentColor\"/>\n",
       "    <text dy=\"1.25em\" style=\"font-size: 0.8em; letter-spacing: 1px\">\n",
       "        <textPath xlink:href=\"#arrow-3513997082624b1583d3c50fc5757b82-0-4\" class=\"displacy-label\" startOffset=\"50%\" side=\"left\" fill=\"currentColor\" text-anchor=\"middle\">case</textPath>\n",
       "    </text>\n",
       "    <path class=\"displacy-arrowhead\" d=\"M355,104.0 L347,92.0 363,92.0\" fill=\"currentColor\"/>\n",
       "</g>\n",
       "\n",
       "<g class=\"displacy-arrow\">\n",
       "    <path class=\"displacy-arc\" id=\"arrow-3513997082624b1583d3c50fc5757b82-0-5\" stroke-width=\"2px\" d=\"M255,102.0 C255,52.0 397.5,52.0 397.5,102.0\" fill=\"none\" stroke=\"currentColor\"/>\n",
       "    <text dy=\"1.25em\" style=\"font-size: 0.8em; letter-spacing: 1px\">\n",
       "        <textPath xlink:href=\"#arrow-3513997082624b1583d3c50fc5757b82-0-5\" class=\"displacy-label\" startOffset=\"50%\" side=\"left\" fill=\"currentColor\" text-anchor=\"middle\">obl</textPath>\n",
       "    </text>\n",
       "    <path class=\"displacy-arrowhead\" d=\"M397.5,104.0 L405.5,92.0 389.5,92.0\" fill=\"currentColor\"/>\n",
       "</g>\n",
       "\n",
       "<g class=\"displacy-arrow\">\n",
       "    <path class=\"displacy-arc\" id=\"arrow-3513997082624b1583d3c50fc5757b82-0-6\" stroke-width=\"2px\" d=\"M455,102.0 C455,52.0 547.5,52.0 547.5,102.0\" fill=\"none\" stroke=\"currentColor\"/>\n",
       "    <text dy=\"1.25em\" style=\"font-size: 0.8em; letter-spacing: 1px\">\n",
       "        <textPath xlink:href=\"#arrow-3513997082624b1583d3c50fc5757b82-0-6\" class=\"displacy-label\" startOffset=\"50%\" side=\"left\" fill=\"currentColor\" text-anchor=\"middle\">cc</textPath>\n",
       "    </text>\n",
       "    <path class=\"displacy-arrowhead\" d=\"M455,104.0 L447,92.0 463,92.0\" fill=\"currentColor\"/>\n",
       "</g>\n",
       "\n",
       "<g class=\"displacy-arrow\">\n",
       "    <path class=\"displacy-arc\" id=\"arrow-3513997082624b1583d3c50fc5757b82-0-7\" stroke-width=\"2px\" d=\"M505,102.0 C505,77.0 546.25,77.0 546.25,102.0\" fill=\"none\" stroke=\"currentColor\"/>\n",
       "    <text dy=\"1.25em\" style=\"font-size: 0.8em; letter-spacing: 1px\">\n",
       "        <textPath xlink:href=\"#arrow-3513997082624b1583d3c50fc5757b82-0-7\" class=\"displacy-label\" startOffset=\"50%\" side=\"left\" fill=\"currentColor\" text-anchor=\"middle\">case</textPath>\n",
       "    </text>\n",
       "    <path class=\"displacy-arrowhead\" d=\"M505,104.0 L497,92.0 513,92.0\" fill=\"currentColor\"/>\n",
       "</g>\n",
       "\n",
       "<g class=\"displacy-arrow\">\n",
       "    <path class=\"displacy-arc\" id=\"arrow-3513997082624b1583d3c50fc5757b82-0-8\" stroke-width=\"2px\" d=\"M405,102.0 C405,27.0 548.75,27.0 548.75,102.0\" fill=\"none\" stroke=\"currentColor\"/>\n",
       "    <text dy=\"1.25em\" style=\"font-size: 0.8em; letter-spacing: 1px\">\n",
       "        <textPath xlink:href=\"#arrow-3513997082624b1583d3c50fc5757b82-0-8\" class=\"displacy-label\" startOffset=\"50%\" side=\"left\" fill=\"currentColor\" text-anchor=\"middle\">conj</textPath>\n",
       "    </text>\n",
       "    <path class=\"displacy-arrowhead\" d=\"M548.75,104.0 L556.75,92.0 540.75,92.0\" fill=\"currentColor\"/>\n",
       "</g>\n",
       "\n",
       "<g class=\"displacy-arrow\">\n",
       "    <path class=\"displacy-arc\" id=\"arrow-3513997082624b1583d3c50fc5757b82-0-9\" stroke-width=\"2px\" d=\"M605,102.0 C605,77.0 646.25,77.0 646.25,102.0\" fill=\"none\" stroke=\"currentColor\"/>\n",
       "    <text dy=\"1.25em\" style=\"font-size: 0.8em; letter-spacing: 1px\">\n",
       "        <textPath xlink:href=\"#arrow-3513997082624b1583d3c50fc5757b82-0-9\" class=\"displacy-label\" startOffset=\"50%\" side=\"left\" fill=\"currentColor\" text-anchor=\"middle\">case</textPath>\n",
       "    </text>\n",
       "    <path class=\"displacy-arrowhead\" d=\"M605,104.0 L597,92.0 613,92.0\" fill=\"currentColor\"/>\n",
       "</g>\n",
       "\n",
       "<g class=\"displacy-arrow\">\n",
       "    <path class=\"displacy-arc\" id=\"arrow-3513997082624b1583d3c50fc5757b82-0-10\" stroke-width=\"2px\" d=\"M255,102.0 C255,2.0 650.0,2.0 650.0,102.0\" fill=\"none\" stroke=\"currentColor\"/>\n",
       "    <text dy=\"1.25em\" style=\"font-size: 0.8em; letter-spacing: 1px\">\n",
       "        <textPath xlink:href=\"#arrow-3513997082624b1583d3c50fc5757b82-0-10\" class=\"displacy-label\" startOffset=\"50%\" side=\"left\" fill=\"currentColor\" text-anchor=\"middle\">obl</textPath>\n",
       "    </text>\n",
       "    <path class=\"displacy-arrowhead\" d=\"M650.0,104.0 L658.0,92.0 642.0,92.0\" fill=\"currentColor\"/>\n",
       "</g>\n",
       "\n",
       "<g class=\"displacy-arrow\">\n",
       "    <path class=\"displacy-arc\" id=\"arrow-3513997082624b1583d3c50fc5757b82-0-11\" stroke-width=\"2px\" d=\"M705,102.0 C705,77.0 746.25,77.0 746.25,102.0\" fill=\"none\" stroke=\"currentColor\"/>\n",
       "    <text dy=\"1.25em\" style=\"font-size: 0.8em; letter-spacing: 1px\">\n",
       "        <textPath xlink:href=\"#arrow-3513997082624b1583d3c50fc5757b82-0-11\" class=\"displacy-label\" startOffset=\"50%\" side=\"left\" fill=\"currentColor\" text-anchor=\"middle\">case</textPath>\n",
       "    </text>\n",
       "    <path class=\"displacy-arrowhead\" d=\"M705,104.0 L697,92.0 713,92.0\" fill=\"currentColor\"/>\n",
       "</g>\n",
       "\n",
       "<g class=\"displacy-arrow\">\n",
       "    <path class=\"displacy-arc\" id=\"arrow-3513997082624b1583d3c50fc5757b82-0-12\" stroke-width=\"2px\" d=\"M655,102.0 C655,52.0 747.5,52.0 747.5,102.0\" fill=\"none\" stroke=\"currentColor\"/>\n",
       "    <text dy=\"1.25em\" style=\"font-size: 0.8em; letter-spacing: 1px\">\n",
       "        <textPath xlink:href=\"#arrow-3513997082624b1583d3c50fc5757b82-0-12\" class=\"displacy-label\" startOffset=\"50%\" side=\"left\" fill=\"currentColor\" text-anchor=\"middle\">nmod</textPath>\n",
       "    </text>\n",
       "    <path class=\"displacy-arrowhead\" d=\"M747.5,104.0 L755.5,92.0 739.5,92.0\" fill=\"currentColor\"/>\n",
       "</g>\n",
       "\n",
       "<g class=\"displacy-arrow\">\n",
       "    <path class=\"displacy-arc\" id=\"arrow-3513997082624b1583d3c50fc5757b82-0-13\" stroke-width=\"2px\" d=\"M805,102.0 C805,77.0 846.25,77.0 846.25,102.0\" fill=\"none\" stroke=\"currentColor\"/>\n",
       "    <text dy=\"1.25em\" style=\"font-size: 0.8em; letter-spacing: 1px\">\n",
       "        <textPath xlink:href=\"#arrow-3513997082624b1583d3c50fc5757b82-0-13\" class=\"displacy-label\" startOffset=\"50%\" side=\"left\" fill=\"currentColor\" text-anchor=\"middle\">case</textPath>\n",
       "    </text>\n",
       "    <path class=\"displacy-arrowhead\" d=\"M805,104.0 L797,92.0 813,92.0\" fill=\"currentColor\"/>\n",
       "</g>\n",
       "\n",
       "<g class=\"displacy-arrow\">\n",
       "    <path class=\"displacy-arc\" id=\"arrow-3513997082624b1583d3c50fc5757b82-0-14\" stroke-width=\"2px\" d=\"M755,102.0 C755,52.0 847.5,52.0 847.5,102.0\" fill=\"none\" stroke=\"currentColor\"/>\n",
       "    <text dy=\"1.25em\" style=\"font-size: 0.8em; letter-spacing: 1px\">\n",
       "        <textPath xlink:href=\"#arrow-3513997082624b1583d3c50fc5757b82-0-14\" class=\"displacy-label\" startOffset=\"50%\" side=\"left\" fill=\"currentColor\" text-anchor=\"middle\">nmod</textPath>\n",
       "    </text>\n",
       "    <path class=\"displacy-arrowhead\" d=\"M847.5,104.0 L855.5,92.0 839.5,92.0\" fill=\"currentColor\"/>\n",
       "</g>\n",
       "</svg></span>"
      ],
      "text/plain": [
       "<IPython.core.display.HTML object>"
      ]
     },
     "metadata": {},
     "output_type": "display_data"
    }
   ],
   "source": [
    "options = {\"compact\": False, \"distance\": 50, \"arrow_spacing\": 5}\n",
    "\n",
    "svg = displacy.render(doc, style=\"dep\", options=options)"
   ]
  },
  {
   "cell_type": "markdown",
   "metadata": {},
   "source": [
    "## Usos das features"
   ]
  },
  {
   "cell_type": "markdown",
   "metadata": {},
   "source": [
    "Como comentei acho spacy uma ferramenta muito poderosa. Vou mostrar algumas maneiras de extrair informação de texto usando o spacy. A primeira dela é o [matcher](https://spacy.io/api/matcher). O matcher é uma maneira de procurar palavras de acordo com regras. <font color=\"yellow\">Por exemplo:</font>\n",
    "\n",
    "Na `língua portuguesa` uma boa informação de se extrair, até para possivelmente usar para um bigram é extrair todos substantivos seguidos por adjetivos, spacy é bem simples conseguir fazer isso.\n",
    "\n",
    "\n"
   ]
  },
  {
   "cell_type": "code",
   "execution_count": 58,
   "metadata": {},
   "outputs": [
    {
     "name": "stdout",
     "output_type": "stream",
     "text": [
      "[humorístico brasileiro, quarteto cômico, persona cênica, programa humorístico, quarteto clássico, cinema brasileiro, trapalhões originais, versão original, recepção negativa, temporadas antigas, situações cômicas, objetivo comum, super-heróis tradicionais, deficientes físicos, programa comemorativo, nome completo, esperto cearense, alegre\", personalidade infantil, risada inconfundível, homem louro, olhos enormes, bode louro, personalidade boa, música porquê, homem grande, papéis antagonistas, personagens anônimos, ano final, personagem He-Man, sotaque espanhol, homem negro, sorriso sem-dentes, homem obeso, cenas comuns, homem alto, créditos finais, cabelo grisalho, comerciantes Portugueses, cachorro quente, redatores finais, redação final, redação final, redação final, redação final, redação final, redação final, redação final, Redação Final, TV brasileira, dificuldades financeiras, sucesso duradouro, programação Sexta, números musicais, gags visuais, quadro fixo, seriado americano,\n",
      " formato pré-estabelecido, videoclipe satírico, maquiagem idênticos, atores fixos, quarteto principal, \"alemão, comédias teatrais, gravações externas, carreira cinematográfica, programação especial, programa humorístico, linguagem visual, direção geral, público infantil, faixa etária, efeitos especiais, programa especial, campanhas sociais, ano seguinte, programa especial, programa comemorativo, jovem carente, direção geral, quadros inéditos, humorísticos musicais, redação final, direção geral, público infantil, parte integrante, quadro fixo, diretor geral, diretor geral, insuficiência respiratória, direção geral, mudanças significativas, shows musicais, aventura passada, estabelecimento meio, atriz mirim, filha adotiva, elevador panorâmico, entrada giratória, bairro típico, prédios altos, becos escuros, quadros fixos, ano anterior, redação final, diretor geral, ano seguinte, casa rica, redação final, linguagem d'Os, direção geral, modificações radicais, ano anterior, quadro fixo,\n",
      " mestre chinês, redação final, diretores assistentes, direção geral, supervisão artística, show especial, artistas diversos, direção geral, grupo humorístico, trio humorístico, programa humorístico, grupo humorístico, programa especial, direção geral, homenagem emocionante, amigos juntos, equipe técnica, distância profissional, filme original, versão brasileira, músicas adicionais, ano seguinte, personagens originais, redator final, diretor geral, direitos autorais, atores portugueses, formação clássica, cinema brasileiro, Capa comum, Capa comum, Capa comum, Capa comum]\n"
     ]
    }
   ],
   "source": [
    "from spacy.matcher import Matcher\n",
    "\n",
    "matcher = Matcher(nlp.vocab)\n",
    "pattern = [{\"POS\":\"NOUN\"},{\"POS\":\"ADJ\"}] # <- pattern a ser procurado\n",
    "\n",
    "matcher.add(\"matching_1\", [pattern])\n",
    "\n",
    "doc = nlp(content)\n",
    "matches = matcher(doc)\n",
    "\n",
    "x = []\n",
    "for match_id, start, end in matches:\n",
    "    string_id = nlp.vocab.strings[match_id] # Get string representation\n",
    "    span = doc[start:end]  # The matched span\n",
    "    x.append(span)\n",
    "pp.pprint(x)\n",
    "\n"
   ]
  },
  {
   "cell_type": "markdown",
   "metadata": {},
   "source": [
    "### A seguir outro exemplo para esclarecer o `MATCHER`"
   ]
  },
  {
   "cell_type": "code",
   "execution_count": 77,
   "metadata": {},
   "outputs": [],
   "source": [
    "import spacy\n",
    "from spacy.matcher import PhraseMatcher\n",
    "\n",
    "nlp = spacy.load(\"pt_core_news_sm\")\n",
    "phrase_matcher = PhraseMatcher(nlp.vocab)\n",
    "\n",
    "countries = [nlp.make_doc(text) for text in ['Canada', 'Estados unidos', 'México']]\n",
    "days = [nlp.make_doc(text) for text in ['segunda-feira', 'terça-feira', 'quarta-feira', 'quinta-feira',\n",
    "                                        'sexta-feira', 'sábado', 'domingo']]\n",
    "\n",
    "phrase_matcher.add(\"COUNTRIES\",None, *countries)\n",
    "phrase_matcher.add(\"DAYS\",None, *days)\n",
    "\n",
    "\n",
    "text = 'Na segunda-feira Eu viajarei para o Canada.'\n",
    "doc = nlp(text)\n",
    "matches = phrase_matcher(doc)\n"
   ]
  },
  {
   "cell_type": "code",
   "execution_count": 78,
   "metadata": {},
   "outputs": [
    {
     "data": {
      "text/plain": [
       "Na segunda-feira Eu viajarei para o Canada."
      ]
     },
     "execution_count": 78,
     "metadata": {},
     "output_type": "execute_result"
    }
   ],
   "source": [
    "doc"
   ]
  },
  {
   "cell_type": "code",
   "execution_count": 79,
   "metadata": {},
   "outputs": [
    {
     "data": {
      "text/plain": [
       "[(14900075562766503986, 1, 2), (2988880774438019688, 6, 7)]"
      ]
     },
     "execution_count": 79,
     "metadata": {},
     "output_type": "execute_result"
    }
   ],
   "source": [
    "matches"
   ]
  },
  {
   "cell_type": "code",
   "execution_count": 80,
   "metadata": {},
   "outputs": [
    {
     "name": "stdout",
     "output_type": "stream",
     "text": [
      "[segunda-feira, Canada]\n"
     ]
    }
   ],
   "source": [
    "y = []\n",
    "for match_id, start, end in matches:\n",
    "    string_id = nlp.vocab.strings[match_id] # Get string representation\n",
    "    span = doc[start:end]  # The matched span\n",
    "    y.append(span)\n",
    "pp.pprint(y)"
   ]
  },
  {
   "cell_type": "markdown",
   "metadata": {},
   "source": [
    "<font color=\"orange\">Pode-se ver que foram palavras interessantes que foram extraídas, que bem poderiam ser usadas como bigrams. \n",
    "\n",
    "Os pattern a serem criados para o `matcher` é bem variado, <font color=\"yellow\">por exemplo:</font>, se quero montar um pattern que de match tanto nas palavras `Achei o vinho bom` quanto `Achou a cerveja ruim`.</font>"
   ]
  },
  {
   "cell_type": "code",
   "execution_count": null,
   "metadata": {},
   "outputs": [],
   "source": [
    "pattern1 = [{\"POS\":\"VERB\"},{\"POS\":\"DET\"},{\"POS\":\"NOUN\"},{\"POS\":\"ADJ\"}]\n",
    "pattern2 = [{\"LEMMA\":\"achar\"},{\"LOWER\":{IN:[\"o\",\"a\"]}},{\"POS\":\"NOUN\"},{\"POS\":\"ADJ\"}]"
   ]
  },
  {
   "cell_type": "markdown",
   "metadata": {},
   "source": [
    "Ambos os pattern conseguirão dar match nas frases, se quiser extrair qualquer numero também `{\"LIKE_NUM\":True}`. \n",
    "\n",
    "\n",
    "Outra coisa interessante que se pode fazer com o matcher é, criar regras para cada categoria, por exemplo:"
   ]
  },
  {
   "cell_type": "code",
   "execution_count": 86,
   "metadata": {},
   "outputs": [
    {
     "name": "stdout",
     "output_type": "stream",
     "text": [
      "{'matching_1': [humorístico brasileiro, quarteto cômico, persona cênica, programa humorístico, quarteto clássico, cinema brasileiro, trapalhões originais, versão original, recepção negativa, temporadas antigas, situações cômicas, objetivo comum, super-heróis tradicionais, deficientes físicos, programa comemorativo, nome completo, esperto cearense, alegre\", personalidade infantil, risada inconfundível, homem louro, olhos enormes, bode louro, personalidade boa, música porquê, homem grande, papéis antagonistas, personagens anônimos, ano final, personagem He-Man, sotaque espanhol, homem negro, sorriso sem-dentes, homem obeso, cenas comuns, homem alto, créditos finais, cabelo grisalho, comerciantes Portugueses, cachorro quente, redatores finais, redação final, redação final, redação final, redação final, redação final, redação final, redação final, Redação Final, TV brasileira, dificuldades financeiras, sucesso duradouro, programação Sexta, números musicais, gags visuais, quadro fixo,\n",
      "                seriado americano, formato pré-estabelecido, videoclipe satírico, maquiagem idênticos, atores fixos, quarteto principal, \"alemão, comédias teatrais, gravações externas, carreira cinematográfica, programação especial, programa humorístico, linguagem visual, direção geral, público infantil, faixa etária, efeitos especiais, programa especial, campanhas sociais, ano seguinte, programa especial, programa comemorativo, jovem carente, direção geral, quadros inéditos, humorísticos musicais, redação final, direção geral, público infantil, parte integrante, quadro fixo, diretor geral, diretor geral, insuficiência respiratória, direção geral, mudanças significativas, shows musicais, aventura passada, estabelecimento meio, atriz mirim, filha adotiva, elevador panorâmico, entrada giratória, bairro típico, prédios altos, becos escuros, quadros fixos, ano anterior, redação final, diretor geral, ano seguinte, casa rica, redação final, linguagem d'Os, direção geral,\n",
      "                modificações radicais, ano anterior, quadro fixo, mestre chinês, redação final, diretores assistentes, direção geral, supervisão artística, show especial, artistas diversos, direção geral, grupo humorístico, trio humorístico, programa humorístico, grupo humorístico, programa especial, direção geral, homenagem emocionante, amigos juntos, equipe técnica, distância profissional, filme original, versão brasileira, músicas adicionais, ano seguinte, personagens originais, redator final, diretor geral, direitos autorais, atores portugueses, formação clássica, cinema brasileiro, Capa comum, Capa comum, Capa comum, Capa comum],\n",
      " 'matching_2': [Wilton Franco, Rede Tupi, Livro Guinness, Recordes Mundiais, Os Trapalhões, Uma Escola, Escola Atrapalhada, Os Trapalhões, Canal Viva, Criança Esperança, SOS Nordeste, Didi Mocó, Renato Aragão, Didi Mocó, Mocó Sonrisal, Sonrisal Colesterol, Colesterol Novalgino, Novalgino Mufumbbo, Manfried Sant'Anna, Divino\", Adoráveis Trapalhões, Antônio Carlos, Carlos Bernardes, Bernardes Gomes, Mauro Faccio, Faccio Gonçalves, Dedé Santana, Os Trapalhões, Rede Tupi, Carlos Kurt, José Carlos, Carlos Kunstat, Conrado Fernandes, Fernandes Antunes, Roberto Guilherme, Edward Guilherme, Guilherme Nunes, Carlos Kurt, Sargento Pincel, Renato Aragão, Dedé Santana, Dino Santana, Ondino Sant'Anna, Dedé Santana, Os Trapalhões, Comando Maluco, Dedé Santana, Boy Marino, Mario Marino, 2012.Tião Macalé, Augusto Temístocles, Silva Costa, 1993.Felipe Levy, Philippe Charles, Charles Achille, Achille Levy, 2008.Jorge Laffond, Jorge Luis, Luis Souza, Souza Lima, Soldado Divino, Trapa Hotel,\n",
      "                2003.Mônica Fraga, esquetesDuda Esteves, Maria Eduarda, Eduarda Esteves, Trapa Hotel, Duda Esteves, Duda Little, Alessandra Aguiar, Aguiar Participou, Trapa Hotel, Hotel\", Vila Vintém\"Aldro, Vintém\"Aldro Cunha, Sidney Magal, Meu Sangue, Sangue Ferve, Sandra Rosa, Rosa Madalena, Ney Matogrosso, Bandido Corazón, Caetano Veloso, Chiquita Bacana, Marcos Valle, Carlos A., Roberto Silveira, Wilson Vaz, Emanuel Rodrigues, Expedito Faggioni, Marco Serrate, Carlos A., Renato Aragão, Emanuel Rodrigues, Expedito Faggioni, Arnaud Rodrigues, Humberto Ribeiro, Mário Alimari, Nelson Batinga, Bráulio Tavares., Carlos Alberto, Alberto Nóbrega, Roberto Silveira, Renato Aragão, Expedito Faggioni, Emanoel Rodrigues, Marcos César, Humberto Ribeiro, Geraldo Alves1986-1987, Carlos Alberto, Alberto Nóbrega, Roberto Silveira, Renato Aragão, Expedito Faggioni, Emanoel Rodrigues, Humberto Ribeiro, Gugu Olimecha, Celso Magno, Carlos Alberto, Alberto Nóbrega, Roberto Silveira., Alberto Dini,\n",
      "                Emanoel Rodruigues, Expedito Faggioni, Humberto Ribeiro, Marcos César, Marcos Serrate, Renato Aragão, Sérgio Valezin, Renato Aragão., Emanoel Rodrigues, Gilberto Fernandes, Gilberto Garcia, Humberto Ribeiro, Mauro Wilson, Sérgio Valezim, Renato Aragão, Wilton Franco, Wilton Franco, Emanoel Rodrigues, Gilberto Fernandes, Gilberto Garcia, Humberto Ribeiro, Mauro Wilson, Roberto Silveira, Sérgio Valezin, Walter Stuart, Renato Aragão, Wilton Franco, Renato Aragão, Wilton Franco., Franco.1990-1991, Elisa Palatnik, Emanoel Rodrigues, Expedito Faggionni, Humberto Ribeiro, José Sampaio, Luiz Carlos, Carlos Góes, Mário Tupinambá, Mauro Wilson, Papa Camargo, Paulo Duarte, Roberto Silveira, Rose Duarte, Wilton Franco, Renato Aragão., Aragão.1991-1992, Expedito Faggioni, Gugu Olimecha, Humberto Ribeiro, José Sampaio, Júlio Braz, Mauro Wilson, Paulo Duarte, Roberto Silveira, Rose Larrea, Wilson Vaz, Wilton Franco, Expedito Faggioni, Gilberto Fernandes, Humberto Ribeiro,\n",
      "                José Sampaio, Mauro Wilson, Paulo Duarte, Roberto Silveira, Wilton Franco, Renato Aragão., Mauro Wilson, João Motta, Bráulio Tavares, Cláudia Souto, João Carlos, Carlos Motta, Juca Filho, Mané Jacó, Mauro Wilson, Mú Chebabi, TV Excelsior, São Paulo, Adoráveis Trapalhões, Wanderley Cardoso, Ivon Cury, Ted Boy, Boy Marino, Renato Aragão, Didi Mocó, Manfried Sant'Anna, Dedé Santana, Santana\", Roberto Guilherme, Sargento Pincel, Samba Antônio, Antônio Carlos, Carlos Bernardes, Bernardes Gomes, Mauro Faccio, Faccio Gonçalves, Os Insociáveis, Renato Aragão, TV Tupi, Os Trapalhões, Roberto Guilherme, São Paulo, TV Globo, José Bonifácio, Oliveira Sobrinho, Renato Aragão, Os Trapalhões, Augusto César, César Vannucci, Renato Aragão, Chico Buarque, Os Trapalhões, Teatro Fênix, Ney Matogrosso, Elba Ramalho, Tony Tornado, Tião Macalé, Jorge Lafond, Emil Rached, Carlos Kurt, Felipe Levy, Roberto Guilherme, Sargento Pincel, Dino Santanna, Dedé Santana, Osvaldo Loureiro, Teatro Fênix,\n",
      "                Gracindo Júnior, Carlos Alberto, Renato Aragão, Carlos Alberto, Roberto Silveira, Wilson Vaz, Emanoel Rodrigues, Expedito Faggioni, Marcos Serrate.===, Serrate.=== Separação, SOS Nordeste, Renato Aragão, Aragão Produções, Renato Aragão, Renato Aragão, SOS Nordeste, Os Trapalhões, Paulo Araújo, Los Angeles, Walter Lacet, Carlos Manga, Menor Carente, Teatro Fênix, Trapalhões –, – Criança, Criança Esperança, Criança Esperança, – Criança, Criança Esperança, Criança Esperança, Criança Esperança, SOS Nordeste, Renato Aragão, Maurício Tavares, Wilton Franco, Maré Mansa, Rádio Globo, Quartel Trapalhão, Sargento Pincel, Roberto Guilherme, Renato Aragão, Alberto Dini, Emanoel Rodruigues, Expedito Faggioni, Humberto Ribeiro, Marcos César, Marcos Serrate, Sérgio Valezin, Renato Aragão, Wilton Franco, Emanoel Rodrigues, Gilberto Garcia, Humberto Ribeiro, Mauro Wilson, Roberto Silveira, Sérgio Valezin, Renato Aragão, Wilton Franco, Emanoel Rodrigues, Gilberto Garcia,\n",
      "                Humberto Ribeiro, Mauro Wilson, Roberto Silveira, Sérgio Valezin, Walter Stuart.===, Stuart.=== Sem, Sem Zacarias, Renato Aragão, Wilton Franco, Chico Anysio, Paquita Andréia, Andréia Sorvetão, Trapa Hotel, Jorge Lafond, Tião Macalé, Roberto Guilherme, Duda Little, Leila Moreira, Trapa Hotel, Teatro Fênix, Trapa Hotel, Teatro Fênix, Renato Aragão, Elisa Palatnik, Emanoel Rodrigues, Expedito Faggionni, Gugu Olimecha, Humberto Ribeiro, José Sampaio, Luiz Carlos, Carlos Góes, Mário Tupinambá, Mauro Wilson, Papa Camargo, Paulo Duarte, Roberto Silveira, Rose Duarte, Expedito Faggioni, Gugu Olimecha, Humberto Ribeiro, José Sampaio, Júlio Braz, Mauro Wilson, Paulo Duarte, Roberto Silvera, Rose Larrea, Wilson Vaz, Renato Aragão, Wilton Franco, Chico Anysio, Maurício Sherman, Wilton Franco, Vila Vintém, Agência Trapa, Trapa Tudo, Alessandra Aguiar, Charles Chaplin, Expedito Faggioni, Gilberto Fernandes, Humberto Ribeiro, José Sampaio, Mauro Wilson, Paulo Duarte,\n",
      "                Roberto Silveira, Renato Aragão, Wilton Franco, José Lavigne, OOS PIRATAAA, OOS PIRATA, OOO MESTRE, Bruce Lindo, Mauro Wilson, João Motta, Casseta &, & Planeta, Márcio Trigo, Paulo Aragão, José Lavigne, Maurício Sherman, Bráulio Tavares, Claudia Souto, João Carlos, Carlos Motta, Juca Filho, Mané Jacó, Mauro Wilson, Mu Chebabi, Casseta &, & Planeta, Carlos Lombardi, Renato Aragão, Alessandra Aguiar, Sérgio Mamberti, Chico Diaz, Letícia Spiller, Roberto Bomtempo, Renato Aragão, Dedé Santana, Criança Esperança, Os Trapalhões, Criança Esperança, Os Trapalhões, Aloysio Legey, Paulo Netto, Mauro Monteiro, Aloysio Legey, Paulo Netto, Aloysio Legey, Os Trapalhões, Sargento Pincel, Renato Aragão, Dedé Santana, Roberto Guilherme, Aloysio Legey, Aloysio Legey, Paulo Netto, Aloysio Legey, Paulo Netto, Mauro Monteiro, Criança Esperança, Renata Ceribelli, Marcos Frota, Suzana Vieira, TV Globo, Guto Franco, Renato Aragão, Dedé Santana, Saltimbancos Trapalhões, Charles Möeller,\n",
      "                Claudio Botelho, Sergio Bardotti, Luis Enríquez, Enríquez Bacalov, Chico Buarque, Saltimbancos Trapalhões, Canal Viva, Os Trapalhões, Professor Raimundo, Rodrigo Sant'Anna, Tadeu Mello, Aílton Graça, Rafael Cortez, Armando Babaioff, Novos Trapalhões, Renato Aragão, Mauro Wilson, Ricardo Waddington, Lucas Veloso, ex-Pânico Gui, Gui Santana, Bruno Gissoni, Frederico Mayrink, Dedé Santana, Tião Macalé, Dedé Santana, Renato Aragão, Didi Mocó, Roberto Guilherme, Os Trapalhões, José Boavida, Carlos Sebastião, João Didelet, Raquel Almeida, Rita Aresta, Ana Luís, João Vaz, Os Trapalhões, Rei Salomão, Saltimbancos Trapalhões, Os Trapalhões, Cinderelo Trapalhão, Os Trapalhões, Serra Pelada, O Casamento, Vagabundos Trapalhões, 1979)Saltimbancos Trapalhões, Vagabundos Trapalhões, Serra Pelada, 1982)O Cangaceiro, Cangaceiro Trapalhão, 1984)A Filha, 1986)Os Trapalhões, 1991)Os Trapalhões, Seus Amigos, 1996)O Trapalhão, Luz Azul, 1999)Didi &, & Sua, Sua Turma, Os Trapalhões,\n",
      "                Álvaro Aguiar, Apolo Correia, Andrea Veiga, Andréia Faria, Átila Iório, Anderson Müller, Angelito Mello, Augusto Olímpio, Aurimar Rocha, Alessandra Aguiar, Bia Seidl, Carlos Alberto, Carlos Eduardo, Eduardo Dolabella, Carlos Koppa, Carlos Kroeber, Carlos Kurt, Carlos Leite, Catita Soares, Celso Magno, Magno Hofacker, Hofacker Rossatto, Cláudio Lisboa, Colé Santana, Cristina Mullins, Cristina Nunes, Dary Reis, Dayse Benvolff, Denny Perrier, Dilma Lóes, Dino Santana, Duda Little, Eduardo Conde, Edna Velho, Eliana Araújo, Eliana Ovalle, Emil Rached, Érica Nunes, Esmeralda Barros, Felipe Levy, Felipe Wagner, Fernando Multedo, Fernando Reski, Floro José, Glória Costa, Glória Cristal, Humberto Freddy, Iran Lima, Isaac Bardavid, Ivan Mesquita, Ivan Setta, Ivon Cury, Jandir Motta, Jece Valadão, João Carlos, Carlos Barroso, Jorge Cherques, Jorge Lafond, Aldine Müller, Alfredo Murphy, Alexandre Régis, Anão Quinzinho, André Sabino, Antônio Carlos, Angelo Antônio, Antônio Pedro,\n",
      "                Arthur Costa, Costa Filho, Ângela Vieira, Augusto Aloísio, Benvindo Sequeira, Berta Loran, Brandão Filho, Bruno Mazzeo, Christina Rocha, Older Cazarré, Chico Anysio, Cláudia Jimenez, Cláudia Savieto, Cleá Simões, Simões CostinhaDary, CostinhaDary Reis, Jorgeh Ramos, José Leonardo, José Augusto, Augusto Branco, Jorge Cherques, Lady Francisco, Lúcio Mauro, Luiz Armando, Armando Queiróz, Marina Miranda, Márcia Cabrita, Marcelo Barauna, Mariette Detotto, Marilu Bueno, Marli Mendes, Marta Bianchi, Marta Pietro, Mônica Fraga, Monique Evans, Monique Lafond, Narjara Turetta, Nelson Caruso, Orlando Drummond, Oberdan Júnior, Otávio Augusto, Olney Cazarré, Osmar Prado, Paulo Figueiredo, Paulo Nolasco, Paulo Rodrigues, Pepita Rodrigues, Roberto Guilherme, Rogério Cardoso, Roberto Lee, Rossane Campos, Reginaldo Primo, Sandoval Motta, Sandra Barsotti, Selma Lopes, Silvia Massari, Silvino Neto, Sônia Maria, Sônia Mamede, Ted Boy, Boy Marino, Terezinha Elisa, Tião Macalé, Tony Tornado,\n",
      "                Waldemar Rocha, Walter Santos, Walter Stuart, Wanderley Cardoso, Wilson Grey, Xuxa Meneghel, Zezé Macedo, Zilda Cardoso, Ô Psit, Cinema Popular, ISBN 978-8-585-41866-3, 978-8-585-41866-3 Joly, Adoráveis Trapalhões, Quem Fez, Quem Viu, Editora Estronho, ISBN 978-8-594-58013-9]}\n"
     ]
    }
   ],
   "source": [
    "from spacy.matcher import Matcher\n",
    "\n",
    "\n",
    "matcher = Matcher(nlp.vocab)\n",
    "pattern = [{\"POS\":\"NOUN\"},{\"POS\":\"ADJ\"}] # <- pattern a ser procurado\n",
    "matcher = Matcher(nlp.vocab)\n",
    " \n",
    "matcher.add(\"matching_1\", [pattern])\n",
    "\n",
    "pattern2 = [{\"POS\":\"PROPN\"},{\"POS\":\"PROPN\"}] # <- pattern a ser procurado\n",
    "\n",
    "matcher.add(\"matching_2\", [pattern2])\n",
    "doc = nlp(content)\n",
    "matches = matcher(doc)\n",
    "\n",
    "x = {}\n",
    "for match_id, start, end in matches:\n",
    "    string_id = nlp.vocab.strings[match_id] \n",
    "    span = doc[start:end]  # The matched span\n",
    "    if string_id in x.keys():\n",
    "        x[string_id].append(span)\n",
    "    else:\n",
    "        x[string_id] = []\n",
    "        x[string_id].append(span)\n",
    "\n",
    "pp.pprint(x)"
   ]
  },
  {
   "cell_type": "markdown",
   "metadata": {},
   "source": [
    "Mesmo pattern anterior, mas agora acrescento um outro pattern para todos nomes próprios seguidos por nomes próprios, uma chamando de `pattern1` e outra de `pattern2` respectivamente, que pode-se ver que ele separa cada pattern pelo nome dado. Essa é uma ferramenta muito poderosa para montar um `sistema de search baseado em regras`."
   ]
  },
  {
   "cell_type": "markdown",
   "metadata": {},
   "source": [
    "## Usando árvore de dependência"
   ]
  },
  {
   "cell_type": "markdown",
   "metadata": {},
   "source": [
    "Como foi mostrado na parte de `árvore de dependência`, ele mostra como as palavras estão relacionadas com relação a estrutura da frase. Usando árvore de dependência não obteremos `palavras-chaves` como no caso do matcher, mas sim um conjunto de palavras que `resumirão` cada sentença. Uma das melhores maneiras que observei para extrair essas informações é pegar a raiz da frase (`ROOT`), e todos os objetos e subjects, não entro em detalhes sobre o que cada um é porque gramática não é meu forte, e não conseguiria explicar bem. Mas enfim, como colocamos isso para funcionar, é bem simples.\n",
    "\n"
   ]
  },
  {
   "cell_type": "code",
   "execution_count": 105,
   "metadata": {},
   "outputs": [],
   "source": [
    "def subtree_matcher(sent):\n",
    "    doc = nlp(sent)\n",
    "    extraction = []\n",
    "\n",
    "    for i, tok in enumerate(doc):\n",
    "        if tok.dep_.endswith(\"subj\") == True:\n",
    "            extraction.append(tok.text)\n",
    "\n",
    "        if tok.dep_.endswith(\"obj\") == True:\n",
    "            extraction.append(tok.text)\n",
    "\n",
    "        if tok.dep_ in [\"ROOT\"]:\n",
    "            extraction.append(tok.text)\n",
    "\n",
    "    return extraction\n"
   ]
  },
  {
   "cell_type": "code",
   "execution_count": 108,
   "metadata": {},
   "outputs": [
    {
     "name": "stdout",
     "output_type": "stream",
     "text": [
      "[['Trapalhões', 'programa'], ['cada', 'desenvolveu', 'persona'], ['grupo', 'obtinha', 'sucesso'], ['estrearam'], ['programa', 'apresentava', 'sucessão'], ['programa', 'entrou'], ['filme', 'contava', 'dupla'], ['produzidos', 'Os'], ['vinte', 'assistiram', 'filmes', 'sete'], ['Globo', 'produz', 'revival'], ['programa', 'apresenta', 'sobrinhos'], ['Didico'], ['sucesso', 'descontinuado'], ['canal', 'anunciou', 'reprises', 'parte', 'situações', 'um'], ['assuntos', 'Trapalhões', 'opondo', 'inimigos', 'Didi', 'que', 'vitoriosos', 'eles', 'peças'], ['Houve', 'paródias'], ['houve', 'Trapalhões', 'campanha', 'deficientes', 'carente'], ['exemplo', 'campanha', 'que'], ['Didi'], ['nome', 'Didi', 'cenas', 'inimigos'], ['considerado'], ['apelidado', 'troféu', '\"', 'condição'], ['Didi', 'estrelou', 'humorístico'], ['Adoráveis'], ['Trapalhões\"Dedé'], ['Manfried'], ['Galã', 'o', 'que'], ['ironizada', 'que', 'Divino'], ['Dedé', 'elenco'], ['Adoráveis'], ['ele', 'quem', 'sugeriu', 'entrada'],\n",
      " ['personagem', 'passou'], ['Mussum'], ['que', 'orgulho', 'favela'], ['Possuía', '\"', 'is', 'bordões'], ['paixão', 'cachaça', 'qual', 'ele', 'mel'], ['alvo'], ['Faleceu'], ['Dedé', 'trouxe', 'Mussum'], ['Mussum', 'entrou'], ['Os'], ['tímido', 'mineirinho'], ['usava', 'peruca', 'calvície'], ['personagem', 'passou'], ['personagem', 'estrelou', 'filme'], ['Deu'], ['Faleceu'], ['Renato', 'trouxe', 'Zacarias', 'formação', '\"'], ['elenco', 'participaram'], ['Carlos'], ['homem', 'que', 'vilões'], ['apelidado', '\"', 'macarrão'], ['Teve', 'participação'], ['Faleceu'], ['tímido'], ['romântico'], ['Conrado', 'gosta', 'muito', 'violão'], ['Roberto'], ['homem', 'papéis'], ['trabalho', 'dar', 'vida', 'personagem', 'que', 'soldados'], ['Roberto', 'continuou', 'personagem', 'Turma'], ['fãs', 'o', 'consideravam'], ['Dino'], ['irmão'], ['Representava', 'personagens', 'que', 'quem'], ['programa', 'personagem'], ['Dino', 'coadjuvante'], ['Faleceu', 'Boy'], ['lutador'], ['Faleceu'], ['um'],\n",
      " ['homem', 'que', 'participações', 'que', 'o'], ['Faleceu', 'Levy'], ['homem', 'obeso', 'papéis', 'cenas'], ['ter', 'pele', 'cavanhaque', 'queijo-com-barba'], ['Faleceu', 'Laffond'], ['homem'], ['Participou', 'quadros', 'Soldado'], ['Faleceu'], ['Fraga'], ['coadjuvante'], ['Esteves', 'Atuava'], ['Duda', 'estava'], ['Alessandra', 'Vila'], ['homem', 'que', 'comerciantes', 'que', 'calote'], ['coadjuvantes', 'Houve', 'homenagens'], ['alguns', 'foram', 'música'], ['Ney', 'destacando-se', 'Pa-Ran-Pan-Pan'], ['Caetano', 'Superbacana'], ['Filha'], ['profissionais', 'passaram'], ['1984-1985', 'Carlos'], ['Alberto'], ['Redação', 'Mauro', 'ocorreu'], ['Adoráveis'], ['Reunia', 'tipos'], ['consolidou-se', 'grupo', 'que', 'tornar-se'], ['chamado', 'Os', 'que'], ['ele', 'fez', 'nome', 'Zacarias', 'que', 'quarteto'], ['Os', 'conseguiram', 'audiência'], ['emissora', 'apresentava', 'dificuldades', 'que', 'problemas'], ['programa', 'foi', 'sucesso'], ['diretor', 'convidou', 'Trapalhões', 'programa'],\n",
      " ['Renato', 'conta', 'proposta'], ['ele', 'tinha', 'liberdade', 'quanto'], ['conhecida', 'humorista', 'certeza', 'os', 'Trapalhões'], ['proposta', 'ele', 'chegou', 'lista', 'quais', 'diretor'], ['Boni', 'aceitou', 'exigências'], ['Trapalhões', 'mudaram'], ['Trapalhões', 'estreou'], ['programa', 'apresentava', 'sucessão'], ['podia'], ['diretor', 'citava', 'chanchadas', 'formato'], ['ideia', 'podia', 'esquete'], ['Ele', 'conta', 'canção'], ['Achou', 'letra', 'história', 'quadro'], ['programa', 'escreveu', 'ele', 'espécie', 'quarteto', 'personagens'], ['primeira', 'que', 'humorístico'], ['Trapalhões', 'costumavam', 'números'], ['Didi', 'trajando', 'figurinos'], ['Situação', 'aconteceu'], ['programa', 'tinha', 'atores', 'parte', 'que', 'bordão'], ['Nojento'], ['Jorge', 'que', 'homossexuais', 'grupo'], ['anão', 'Quinzinho'], ['programa', 'ganhava', 'direção', 'público', 'gravação'], ['programa', 'iniciou', 'fase'], ['adaptadas'], ['gravados', 'participação'], ['Passaram', 'gravações'],\n",
      " ['exibida'], ['redação', 'que'], ['programa', 'passou', 'período', 'Trapalhões', 'se'], ['Dedé', 'romperam', 'que', 'negócios', 'empresa', 'sozinhos', 'programa'], ['separação', 'durou', 'Renato', 'programa'], ['TV', 'exibiu', 'programação'], ['Renato', 'apresentou', 'campanha', 'estes'], ['Festa', 'Nossa'], ['quarteto', 'teve', 'renovação', 'unidade', 'cor', 'elementos'], ['Passaram'], ['nota'], ['humoristas', 'gravaram', 'série'], ['programa', 'começou', 'público'], ['Carlos', 'passa', 'programa', 'quadros', 'uns', 'outros'], ['Trapalhões', 'comemoraram', 'anos', 'Campanha', 'que', 'início'], ['Criança', 'foi'], ['fazia-se', 'balanço'], ['TV', 'passou', 'especial'], ['Globo', 'exibiu', 'programa', 'que'], ['programa', '–', 'Criança', 'campanha', 'Criança'], ['Criança', 'chamado'], ['ocorreram', 'mudanças'], ['Maurício', 'assumiu', 'direção', 'quadros'], ['Wilton', 'assumiu', 'redação', 'redação', 'que', 'shows', 'vivo', 'público', 'atenção', 'público'],\n",
      " ['quarteto', 'tornou', 'parte'], ['Turma'], ['quadro', 'sucesso'], ['soldados', 'quarteto', 'que', 'Sargento'], ['que', 'estavam', 'Alberto', 'ator'], ['redação', 'que'], ['Zacarias', 'morreu'], ['impacto', 'representou', 'fim'], ['Ele', 'conta', 'eles', 'memória', 'ausência'], ['atrasada'], ['direção', 'continuava', 'Wilton', 'que', 'mudanças'], ['humorístico', 'passou', 'partes'], ['primeira', 'apresentava', 'shows', 'Didi'], ['fazia', 'estreia', 'cantor', 'que'], ['ele', 'engatou', 'relacionamento', 'que'], ['parte', 'trazia', 'aventura'], ['estabelecimento', 'que'], ['funcionários', 'cozinheiro'], ['atriz', 'Little', 'tinha', 'participação', 'parte', 'comediantes'], ['–', 'tinha', 'andares'], ['Trapa', 'continuou', 'parte', 'mudanças'], ['palco', 'transformou', 'bairro'], ['cantores', 'apresentavam', 'algumas', 'Ananias'], ['Elisa', 'Emanoel', 'Mário'], ['Expedito'], ['redação', 'ficava', 'cargo'], ['Chico', 'continuava', 'supervisão'], ['adicionados'],\n",
      " ['Maurício', 'que', 'emissora', 'passou', 'programa'], ['estreada', 'que', 'histórias'], ['Didi', 'vagabundo', 'que', 'menina'], ['Tininha', 'quadro', 'fez', 'referência', 'garoto'], ['Dedé', 'dono'], ['Mussum', 'mordomo'], ['Expedito'], ['redação', 'ficou'], ['linguagem', 'José', 'assumiu', 'direção', 'modificações'], ['abolida', 'esquetes'], ['parte', 'trazia', 'esquetes', 'Didi', 'elenco'], ['Alguns', 'fixos', 'piratas', 'Trapalhões', 'Didi', 'mencioná-la', 'multidão', 'presentes'], ['origem', 'deu-se', 'Didi', 'que', 'origem', 'quadro', 'quadros', 'jeito', 'OOO', 'que', 'Mussum', 'Didi'], ['redação', 'Mauro', 'colaboração', 'diretores', 'coube'], ['supervisão', 'Maurício'], ['Aloísio'], ['dedicada'], ['cafundós'], ['quadro', 'mostrava', 'cotidiano', 'pedaços'], ['estavam', 'Alessandra'], ['comediantes', 'apresentadores'], ['especial', 'reuniu', 'parte'], ['teve', 'direção'], ['especial', 'homenageou', 'anos'], ['Os'], ['programa'], ['extinto'], ['Globo', 'exibiu', 'programa'],\n",
      " ['show', 'trouxe', 'homenagem'], ['Dedé', 'parceria'], ['dirigido'], ['transmitido', 'participação'], ['momentos', 'que', 'Didi', 'elenco'], ['anos', 'eles', 'continua', 'mesma'], ['menção'], ['feita'], ['\"'], ['Reviver', 'passado'], ['referência', 'explica', 'Aragão', 'Didi'], ['série', 'deu', 'lugar', 'Aventuras', 'que', 'formato', 'Musical', 'peça'], ['Saltimbancos'], ['Músicos', 'que', 'versão'], ['confirmado', 'filme', 'remake'], ['Canal', 'anunciou', 'possibilidade'], ['chegaram', 'série', 'personagens'], ['Renato', 'redator', 'Mauro', 'Ricardo'], ['humorístico', 'completa', 'anos'], ['ator', 'Lucas'], ['juntaram', 'cantor', 'humorista'], ['confirmado'], ['Dedé', 'chegou', 'versão', 'que'], ['programa', 'contava'], ['série', 'contava', 'Zacarias', 'que'], ['Convidados', 'proeza', 'que', 'fizeram'], ['Os'], ['série', 'durou', 'anos', 'show'], ['realizado', 'dupla'], ['que', 'Mussum', 'realizados'], ['vinte', 'assistiram', 'filmes', 'filmes'], ['eles:4.º'], ['Trapalhão'], ['5,8'],\n",
      " ['Saltimbancos'], ['milhões6.º'], ['Os'], ['Cinderelo', 'lugar'], ['Os'], ['Casamento'], ['Vagabundos'], ['I'], ['TV'], ['Trapalhões'], ['\\u200e(1981)O'], ['Forró'], ['Serra'], ['Suate', 'Trapalhão'], ['Arca', 'Trapalhões'], ['E'], ['Mágico'], ['O'], ['Sete'], ['Reino'], ['Rabo'], ['Anos', 'fizeram', 'parte', 'Carlos'], ['Lunardelli'], ['Ô'], ['Psit'], ['Cinema'], ['S.l'], ['Artes'], ['páginas'], ['ISBN'], ['Adoráveis'], ['S.l'], ['Matrix'], ['ISBN'], ['Cinema'], ['S.l'], ['Matrix'], ['páginas'], ['ISBN'], ['HQs'], ['S.l'], ['Editora'], ['páginas'], ['ISBN'], ['Consultado'], ['Viva'], ['Os'], ['IMDb']]\n"
     ]
    }
   ],
   "source": [
    "x = []\n",
    "\n",
    "for sent in sentences:\n",
    "    x.append(subtree_matcher(sent))\n",
    "\n",
    "pp.pprint(x)"
   ]
  },
  {
   "cell_type": "markdown",
   "metadata": {},
   "source": [
    "O `spaCy` acaba algumas vezes separando cada sentenças na virgula, porém algumas vezes existem dependência de uma palavra com outra que está após a virgula, no caso do `nltk` ele separa as sentenças depois do ponto."
   ]
  },
  {
   "cell_type": "code",
   "execution_count": 109,
   "metadata": {},
   "outputs": [
    {
     "name": "stdout",
     "output_type": "stream",
     "text": [
      "[['Trapalhões', 'programa', 'cada', 'desenvolveu', 'persona'], ['grupo', 'obtinha', 'sucesso'], ['estrearam'], ['programa', 'apresentava', 'sucessão'], ['programa', 'entrou'], ['filme', 'contava', 'dupla'], ['produzidos', 'Os'], ['vinte', 'assistiram', 'filmes', 'sete', 'Globo', 'produz', 'revival'], ['programa', 'apresenta', 'sobrinhos', 'Didico'], ['sucesso', 'descontinuado'], ['canal', 'anunciou', 'reprises', 'parte', 'situações', 'um'], ['assuntos', 'Trapalhões', 'opondo', 'inimigos', 'Didi', 'que', 'vitoriosos', 'eles', 'peças'], ['Houve', 'paródias'], ['houve', 'Trapalhões', 'campanha', 'deficientes', 'carente'], ['exemplo', 'campanha', 'que'], ['Didi', 'nome', 'Didi', 'cenas', 'inimigos'], ['considerado'], ['apelidado', 'troféu', '\"', 'condição'], ['Didi', 'estrelou', 'humorístico', 'Adoráveis', 'Trapalhões\"Dedé', 'Manfried', 'Galã', 'o', 'que'], ['ironizada', 'que', 'Divino'], ['Dedé', 'elenco'], ['ele', 'quem', 'sugeriu', 'entrada'],\n",
      " ['personagem', 'passou', 'Mussum', 'que', 'orgulho', 'favela'], ['Possuía', '\"', 'is', 'bordões'], ['paixão', 'cachaça', 'qual', 'ele', 'mel'], ['alvo'], ['Faleceu'], ['Dedé', 'trouxe', 'Mussum'], ['Mussum', 'entrou', 'Os', 'tímido', 'mineirinho'], ['usava', 'peruca', 'calvície'], ['personagem', 'passou'], ['personagem', 'estrelou', 'filme', 'Deu'], ['Faleceu'], ['Renato', 'trouxe', 'Zacarias', 'formação', '\"', 'elenco', 'era', 'Carlos', 'homem', 'que', 'vilões'], ['apelidado', '\"', 'macarrão'], ['Teve', 'participação'], ['Faleceu', 'tímido'], ['romântico'], ['Conrado', 'gosta', 'muito', 'violão', 'Roberto', 'homem', 'papéis'], ['trabalho', 'dar', 'vida', 'personagem', 'que', 'soldados'], ['Roberto', 'continuou', 'personagem', 'Turma'], ['fãs', 'o', 'consideravam', 'quinto', 'Dino', 'irmão'], ['Representava', 'personagens', 'que', 'quem', 'programa', 'personagem'], ['Dino', 'coadjuvante'], ['Faleceu', 'Boy', 'lutador'], ['Faleceu', 'um'], ['homem', 'que', 'participações'],\n",
      " ['\"', 'frase', 'que', 'o'], ['Faleceu', 'Levy', 'homem', 'obeso', 'papéis', 'cenas'], ['ter', 'pele', 'cavanhaque', 'queijo-com-barba'], ['Faleceu', 'Laffond', 'homem'], ['Participou', 'quadros', 'Soldado'], ['Faleceu', 'Fraga', 'coadjuvante', 'Esteves', 'Atuava'], ['Duda', 'estava', 'Alessandra', 'Vila', 'homem', 'que', 'comerciantes', 'que', 'calote', 'coadjuvantes', 'Houve', 'homenagens', 'alguns', 'foram', 'música', 'Ney', 'destacando-se', 'Pa-Ran-Pan-Pan', 'Caetano', 'Filha', 'profissionais', 'passaram', '1984-1985', 'Carlos', 'Alberto', '1988-1989', '1989-1990', 'Redação', 'Mauro', 'Adoráveis'], ['Reunia', 'tipos'], ['consolidou-se', 'grupo', 'que', 'tornar-se', 'chamado', 'Os', 'que'], ['ele', 'fez', 'nome', 'Zacarias', 'que', 'quarteto'], ['Os', 'conseguiram', 'audiência'], ['emissora', 'apresentava', 'dificuldades', 'que', 'problemas'], ['programa', 'foi', 'sucesso'], ['diretor', 'convidou', 'Trapalhões', 'programa'], ['Renato', 'conta', 'proposta'],\n",
      " ['ele', 'tinha', 'liberdade', 'quanto'], ['conhecida', 'humorista', 'certeza', 'os', 'Trapalhões'], ['proposta', 'ele', 'chegou', 'lista', 'quais', 'diretor'], ['Boni', 'aceitou', 'exigências'], ['Trapalhões', 'mudaram'], ['Trapalhões', 'estreou'], ['programa', 'apresentava', 'sucessão', 'podia'], ['diretor', 'citava', 'chanchadas', 'formato'], ['ideia', 'podia', 'esquete'], ['Ele', 'conta', 'canção'], ['Achou', 'letra', 'história', 'quadro'], ['programa', 'escreveu', 'ele', 'espécie', 'quarteto', 'personagens'], ['primeira', 'que', 'humorístico'], ['Trapalhões', 'costumavam', 'números'], ['Didi', 'trajando', 'figurinos'], ['Situação', 'aconteceu', 'programa', 'tinha', 'atores', 'parte', 'que', 'bordão'], ['Nojento'], ['\"', ')', 'Jorge', 'que', 'homossexuais', 'grupo', 'anão', 'Quinzinho', 'programa', 'ganhava', 'direção', 'público', 'gravação'], ['programa', 'iniciou', 'fase'], ['adaptadas'], ['gravados', 'participação'], ['Passaram', 'gravações'], ['exibida'],\n",
      " ['redação', 'que', 'programa', 'passou', 'período', 'Trapalhões', 'se'], ['Dedé', 'romperam', 'que', 'negócios', 'empresa', 'sozinhos', 'programa'], ['separação', 'durou', 'Renato', 'programa'], ['TV', 'exibiu', 'programação'], ['Renato', 'apresentou', 'campanha', 'estes', 'Festa', 'Nossa\"', 'quarteto', 'teve', 'renovação', 'unidade', 'cor', 'elementos'], ['Passaram', 'nota'], ['humoristas', 'gravaram', 'série'], ['programa', 'começou', 'público'], ['Carlos', 'passa', 'programa', 'quadros', 'uns', 'outros', 'Trapalhões', 'comemoraram', 'anos', 'Campanha', 'que', 'início'], ['Criança', 'foi'], ['fazia-se', 'balanço'], ['TV', 'passou', 'especial'], ['Globo', 'exibiu', 'programa', 'que'], ['programa', '–', 'Criança', 'campanha', 'Criança'], ['Criança', 'chamado', 'ocorreram', 'mudanças', 'Maurício', 'assumiu', 'direção', 'quadros'], ['Wilton', 'assumiu', 'redação', 'redação', 'que', 'shows', 'vivo', 'público', 'atenção', 'público'], ['quarteto', 'tornou', 'parte', 'Turma'],\n",
      " ['quadro', 'sucesso'], ['soldados', 'quarteto', 'que', 'Sargento'], ['que', 'estavam', 'Alberto', 'ator'], ['que', 'Zacarias', 'morreu'], ['impacto', 'representou', 'fim'], ['Ele', 'conta', 'eles', 'memória', 'ausência'], ['atrasada'], ['direção', 'continuava', 'Wilton', 'que', 'mudanças'], ['humorístico', 'passou', 'partes'], ['primeira', 'apresentava', 'shows', 'Didi'], ['fazia', 'estreia', 'cantor', 'que'], ['ele', 'engatou', 'relacionamento', 'que', 'parte', 'trazia', 'aventura'], ['estabelecimento', 'que'], ['funcionários', 'cozinheiro'], ['atriz', 'Little', 'tinha', 'participação', 'parte', 'comediantes'], ['–', 'tinha', 'andares'], ['Trapa', 'continuou', 'parte', 'mudanças'], ['palco', 'transformou', 'bairro'], ['cantores', 'apresentavam', 'algumas', 'Ananias'], ['Elisa', 'Emanoel', 'Mário'], ['Expedito'], ['redação', 'ficava', 'cargo'], ['Chico', 'continuava', 'supervisão'], ['adicionados'], ['Maurício', 'que', 'emissora', 'passou', 'programa', 'estreada', 'que', 'histórias'],\n",
      " ['Didi', 'vagabundo', 'que', 'menina', 'Tininha', 'orfanato', 'quadro', 'fez', 'referência', 'Dedé', 'dono', 'Mussum', 'mordomo'], ['Expedito'], ['redação', 'ficou', 'linguagem', 'José', 'assumiu', 'direção', 'modificações'], ['abolida', 'esquetes'], ['parte', 'trazia', 'esquetes', 'Didi', 'elenco'], ['Alguns', 'fixos', 'piratas', 'Trapalhões', 'Didi', 'mencioná-la', 'multidão', 'presentes'], ['origem', 'deu-se', 'Didi', 'que', 'origem', 'quadro', 'quadros', 'jeito', 'OOO'], [')', 'que', 'passava', 'Mussum', 'Didi'], ['redação', 'Mauro', 'colaboração', 'diretores', 'coube'], ['supervisão', 'Maurício'], ['Aloísio', 'parte', 'dedicada', 'cafundós'], ['quadro', 'mostrava', 'cotidiano', 'pedaços'], ['estavam', 'Alessandra', 'comediantes', 'apresentadores'], ['especial', 'reuniu', 'parte'], ['teve', 'direção'], ['especial', 'homenageou', 'anos', 'Os'], ['programa', 'extinto'], ['Globo', 'exibiu', 'programa'], ['show', 'trouxe', 'homenagem', 'Dedé', 'parceria', 'dirigido'],\n",
      " ['transmitido', 'participação'], ['momentos', 'que', 'Didi', 'elenco'], ['anos', 'eles', 'continua', 'mesma'], ['menção', 'feita'], ['\"', 'Reviver', 'passado'], ['referência', 'explica', 'Aragão', 'Didi'], ['série', 'deu', 'lugar', 'Aventuras', 'que', 'formato', 'Musical', 'peça', 'Saltimbancos', 'Músicos', 'que', 'versão'], ['confirmado', 'filme', 'remake', 'Canal', 'anunciou', 'possibilidade'], ['chegaram', 'série', 'personagens', 'Renato', 'redator', 'Mauro', 'Ricardo'], ['humorístico', 'completa', 'anos'], ['ator', 'Lucas', 'juntaram', 'cantor', 'humorista'], ['confirmado'], ['Dedé', 'chegou', 'versão', 'que', 'programa', 'contava', 'série', 'contava', 'Zacarias', 'que', 'Convidados', 'proeza', 'que', 'fizeram', 'Os'], ['série', 'durou', 'anos', 'show', 'realizado', 'dupla'], ['que', 'Mussum', 'realizados'], ['vinte', 'assistiram', 'filmes', 'filmes'], ['eles:4.º', 'Trapalhão', '5,8', 'Saltimbancos', 'lugar', '–', 'Os', 'Cinderelo', 'lugar', 'Os', 'Casamento', '–', 'Vagabundos'],\n",
      " ['I', 'TV', 'Trapalhões', '\\u200e(1981)O', 'Forró', 'Serra', 'Suate', 'Arca', 'E', 'Mágico', 'O', 'Sete', 'Reino', 'Rabo', 'Anos', 'fizeram', 'parte', 'Carlos', 'Lunardelli'], ['Ô'], ['Cinema'], ['S.l'], [']', 'Artes'], ['páginas'], ['ISBN'], ['Adoráveis'], ['S.l'], [']', 'Matrix'], ['ISBN'], ['Cinema'], ['S.l'], [']', 'Matrix'], ['páginas'], ['ISBN'], ['HQs'], ['S.l'], [']', 'Editora'], ['páginas'], ['ISBN'], ['Consultado'], ['Viva', 'Trapalhões'], ['IMDb']]\n"
     ]
    }
   ],
   "source": [
    "from nltk.tokenize import sent_tokenize\n",
    "\n",
    "sent_text = sent_tokenize(content)\n",
    "\n",
    "x = []\n",
    "for sent in sent_text:\n",
    "    x.append(subtree_matcher(sent))\n",
    "\n",
    "pp.pprint(x)"
   ]
  },
  {
   "cell_type": "markdown",
   "metadata": {},
   "source": [
    "Nesse caso cada `array` corresponde a um conjunto de palavras de cada sentença, que, em alguns casos, se consegue entender o sentido da frase somente com poucas palavras."
   ]
  }
 ],
 "metadata": {
  "kernelspec": {
   "display_name": "Python 3.8.13 ('venv_repasso': venv)",
   "language": "python",
   "name": "python3"
  },
  "language_info": {
   "codemirror_mode": {
    "name": "ipython",
    "version": 3
   },
   "file_extension": ".py",
   "mimetype": "text/x-python",
   "name": "python",
   "nbconvert_exporter": "python",
   "pygments_lexer": "ipython3",
   "version": "3.8.13"
  },
  "orig_nbformat": 4,
  "vscode": {
   "interpreter": {
    "hash": "cbbafe9b4d27f1a54c71cc0b076f18a0914c7fba812b9ed6e564e8656f6468de"
   }
  }
 },
 "nbformat": 4,
 "nbformat_minor": 2
}

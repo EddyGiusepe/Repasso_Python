{
 "cells": [
  {
   "cell_type": "markdown",
   "metadata": {},
   "source": [
    "<h1 align=\"center\">How to Clean Text for Machine Learning with Python</h1>"
   ]
  },
  {
   "cell_type": "markdown",
   "metadata": {},
   "source": [
    "Data Scientist.: Dr.Eddy Giusepe Chirinos Isidro"
   ]
  },
  {
   "cell_type": "markdown",
   "metadata": {},
   "source": [
    "É bem sabido que você não pode ir direto do texto bruto para o ajuste de um modelo de `aprendizado de máquina` ou `aprendizado profundo`.\n",
    "\n",
    "Você deve limpar seu texto primeiro, o que significa dividi-lo em palavras e lidar com pontuação e maiúsculas e minúsculas.\n",
    "\n",
    "Na verdade, há todo um conjunto de métodos de preparação de texto que você pode precisar usar, e a escolha dos métodos realmente depende de sua **tarefa** de processamento de linguagem natural.\n",
    "\n",
    "Aqui aprenderemos a como limpar e preparar nosso texto pronto para modelagem com aprendizado de máquina. Os pontos a discutir são:\n",
    "\n",
    "* como começar desenvolvendo suas próprias ferramentas simples de limpeza de texto.\n",
    "\n",
    "* como dar um passo à frente e usar os \"métodos mais sofisticados\" da biblioteca `NLTK` (Aqui recomendamos, ver também, o Hugging face ... o último em tecnologia para NLP).\n",
    "\n",
    "* como preparar texto ao usar **métodos modernos** de representação de texto, como `Word Embeddings`."
   ]
  },
  {
   "cell_type": "markdown",
   "metadata": {},
   "source": [
    "# Metamorfose de Franz Kafka"
   ]
  },
  {
   "cell_type": "markdown",
   "metadata": {},
   "source": [
    "Vamos começar selecionando um conjunto de dados.\n",
    "\n",
    "Neste tutorial, usaremos o texto do livro `Metamorfose de Franz Kafka`. Nenhuma razão específica, além de ser curto, eu gosto, e você pode gostar também. Espero que seja um daqueles clássicos que a maioria dos alunos tem que ler na escola.\n",
    "\n",
    "O texto completo de Metamorphosis está disponível gratuitamente no Project Gutenberg.\n",
    "\n",
    "* [Metamorfose de Franz Kafka sobre o Projeto Gutenberg](https://www.gutenberg.org/ebooks/5200).\n",
    "\n",
    "Você pode baixar a versão em texto ASCII do texto aqui:\n",
    "\n",
    "* [Metamorfose por Franz Kafka Texto simples UTF-8](https://www.gutenberg.org/cache/epub/5200/pg5200.txt) (pode ser necessário carregar a página duas vezes).\n",
    "\n",
    "Baixe o arquivo e coloque-o em seu diretório de trabalho atual com o nome de arquivo `metamorphosis.txt`.\n",
    "\n",
    "O arquivo contém informações de cabeçalho e rodapé nas quais não estamos interessados, especificamente informações sobre direitos autorais e licença. Abra o arquivo e exclua as informações de cabeçalho e rodapé e salve o arquivo como `metamorphosis_clean.txt`."
   ]
  },
  {
   "cell_type": "markdown",
   "metadata": {},
   "source": [
    "# A Limpeza de Texto é Específica da Tarefa"
   ]
  },
  {
   "cell_type": "markdown",
   "metadata": {},
   "source": [
    "Depois de realmente obter seus dados de texto, o primeiro passo para limpar os dados de texto é ter uma ideia forte sobre o que você está tentando alcançar e, nesse contexto, revisar seu texto para ver o que exatamente pode ajudar.\n",
    "\n",
    "Tome um momento para olhar para o texto. `O que você percebe?`\n",
    "\n",
    "Aqui está o que eu vejo:\n",
    "\n",
    "\n",
    "* É um texto simples, então não há marcação para analisar (yay!).\n",
    "\n",
    "* A tradução do original alemão usa o inglês do Reino Unido (UK) (por exemplo, \"travelling\").\n",
    "\n",
    "* As linhas são quebradas artificialmente com novas linhas em cerca de 70 caracteres (meh).\n",
    "\n",
    "* Não há erros de digitação ou ortografia óbvios.\n",
    "\n",
    "* Há pontuação como vírgulas, apóstrofos, aspas, pontos de interrogação e muito mais.\n",
    "\n",
    "* Há descrições hifenizadas como “armour-like”.\n",
    "\n",
    "* Há muito uso do traço (\"-\") para continuar as frases (talvez substituir por vírgulas?).\n",
    "\n",
    "* Existem nomes (por exemplo: \"Mr. Samsa\")\n",
    "\n",
    "* Não parece haver números que requeiram manipulação (por exemplo: 1999)\n",
    "\n",
    "* Existem marcadores de seção (por exemplo, \"II\" e \"III\") e removemos o primeiro \"I\".\n",
    "\n",
    "\n",
    "\n",
    "<font color=\"orange\">Tenho certeza de que há muitas coisas mais acontecendo para o olho treinado.</font>\n",
    "\n",
    "\n",
    "No entanto, considere alguns possíveis objetivos que podemos ter ao trabalhar com este documento de texto.\n",
    "\n",
    "Por exemplo:\n",
    "\n",
    "* Se estivéssemos interessados ​​em desenvolver um modelo de `linguagem Kafkiana`, podemos querer manter todas as maiúsculas e minúsculas, aspas e outras pontuações no lugar.\n",
    "\n",
    "* Se estivéssemos interessados ​​em classificar documentos como \"Kafka\" e \"Não Kafka\", talvez devêssemos eliminar maiúsculas e minúsculas, pontuação e até mesmo **cortar as palavras de volta ao seu radical**.\n"
   ]
  },
  {
   "cell_type": "markdown",
   "metadata": {},
   "source": [
    "# Tokenização manual"
   ]
  },
  {
   "cell_type": "markdown",
   "metadata": {},
   "source": [
    "<font color=\"orange\">A limpeza de texto é difícil</font>, mas o texto com o qual escolhemos trabalhar já está bem limpo.\n",
    "\n",
    "Poderíamos apenas escrever algum código `Python` para limpá-lo manualmente, e este é um bom exercício para aqueles problemas simples que você encontrar. Ferramentas como expressões regulares e divisão de strings podem te ajudar bastante."
   ]
  },
  {
   "cell_type": "markdown",
   "metadata": {},
   "source": [
    "## 1. Carregar Dados"
   ]
  },
  {
   "cell_type": "markdown",
   "metadata": {},
   "source": [
    "Vamos carregar os dados de texto para que possamos trabalhar com eles.\n",
    "\n",
    "O texto é pequeno e será carregado rapidamente e caberá facilmente na memória. Isso nem sempre será o caso e você pode precisar escrever código para mapear a memória do arquivo. Ferramentas como `NLTK` (abordadas na próxima seção) facilitarão muito o trabalho com arquivos grandes.\n",
    "\n",
    "Podemos carregar todo o “ metamorphosis_clean.txt ” na memória da seguinte forma"
   ]
  },
  {
   "cell_type": "code",
   "execution_count": 16,
   "metadata": {},
   "outputs": [],
   "source": [
    "# load text\n",
    "filename = 'metamorphosis_clean.txt'\n",
    "\n",
    "file = open(filename, 'rt')\n",
    "text = file.read()\n",
    "file.close()\n",
    "\n",
    "#print(text)\n",
    "# A execução do exemplo carrega o arquivo inteiro na memória, pronto para trabalhar."
   ]
  },
  {
   "cell_type": "markdown",
   "metadata": {},
   "source": [
    "## 2. Dividir por espaço em branco"
   ]
  },
  {
   "cell_type": "markdown",
   "metadata": {},
   "source": [
    "Texto limpo geralmente significa uma lista de palavras ou tokens com os quais podemos trabalhar em nossos modelos de aprendizado de máquina.\n",
    "\n",
    "Isso significa converter o **texto bruto** em uma **lista de palavras** e salvá-lo novamente.\n",
    "\n",
    "Uma maneira muito simples de fazer isso seria dividir o documento por espaço em branco, incluindo \" \", novas linhas, tabulações e muito mais. Podemos fazer isso em Python com a função `split()` na string carregada."
   ]
  },
  {
   "cell_type": "code",
   "execution_count": 20,
   "metadata": {},
   "outputs": [
    {
     "name": "stdout",
     "output_type": "stream",
     "text": [
      "['\\ufeffOne', 'morning,', 'when', 'Gregor', 'Samsa', 'woke', 'from', 'troubled', 'dreams,', 'he', 'found', 'himself', 'transformed', 'in', 'his', 'bed', 'into', 'a', 'horrible', 'vermin.', 'He', 'lay', 'on', 'his', 'armour-like', 'back,', 'and', 'if', 'he', 'lifted', 'his', 'head', 'a', 'little', 'he', 'could', 'see', 'his', 'brown', 'belly,', 'slightly', 'domed', 'and', 'divided', 'by', 'arches', 'into', 'stiff', 'sections.', 'The', 'bedding', 'was', 'hardly', 'able', 'to', 'cover', 'it', 'and', 'seemed', 'ready', 'to', 'slide', 'off', 'any', 'moment.', 'His', 'many', 'legs,', 'pitifully', 'thin', 'compared', 'with', 'the', 'size', 'of', 'the', 'rest', 'of', 'him,', 'waved', 'about', 'helplessly', 'as', 'he', 'looked.', '\"What\\'s', 'happened', 'to', 'me?\"', 'he', 'thought.', 'It', \"wasn't\", 'a', 'dream.', 'His', 'room,', 'a', 'proper', 'human']\n"
     ]
    }
   ],
   "source": [
    "# load text\n",
    "filename = 'metamorphosis_clean.txt'\n",
    "file = open(filename, 'rt')\n",
    "text = file.read()\n",
    "file.close()\n",
    "\n",
    "# split into words by white space\n",
    "words = text.split()\n",
    "print(words[:100])"
   ]
  },
  {
   "cell_type": "markdown",
   "metadata": {},
   "source": [
    "A execução do exemplo divide o documento em uma longa lista de palavras e imprime as primeiras 100 para revisão.\n",
    "\n",
    "Podemos ver que a pontuação é preservada (<font color=\"yellow\">por exemplo:</font> \"wasn't\" e \"armour-like\"), o que é bom. Também podemos ver que a pontuação do final da frase é mantida com a última palavra (<font color=\"yellow\">por exemplo:</font> \"thought.\"), o que não é ótimo."
   ]
  },
  {
   "cell_type": "markdown",
   "metadata": {},
   "source": [
    "## 3. Selecione palavras"
   ]
  },
  {
   "cell_type": "markdown",
   "metadata": {},
   "source": [
    "Outra abordagem pode ser usar o modelo regex (`re`) e dividir (split) o documento em palavras selecionando strings de caracteres alfanuméricos (`a-z`, `A-Z`, `0-9` e '`_`').\n",
    "\n",
    "Por exemplo:"
   ]
  },
  {
   "cell_type": "code",
   "execution_count": 21,
   "metadata": {},
   "outputs": [
    {
     "name": "stdout",
     "output_type": "stream",
     "text": [
      "['', 'One', 'morning', 'when', 'Gregor', 'Samsa', 'woke', 'from', 'troubled', 'dreams', 'he', 'found', 'himself', 'transformed', 'in', 'his', 'bed', 'into', 'a', 'horrible', 'vermin', 'He', 'lay', 'on', 'his', 'armour', 'like', 'back', 'and', 'if', 'he', 'lifted', 'his', 'head', 'a', 'little', 'he', 'could', 'see', 'his', 'brown', 'belly', 'slightly', 'domed', 'and', 'divided', 'by', 'arches', 'into', 'stiff', 'sections', 'The', 'bedding', 'was', 'hardly', 'able', 'to', 'cover', 'it', 'and', 'seemed', 'ready', 'to', 'slide', 'off', 'any', 'moment', 'His', 'many', 'legs', 'pitifully', 'thin', 'compared', 'with', 'the', 'size', 'of', 'the', 'rest', 'of', 'him', 'waved', 'about', 'helplessly', 'as', 'he', 'looked', 'What', 's', 'happened', 'to', 'me', 'he', 'thought', 'It', 'wasn', 't', 'a', 'dream', 'His']\n"
     ]
    }
   ],
   "source": [
    "# load text\n",
    "filename = 'metamorphosis_clean.txt'\n",
    "file = open(filename, 'rt')\n",
    "text = file.read()\n",
    "file.close()\n",
    "\n",
    "# split based on words only\n",
    "import re\n",
    "words = re.split(r'\\W+', text)\n",
    "print(words[:100])"
   ]
  },
  {
   "cell_type": "code",
   "execution_count": null,
   "metadata": {},
   "outputs": [],
   "source": []
  },
  {
   "cell_type": "code",
   "execution_count": null,
   "metadata": {},
   "outputs": [],
   "source": []
  },
  {
   "cell_type": "code",
   "execution_count": null,
   "metadata": {},
   "outputs": [],
   "source": []
  },
  {
   "cell_type": "code",
   "execution_count": null,
   "metadata": {},
   "outputs": [],
   "source": []
  }
 ],
 "metadata": {
  "kernelspec": {
   "display_name": "Python 3.8.13 ('venv_repasso': venv)",
   "language": "python",
   "name": "python3"
  },
  "language_info": {
   "codemirror_mode": {
    "name": "ipython",
    "version": 3
   },
   "file_extension": ".py",
   "mimetype": "text/x-python",
   "name": "python",
   "nbconvert_exporter": "python",
   "pygments_lexer": "ipython3",
   "version": "3.8.13"
  },
  "orig_nbformat": 4,
  "vscode": {
   "interpreter": {
    "hash": "cbbafe9b4d27f1a54c71cc0b076f18a0914c7fba812b9ed6e564e8656f6468de"
   }
  }
 },
 "nbformat": 4,
 "nbformat_minor": 2
}

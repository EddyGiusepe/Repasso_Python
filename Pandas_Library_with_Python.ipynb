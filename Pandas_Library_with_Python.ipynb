{
  "nbformat": 4,
  "nbformat_minor": 0,
  "metadata": {
    "colab": {
      "name": "Pandas_Library_with_Python.ipynb",
      "provenance": [],
      "authorship_tag": "ABX9TyOTOfh/dBB4gRRvki8pfFTk",
      "include_colab_link": true
    },
    "kernelspec": {
      "name": "python3",
      "display_name": "Python 3"
    },
    "language_info": {
      "name": "python"
    }
  },
  "cells": [
    {
      "cell_type": "markdown",
      "metadata": {
        "id": "view-in-github",
        "colab_type": "text"
      },
      "source": [
        "<a href=\"https://colab.research.google.com/github/EddyGiusepe/Repasso_Python/blob/main/Pandas_Library_with_Python.ipynb\" target=\"_parent\"><img src=\"https://colab.research.google.com/assets/colab-badge.svg\" alt=\"Open In Colab\"/></a>"
      ]
    },
    {
      "cell_type": "markdown",
      "source": [
        "# <h2 align=\"center\">Usando a biblioteca Pandas com Python</h2>\n",
        "\n",
        "\n",
        "Data scientist.: Dr.Eddy Giusepe Chirinos Isidro"
      ],
      "metadata": {
        "id": "KVAKXPeRJIi5"
      }
    },
    {
      "cell_type": "markdown",
      "source": [
        "Python tem a biblioteca ``Pandas`` para poder trabalhar com Dados tabulares.\n",
        "\n",
        "Depois de estudar este tutorial, você haverá aprendido:\n",
        "\n",
        "* o que a biblioteca de ``Pandas`` oferece\n",
        "* o que é um ``DataFrame`` e uma série em pandas\n",
        "* como manipular DataFrame e Series além das operações triviais de array.\n",
        "\n",
        "\n",
        "Este tutorial, está baseado no tutorial de [Machine Learning Mastery  - Jason Brownlee PhD](https://machinelearningmastery.com/massaging-data-using-pandas/?utm_source=drip&utm_medium=email&utm_campaign=Massaging+data+using+pandas&utm_content=Massaging+data+using+pandas) e  está dividido em cinco partes:\n",
        "\n",
        "* DataFrame e Série\n",
        "* Funções essenciais no DataFrame\n",
        "* Manipulando DataFrames e Séries\n",
        "* Agregação em DataFrames\n",
        "* Manipulando dados de série temporal em pandas"
      ],
      "metadata": {
        "id": "ZdMrhed6JnnQ"
      }
    },
    {
      "cell_type": "markdown",
      "source": [
        "# DataFrame e Série"
      ],
      "metadata": {
        "id": "pW2vHl1tK4ff"
      }
    },
    {
      "cell_type": "markdown",
      "source": [
        "Vamos começar com um conjunto de dados de exemplo. Vamos importar ``Pandas`` e ler os [Dados de emissão de poluentes atmosféricos dos EUA](https://www.epa.gov/air-emissions-inventories/air-pollutant-emissions-trends-data) em um ``DataFrame``:"
      ],
      "metadata": {
        "id": "PeEqz0N2K-J6"
      }
    },
    {
      "cell_type": "code",
      "source": [
        "# Importamos as bibliotecas mais comuns\n",
        "\n",
        "import pandas as pd\n",
        "import numpy as np\n",
        "import matplotlib.pyplot as plt\n",
        "%matplotlib inline\n"
      ],
      "metadata": {
        "id": "rtk6oV3sLWz-"
      },
      "execution_count": 2,
      "outputs": []
    },
    {
      "cell_type": "code",
      "execution_count": 5,
      "metadata": {
        "colab": {
          "base_uri": "https://localhost:8080/",
          "height": 438
        },
        "id": "Zi7DwYLCIg_q",
        "outputId": "3a380dfc-e638-41e0-c47b-62227798aaf9"
      },
      "outputs": [
        {
          "output_type": "execute_result",
          "data": {
            "text/plain": [
              "      State FIPS State  Tier 1 Code          Tier 1 Description Pollutant  \\\n",
              "2955          32    NV            7  OTHER INDUSTRIAL PROCESSES       NH3   \n",
              "5181          55    WI           11            HIGHWAY VEHICLES       NOX   \n",
              "5233          56    WY            3            FUEL COMB. OTHER       SO2   \n",
              "1415          17    IL           12                 OFF-HIGHWAY        CO   \n",
              "3711          39    OH           11            HIGHWAY VEHICLES       NH3   \n",
              "\n",
              "      emissions90  emissions96  emissions97  emissions98  emissions99  ...  \\\n",
              "2955      0.00318      0.00471      0.00501      0.00508          NaN  ...   \n",
              "5181    193.13515    199.57390    200.89964    196.97018   190.628910  ...   \n",
              "5233      2.21788      2.97879      3.08639      3.15722     2.594941  ...   \n",
              "1415    897.92407   1020.20807    992.29468    993.17626  1003.231720  ...   \n",
              "3711      6.13786      9.79876     10.82467     10.28715    10.459740  ...   \n",
              "\n",
              "      emissions12  emissions13  emissions14  emissions15  emissions16  \\\n",
              "2955     0.009669     0.013883     0.018097     0.020094     0.022091   \n",
              "5181   119.454122   111.739452   104.024783    94.120636    80.086339   \n",
              "5233     5.144715     2.671697     0.198680     0.169708     0.140737   \n",
              "1415   587.031378   563.457668   539.883959   519.337749   481.383678   \n",
              "3711     4.680957     4.227930     3.774903     3.572580     3.736018   \n",
              "\n",
              "      emissions17  emissions18  emissions19  emissions20  emissions21  \n",
              "2955     0.024088     0.018606     0.018202     0.018202     0.018202  \n",
              "5181    64.769636    50.211574    51.890860    47.195324    42.499788  \n",
              "5233     0.111766     0.107402     0.054938     0.054938     0.054938  \n",
              "1415   465.957440   464.883327   462.357384   462.556022   462.754659  \n",
              "3711     3.606464     3.553007     3.601172     3.529279     3.457386  \n",
              "\n",
              "[5 rows x 32 columns]"
            ],
            "text/html": [
              "\n",
              "  <div id=\"df-b89e2d28-4c08-4408-9b9e-61721057717b\">\n",
              "    <div class=\"colab-df-container\">\n",
              "      <div>\n",
              "<style scoped>\n",
              "    .dataframe tbody tr th:only-of-type {\n",
              "        vertical-align: middle;\n",
              "    }\n",
              "\n",
              "    .dataframe tbody tr th {\n",
              "        vertical-align: top;\n",
              "    }\n",
              "\n",
              "    .dataframe thead th {\n",
              "        text-align: right;\n",
              "    }\n",
              "</style>\n",
              "<table border=\"1\" class=\"dataframe\">\n",
              "  <thead>\n",
              "    <tr style=\"text-align: right;\">\n",
              "      <th></th>\n",
              "      <th>State FIPS</th>\n",
              "      <th>State</th>\n",
              "      <th>Tier 1 Code</th>\n",
              "      <th>Tier 1 Description</th>\n",
              "      <th>Pollutant</th>\n",
              "      <th>emissions90</th>\n",
              "      <th>emissions96</th>\n",
              "      <th>emissions97</th>\n",
              "      <th>emissions98</th>\n",
              "      <th>emissions99</th>\n",
              "      <th>...</th>\n",
              "      <th>emissions12</th>\n",
              "      <th>emissions13</th>\n",
              "      <th>emissions14</th>\n",
              "      <th>emissions15</th>\n",
              "      <th>emissions16</th>\n",
              "      <th>emissions17</th>\n",
              "      <th>emissions18</th>\n",
              "      <th>emissions19</th>\n",
              "      <th>emissions20</th>\n",
              "      <th>emissions21</th>\n",
              "    </tr>\n",
              "  </thead>\n",
              "  <tbody>\n",
              "    <tr>\n",
              "      <th>2955</th>\n",
              "      <td>32</td>\n",
              "      <td>NV</td>\n",
              "      <td>7</td>\n",
              "      <td>OTHER INDUSTRIAL PROCESSES</td>\n",
              "      <td>NH3</td>\n",
              "      <td>0.00318</td>\n",
              "      <td>0.00471</td>\n",
              "      <td>0.00501</td>\n",
              "      <td>0.00508</td>\n",
              "      <td>NaN</td>\n",
              "      <td>...</td>\n",
              "      <td>0.009669</td>\n",
              "      <td>0.013883</td>\n",
              "      <td>0.018097</td>\n",
              "      <td>0.020094</td>\n",
              "      <td>0.022091</td>\n",
              "      <td>0.024088</td>\n",
              "      <td>0.018606</td>\n",
              "      <td>0.018202</td>\n",
              "      <td>0.018202</td>\n",
              "      <td>0.018202</td>\n",
              "    </tr>\n",
              "    <tr>\n",
              "      <th>5181</th>\n",
              "      <td>55</td>\n",
              "      <td>WI</td>\n",
              "      <td>11</td>\n",
              "      <td>HIGHWAY VEHICLES</td>\n",
              "      <td>NOX</td>\n",
              "      <td>193.13515</td>\n",
              "      <td>199.57390</td>\n",
              "      <td>200.89964</td>\n",
              "      <td>196.97018</td>\n",
              "      <td>190.628910</td>\n",
              "      <td>...</td>\n",
              "      <td>119.454122</td>\n",
              "      <td>111.739452</td>\n",
              "      <td>104.024783</td>\n",
              "      <td>94.120636</td>\n",
              "      <td>80.086339</td>\n",
              "      <td>64.769636</td>\n",
              "      <td>50.211574</td>\n",
              "      <td>51.890860</td>\n",
              "      <td>47.195324</td>\n",
              "      <td>42.499788</td>\n",
              "    </tr>\n",
              "    <tr>\n",
              "      <th>5233</th>\n",
              "      <td>56</td>\n",
              "      <td>WY</td>\n",
              "      <td>3</td>\n",
              "      <td>FUEL COMB. OTHER</td>\n",
              "      <td>SO2</td>\n",
              "      <td>2.21788</td>\n",
              "      <td>2.97879</td>\n",
              "      <td>3.08639</td>\n",
              "      <td>3.15722</td>\n",
              "      <td>2.594941</td>\n",
              "      <td>...</td>\n",
              "      <td>5.144715</td>\n",
              "      <td>2.671697</td>\n",
              "      <td>0.198680</td>\n",
              "      <td>0.169708</td>\n",
              "      <td>0.140737</td>\n",
              "      <td>0.111766</td>\n",
              "      <td>0.107402</td>\n",
              "      <td>0.054938</td>\n",
              "      <td>0.054938</td>\n",
              "      <td>0.054938</td>\n",
              "    </tr>\n",
              "    <tr>\n",
              "      <th>1415</th>\n",
              "      <td>17</td>\n",
              "      <td>IL</td>\n",
              "      <td>12</td>\n",
              "      <td>OFF-HIGHWAY</td>\n",
              "      <td>CO</td>\n",
              "      <td>897.92407</td>\n",
              "      <td>1020.20807</td>\n",
              "      <td>992.29468</td>\n",
              "      <td>993.17626</td>\n",
              "      <td>1003.231720</td>\n",
              "      <td>...</td>\n",
              "      <td>587.031378</td>\n",
              "      <td>563.457668</td>\n",
              "      <td>539.883959</td>\n",
              "      <td>519.337749</td>\n",
              "      <td>481.383678</td>\n",
              "      <td>465.957440</td>\n",
              "      <td>464.883327</td>\n",
              "      <td>462.357384</td>\n",
              "      <td>462.556022</td>\n",
              "      <td>462.754659</td>\n",
              "    </tr>\n",
              "    <tr>\n",
              "      <th>3711</th>\n",
              "      <td>39</td>\n",
              "      <td>OH</td>\n",
              "      <td>11</td>\n",
              "      <td>HIGHWAY VEHICLES</td>\n",
              "      <td>NH3</td>\n",
              "      <td>6.13786</td>\n",
              "      <td>9.79876</td>\n",
              "      <td>10.82467</td>\n",
              "      <td>10.28715</td>\n",
              "      <td>10.459740</td>\n",
              "      <td>...</td>\n",
              "      <td>4.680957</td>\n",
              "      <td>4.227930</td>\n",
              "      <td>3.774903</td>\n",
              "      <td>3.572580</td>\n",
              "      <td>3.736018</td>\n",
              "      <td>3.606464</td>\n",
              "      <td>3.553007</td>\n",
              "      <td>3.601172</td>\n",
              "      <td>3.529279</td>\n",
              "      <td>3.457386</td>\n",
              "    </tr>\n",
              "  </tbody>\n",
              "</table>\n",
              "<p>5 rows × 32 columns</p>\n",
              "</div>\n",
              "      <button class=\"colab-df-convert\" onclick=\"convertToInteractive('df-b89e2d28-4c08-4408-9b9e-61721057717b')\"\n",
              "              title=\"Convert this dataframe to an interactive table.\"\n",
              "              style=\"display:none;\">\n",
              "        \n",
              "  <svg xmlns=\"http://www.w3.org/2000/svg\" height=\"24px\"viewBox=\"0 0 24 24\"\n",
              "       width=\"24px\">\n",
              "    <path d=\"M0 0h24v24H0V0z\" fill=\"none\"/>\n",
              "    <path d=\"M18.56 5.44l.94 2.06.94-2.06 2.06-.94-2.06-.94-.94-2.06-.94 2.06-2.06.94zm-11 1L8.5 8.5l.94-2.06 2.06-.94-2.06-.94L8.5 2.5l-.94 2.06-2.06.94zm10 10l.94 2.06.94-2.06 2.06-.94-2.06-.94-.94-2.06-.94 2.06-2.06.94z\"/><path d=\"M17.41 7.96l-1.37-1.37c-.4-.4-.92-.59-1.43-.59-.52 0-1.04.2-1.43.59L10.3 9.45l-7.72 7.72c-.78.78-.78 2.05 0 2.83L4 21.41c.39.39.9.59 1.41.59.51 0 1.02-.2 1.41-.59l7.78-7.78 2.81-2.81c.8-.78.8-2.07 0-2.86zM5.41 20L4 18.59l7.72-7.72 1.47 1.35L5.41 20z\"/>\n",
              "  </svg>\n",
              "      </button>\n",
              "      \n",
              "  <style>\n",
              "    .colab-df-container {\n",
              "      display:flex;\n",
              "      flex-wrap:wrap;\n",
              "      gap: 12px;\n",
              "    }\n",
              "\n",
              "    .colab-df-convert {\n",
              "      background-color: #E8F0FE;\n",
              "      border: none;\n",
              "      border-radius: 50%;\n",
              "      cursor: pointer;\n",
              "      display: none;\n",
              "      fill: #1967D2;\n",
              "      height: 32px;\n",
              "      padding: 0 0 0 0;\n",
              "      width: 32px;\n",
              "    }\n",
              "\n",
              "    .colab-df-convert:hover {\n",
              "      background-color: #E2EBFA;\n",
              "      box-shadow: 0px 1px 2px rgba(60, 64, 67, 0.3), 0px 1px 3px 1px rgba(60, 64, 67, 0.15);\n",
              "      fill: #174EA6;\n",
              "    }\n",
              "\n",
              "    [theme=dark] .colab-df-convert {\n",
              "      background-color: #3B4455;\n",
              "      fill: #D2E3FC;\n",
              "    }\n",
              "\n",
              "    [theme=dark] .colab-df-convert:hover {\n",
              "      background-color: #434B5C;\n",
              "      box-shadow: 0px 1px 3px 1px rgba(0, 0, 0, 0.15);\n",
              "      filter: drop-shadow(0px 1px 2px rgba(0, 0, 0, 0.3));\n",
              "      fill: #FFFFFF;\n",
              "    }\n",
              "  </style>\n",
              "\n",
              "      <script>\n",
              "        const buttonEl =\n",
              "          document.querySelector('#df-b89e2d28-4c08-4408-9b9e-61721057717b button.colab-df-convert');\n",
              "        buttonEl.style.display =\n",
              "          google.colab.kernel.accessAllowed ? 'block' : 'none';\n",
              "\n",
              "        async function convertToInteractive(key) {\n",
              "          const element = document.querySelector('#df-b89e2d28-4c08-4408-9b9e-61721057717b');\n",
              "          const dataTable =\n",
              "            await google.colab.kernel.invokeFunction('convertToInteractive',\n",
              "                                                     [key], {});\n",
              "          if (!dataTable) return;\n",
              "\n",
              "          const docLinkHtml = 'Like what you see? Visit the ' +\n",
              "            '<a target=\"_blank\" href=https://colab.research.google.com/notebooks/data_table.ipynb>data table notebook</a>'\n",
              "            + ' to learn more about interactive tables.';\n",
              "          element.innerHTML = '';\n",
              "          dataTable['output_type'] = 'display_data';\n",
              "          await google.colab.output.renderOutput(dataTable, element);\n",
              "          const docLink = document.createElement('div');\n",
              "          docLink.innerHTML = docLinkHtml;\n",
              "          element.appendChild(docLink);\n",
              "        }\n",
              "      </script>\n",
              "    </div>\n",
              "  </div>\n",
              "  "
            ]
          },
          "metadata": {},
          "execution_count": 5
        }
      ],
      "source": [
        "# Criamos o DataFrame\n",
        " \n",
        "URL = \"https://www.epa.gov/sites/default/files/2021-03/state_tier1_caps.xlsx\"\n",
        " \n",
        "df = pd.read_excel(URL, sheet_name=\"State_Trends\", header=1)\n",
        "df.sample(5)"
      ]
    },
    {
      "cell_type": "code",
      "source": [
        "# Shape\n",
        "\n",
        "df.shape"
      ],
      "metadata": {
        "colab": {
          "base_uri": "https://localhost:8080/"
        },
        "id": "cq9uYfXSL-n0",
        "outputId": "00434f97-6c08-4043-c260-ce4ed12257b5"
      },
      "execution_count": 6,
      "outputs": [
        {
          "output_type": "execute_result",
          "data": {
            "text/plain": [
              "(5319, 32)"
            ]
          },
          "metadata": {},
          "execution_count": 6
        }
      ]
    },
    {
      "cell_type": "markdown",
      "source": [
        "O objeto ``pandas`` criado acima é um DataFrame, apresentado como uma tabela. Semelhante ao ``NumPy``, os dados no Pandas são organizados em matrizes. Mas os Pandas atribuem um tipo de dados a colunas em vez de uma matriz inteira. Isso permite que dados de diferentes tipos sejam incluídos na mesma estrutura de dados. \n",
        "\n",
        "Podemos verificar o tipo de dados chamando a o método (ou função) ``.info()`` do DataFrame:"
      ],
      "metadata": {
        "id": "L5u9-MQjM5uq"
      }
    },
    {
      "cell_type": "code",
      "source": [
        "df.info()"
      ],
      "metadata": {
        "colab": {
          "base_uri": "https://localhost:8080/"
        },
        "id": "N50SK9zyMNFH",
        "outputId": "be21706a-519b-40ad-c9a6-16b304f0a910"
      },
      "execution_count": 7,
      "outputs": [
        {
          "output_type": "stream",
          "name": "stdout",
          "text": [
            "<class 'pandas.core.frame.DataFrame'>\n",
            "RangeIndex: 5319 entries, 0 to 5318\n",
            "Data columns (total 32 columns):\n",
            " #   Column              Non-Null Count  Dtype  \n",
            "---  ------              --------------  -----  \n",
            " 0   State FIPS          5319 non-null   int64  \n",
            " 1   State               5319 non-null   object \n",
            " 2   Tier 1 Code         5319 non-null   int64  \n",
            " 3   Tier 1 Description  5319 non-null   object \n",
            " 4   Pollutant           5319 non-null   object \n",
            " 5   emissions90         3926 non-null   float64\n",
            " 6   emissions96         4163 non-null   float64\n",
            " 7   emissions97         4163 non-null   float64\n",
            " 8   emissions98         4164 non-null   float64\n",
            " 9   emissions99         4281 non-null   float64\n",
            " 10  emissions00         4280 non-null   float64\n",
            " 11  emissions01         4277 non-null   float64\n",
            " 12  emissions02         4720 non-null   float64\n",
            " 13  emissions03         4939 non-null   float64\n",
            " 14  emissions04         4939 non-null   float64\n",
            " 15  emissions05         4561 non-null   float64\n",
            " 16  emissions06         4951 non-null   float64\n",
            " 17  emissions07         4951 non-null   float64\n",
            " 18  emissions08         4942 non-null   float64\n",
            " 19  emissions09         5281 non-null   float64\n",
            " 20  emissions10         5281 non-null   float64\n",
            " 21  emissions11         5318 non-null   float64\n",
            " 22  emissions12         5318 non-null   float64\n",
            " 23  emissions13         5318 non-null   float64\n",
            " 24  emissions14         5077 non-null   float64\n",
            " 25  emissions15         5299 non-null   float64\n",
            " 26  emissions16         5299 non-null   float64\n",
            " 27  emissions17         5107 non-null   float64\n",
            " 28  emissions18         5052 non-null   float64\n",
            " 29  emissions19         5052 non-null   float64\n",
            " 30  emissions20         5052 non-null   float64\n",
            " 31  emissions21         5052 non-null   float64\n",
            "dtypes: float64(27), int64(2), object(3)\n",
            "memory usage: 1.3+ MB\n"
          ]
        }
      ]
    },
    {
      "cell_type": "code",
      "source": [
        "# Também podemos obter o tipo como uma série de pandas:\n",
        "\n",
        "df.dtypes\n"
      ],
      "metadata": {
        "colab": {
          "base_uri": "https://localhost:8080/"
        },
        "id": "itd4eT_UNTyv",
        "outputId": "6d5ac8dc-3ee5-4c4c-c794-0f5edb67f7bd"
      },
      "execution_count": 10,
      "outputs": [
        {
          "output_type": "execute_result",
          "data": {
            "text/plain": [
              "State FIPS              int64\n",
              "State                  object\n",
              "Tier 1 Code             int64\n",
              "Tier 1 Description     object\n",
              "Pollutant              object\n",
              "emissions90           float64\n",
              "emissions96           float64\n",
              "emissions97           float64\n",
              "emissions98           float64\n",
              "emissions99           float64\n",
              "emissions00           float64\n",
              "emissions01           float64\n",
              "emissions02           float64\n",
              "emissions03           float64\n",
              "emissions04           float64\n",
              "emissions05           float64\n",
              "emissions06           float64\n",
              "emissions07           float64\n",
              "emissions08           float64\n",
              "emissions09           float64\n",
              "emissions10           float64\n",
              "emissions11           float64\n",
              "emissions12           float64\n",
              "emissions13           float64\n",
              "emissions14           float64\n",
              "emissions15           float64\n",
              "emissions16           float64\n",
              "emissions17           float64\n",
              "emissions18           float64\n",
              "emissions19           float64\n",
              "emissions20           float64\n",
              "emissions21           float64\n",
              "dtype: object"
            ]
          },
          "metadata": {},
          "execution_count": 10
        }
      ]
    },
    {
      "cell_type": "markdown",
      "source": [
        "No ``Pandas``, um ``DataFrame`` é uma tabela, enquanto uma **série é uma coluna da tabela**. Essa distinção é importante porque os dados por trás de um ``DataFrame são uma matriz 2D``, enquanto uma ``série é uma matriz 1D``.\n",
        "\n",
        "Semelhante à indexação sofisticada no ``NumPy``, podemos extrair colunas de um DataFrame para criar outro:"
      ],
      "metadata": {
        "id": "Y0wrLtl1ON4a"
      }
    },
    {
      "cell_type": "code",
      "source": [
        "cols = [\"State\", \"Pollutant\", \"emissions19\", \"emissions20\", \"emissions21\"]\n",
        "\n",
        "# DataFrame dos três últimos anos\n",
        "last3years = df[cols] \n",
        "last3years.head(7)\n"
      ],
      "metadata": {
        "colab": {
          "base_uri": "https://localhost:8080/",
          "height": 269
        },
        "id": "jRHiunyFNzgp",
        "outputId": "a5515ad7-88d1-4a57-8517-0a80c49ce8e5"
      },
      "execution_count": 14,
      "outputs": [
        {
          "output_type": "execute_result",
          "data": {
            "text/plain": [
              "  State Pollutant  emissions19  emissions20  emissions21\n",
              "0    AL        CO     8.243679     8.243679     8.243679\n",
              "1    AL       NH3     0.417551     0.417551     0.417551\n",
              "2    AL       NOX    19.592480    13.752790    11.162100\n",
              "3    AL  PM10-PRI     2.868642     2.868642     2.868642\n",
              "4    AL  PM25-PRI     2.659792     2.659792     2.659792\n",
              "5    AL       SO2     6.416268     3.277997     4.223016\n",
              "6    AL       VOC     1.183584     1.183584     1.183584"
            ],
            "text/html": [
              "\n",
              "  <div id=\"df-bf403fee-75cd-4c13-801e-72478a50f254\">\n",
              "    <div class=\"colab-df-container\">\n",
              "      <div>\n",
              "<style scoped>\n",
              "    .dataframe tbody tr th:only-of-type {\n",
              "        vertical-align: middle;\n",
              "    }\n",
              "\n",
              "    .dataframe tbody tr th {\n",
              "        vertical-align: top;\n",
              "    }\n",
              "\n",
              "    .dataframe thead th {\n",
              "        text-align: right;\n",
              "    }\n",
              "</style>\n",
              "<table border=\"1\" class=\"dataframe\">\n",
              "  <thead>\n",
              "    <tr style=\"text-align: right;\">\n",
              "      <th></th>\n",
              "      <th>State</th>\n",
              "      <th>Pollutant</th>\n",
              "      <th>emissions19</th>\n",
              "      <th>emissions20</th>\n",
              "      <th>emissions21</th>\n",
              "    </tr>\n",
              "  </thead>\n",
              "  <tbody>\n",
              "    <tr>\n",
              "      <th>0</th>\n",
              "      <td>AL</td>\n",
              "      <td>CO</td>\n",
              "      <td>8.243679</td>\n",
              "      <td>8.243679</td>\n",
              "      <td>8.243679</td>\n",
              "    </tr>\n",
              "    <tr>\n",
              "      <th>1</th>\n",
              "      <td>AL</td>\n",
              "      <td>NH3</td>\n",
              "      <td>0.417551</td>\n",
              "      <td>0.417551</td>\n",
              "      <td>0.417551</td>\n",
              "    </tr>\n",
              "    <tr>\n",
              "      <th>2</th>\n",
              "      <td>AL</td>\n",
              "      <td>NOX</td>\n",
              "      <td>19.592480</td>\n",
              "      <td>13.752790</td>\n",
              "      <td>11.162100</td>\n",
              "    </tr>\n",
              "    <tr>\n",
              "      <th>3</th>\n",
              "      <td>AL</td>\n",
              "      <td>PM10-PRI</td>\n",
              "      <td>2.868642</td>\n",
              "      <td>2.868642</td>\n",
              "      <td>2.868642</td>\n",
              "    </tr>\n",
              "    <tr>\n",
              "      <th>4</th>\n",
              "      <td>AL</td>\n",
              "      <td>PM25-PRI</td>\n",
              "      <td>2.659792</td>\n",
              "      <td>2.659792</td>\n",
              "      <td>2.659792</td>\n",
              "    </tr>\n",
              "    <tr>\n",
              "      <th>5</th>\n",
              "      <td>AL</td>\n",
              "      <td>SO2</td>\n",
              "      <td>6.416268</td>\n",
              "      <td>3.277997</td>\n",
              "      <td>4.223016</td>\n",
              "    </tr>\n",
              "    <tr>\n",
              "      <th>6</th>\n",
              "      <td>AL</td>\n",
              "      <td>VOC</td>\n",
              "      <td>1.183584</td>\n",
              "      <td>1.183584</td>\n",
              "      <td>1.183584</td>\n",
              "    </tr>\n",
              "  </tbody>\n",
              "</table>\n",
              "</div>\n",
              "      <button class=\"colab-df-convert\" onclick=\"convertToInteractive('df-bf403fee-75cd-4c13-801e-72478a50f254')\"\n",
              "              title=\"Convert this dataframe to an interactive table.\"\n",
              "              style=\"display:none;\">\n",
              "        \n",
              "  <svg xmlns=\"http://www.w3.org/2000/svg\" height=\"24px\"viewBox=\"0 0 24 24\"\n",
              "       width=\"24px\">\n",
              "    <path d=\"M0 0h24v24H0V0z\" fill=\"none\"/>\n",
              "    <path d=\"M18.56 5.44l.94 2.06.94-2.06 2.06-.94-2.06-.94-.94-2.06-.94 2.06-2.06.94zm-11 1L8.5 8.5l.94-2.06 2.06-.94-2.06-.94L8.5 2.5l-.94 2.06-2.06.94zm10 10l.94 2.06.94-2.06 2.06-.94-2.06-.94-.94-2.06-.94 2.06-2.06.94z\"/><path d=\"M17.41 7.96l-1.37-1.37c-.4-.4-.92-.59-1.43-.59-.52 0-1.04.2-1.43.59L10.3 9.45l-7.72 7.72c-.78.78-.78 2.05 0 2.83L4 21.41c.39.39.9.59 1.41.59.51 0 1.02-.2 1.41-.59l7.78-7.78 2.81-2.81c.8-.78.8-2.07 0-2.86zM5.41 20L4 18.59l7.72-7.72 1.47 1.35L5.41 20z\"/>\n",
              "  </svg>\n",
              "      </button>\n",
              "      \n",
              "  <style>\n",
              "    .colab-df-container {\n",
              "      display:flex;\n",
              "      flex-wrap:wrap;\n",
              "      gap: 12px;\n",
              "    }\n",
              "\n",
              "    .colab-df-convert {\n",
              "      background-color: #E8F0FE;\n",
              "      border: none;\n",
              "      border-radius: 50%;\n",
              "      cursor: pointer;\n",
              "      display: none;\n",
              "      fill: #1967D2;\n",
              "      height: 32px;\n",
              "      padding: 0 0 0 0;\n",
              "      width: 32px;\n",
              "    }\n",
              "\n",
              "    .colab-df-convert:hover {\n",
              "      background-color: #E2EBFA;\n",
              "      box-shadow: 0px 1px 2px rgba(60, 64, 67, 0.3), 0px 1px 3px 1px rgba(60, 64, 67, 0.15);\n",
              "      fill: #174EA6;\n",
              "    }\n",
              "\n",
              "    [theme=dark] .colab-df-convert {\n",
              "      background-color: #3B4455;\n",
              "      fill: #D2E3FC;\n",
              "    }\n",
              "\n",
              "    [theme=dark] .colab-df-convert:hover {\n",
              "      background-color: #434B5C;\n",
              "      box-shadow: 0px 1px 3px 1px rgba(0, 0, 0, 0.15);\n",
              "      filter: drop-shadow(0px 1px 2px rgba(0, 0, 0, 0.3));\n",
              "      fill: #FFFFFF;\n",
              "    }\n",
              "  </style>\n",
              "\n",
              "      <script>\n",
              "        const buttonEl =\n",
              "          document.querySelector('#df-bf403fee-75cd-4c13-801e-72478a50f254 button.colab-df-convert');\n",
              "        buttonEl.style.display =\n",
              "          google.colab.kernel.accessAllowed ? 'block' : 'none';\n",
              "\n",
              "        async function convertToInteractive(key) {\n",
              "          const element = document.querySelector('#df-bf403fee-75cd-4c13-801e-72478a50f254');\n",
              "          const dataTable =\n",
              "            await google.colab.kernel.invokeFunction('convertToInteractive',\n",
              "                                                     [key], {});\n",
              "          if (!dataTable) return;\n",
              "\n",
              "          const docLinkHtml = 'Like what you see? Visit the ' +\n",
              "            '<a target=\"_blank\" href=https://colab.research.google.com/notebooks/data_table.ipynb>data table notebook</a>'\n",
              "            + ' to learn more about interactive tables.';\n",
              "          element.innerHTML = '';\n",
              "          dataTable['output_type'] = 'display_data';\n",
              "          await google.colab.output.renderOutput(dataTable, element);\n",
              "          const docLink = document.createElement('div');\n",
              "          docLink.innerHTML = docLinkHtml;\n",
              "          element.appendChild(docLink);\n",
              "        }\n",
              "      </script>\n",
              "    </div>\n",
              "  </div>\n",
              "  "
            ]
          },
          "metadata": {},
          "execution_count": 14
        }
      ]
    },
    {
      "cell_type": "markdown",
      "source": [
        "Ou, se passarmos um nome de coluna como uma string em vez de uma lista de nomes de coluna, extraímos uma coluna de um ``DataFrame como uma série``:"
      ],
      "metadata": {
        "id": "DA47Y2v8Qvgt"
      }
    },
    {
      "cell_type": "code",
      "source": [
        "data2021 = df['emissions21']\n",
        "data2021.head(6)"
      ],
      "metadata": {
        "colab": {
          "base_uri": "https://localhost:8080/"
        },
        "id": "fLokT9lvO0nH",
        "outputId": "eef55ee4-0313-4482-f763-de3b8948ab20"
      },
      "execution_count": 15,
      "outputs": [
        {
          "output_type": "execute_result",
          "data": {
            "text/plain": [
              "0     8.243679\n",
              "1     0.417551\n",
              "2    11.162100\n",
              "3     2.868642\n",
              "4     2.659792\n",
              "5     4.223016\n",
              "Name: emissions21, dtype: float64"
            ]
          },
          "metadata": {},
          "execution_count": 15
        }
      ]
    },
    {
      "cell_type": "markdown",
      "source": [
        "# Funções essenciais no DataFrame"
      ],
      "metadata": {
        "id": "jYKURW2fRMpj"
      }
    },
    {
      "cell_type": "code",
      "source": [
        ""
      ],
      "metadata": {
        "id": "xoh-Y9DDQ8Ge"
      },
      "execution_count": null,
      "outputs": []
    }
  ]
}
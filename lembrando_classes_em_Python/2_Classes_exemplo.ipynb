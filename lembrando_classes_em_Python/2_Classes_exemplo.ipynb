{
  "cells": [
    {
      "cell_type": "markdown",
      "metadata": {
        "colab_type": "text",
        "id": "view-in-github"
      },
      "source": [
        "<a href=\"https://colab.research.google.com/github/EddyGiusepe/Repasso_Python/blob/main/%7C2_Classes_exemplo.ipynb\" target=\"_parent\"><img src=\"https://colab.research.google.com/assets/colab-badge.svg\" alt=\"Open In Colab\"/></a>"
      ]
    },
    {
      "cell_type": "markdown",
      "metadata": {
        "id": "kJzowxb4ab0d"
      },
      "source": [
        "<h2 align=\"center\">Classes (POO)</h2>\n",
        "\n",
        "Data Scientist.: Dr.Eddy Giusepe Chirinos Isidro"
      ]
    },
    {
      "cell_type": "code",
      "execution_count": 26,
      "metadata": {
        "id": "gEajV2DDaW-D"
      },
      "outputs": [],
      "source": [
        "class Contact:\n",
        "\n",
        "  def __init__(self, nombre, email):\n",
        "    self.nombre = nombre\n",
        "    self.email = email\n",
        "\n",
        "  def __str__(self):\n",
        "    return f\"Nombre: {self.nombre}, Email: {self.email}\"\n"
      ]
    },
    {
      "cell_type": "code",
      "execution_count": 28,
      "metadata": {
        "id": "hl-oX5dFapR-"
      },
      "outputs": [],
      "source": [
        "juan = Contact('Juan', 'juan@mail.com')"
      ]
    },
    {
      "cell_type": "code",
      "execution_count": 29,
      "metadata": {
        "colab": {
          "base_uri": "https://localhost:8080/",
          "height": 35
        },
        "id": "Mia5xgxkbaCW",
        "outputId": "d7771601-ee9e-4108-89fc-3aa26cd3f11f"
      },
      "outputs": [
        {
          "data": {
            "application/vnd.google.colaboratory.intrinsic+json": {
              "type": "string"
            },
            "text/plain": [
              "'Juan'"
            ]
          },
          "execution_count": 29,
          "metadata": {},
          "output_type": "execute_result"
        }
      ],
      "source": [
        "juan.nombre"
      ]
    },
    {
      "cell_type": "code",
      "execution_count": 30,
      "metadata": {
        "colab": {
          "base_uri": "https://localhost:8080/",
          "height": 35
        },
        "id": "fE8RFfeibcj7",
        "outputId": "a36d3cb7-e61a-4460-be39-bb1e7deb0cd1"
      },
      "outputs": [
        {
          "data": {
            "application/vnd.google.colaboratory.intrinsic+json": {
              "type": "string"
            },
            "text/plain": [
              "'juan@mail.com'"
            ]
          },
          "execution_count": 30,
          "metadata": {},
          "output_type": "execute_result"
        }
      ],
      "source": [
        "juan.email"
      ]
    },
    {
      "cell_type": "code",
      "execution_count": 31,
      "metadata": {
        "colab": {
          "base_uri": "https://localhost:8080/"
        },
        "id": "C0uN1cakbeZX",
        "outputId": "59c7f72b-d96b-41cc-83dd-ca9317749cfe"
      },
      "outputs": [
        {
          "name": "stdout",
          "output_type": "stream",
          "text": [
            "Nombre: Juan, Email: juan@mail.com\n"
          ]
        }
      ],
      "source": [
        "print(juan)"
      ]
    },
    {
      "cell_type": "code",
      "execution_count": 32,
      "metadata": {
        "id": "KQmkdptEpuOp"
      },
      "outputs": [],
      "source": [
        "class ContactList:\n",
        "  contacts = []\n",
        "  def __str__(self):\n",
        "    return str([str(contact) for contact in self.contacts])\n",
        "\n",
        "\n",
        "  def addContact(self, contact):\n",
        "    self.contacts.append(contact)"
      ]
    },
    {
      "cell_type": "code",
      "execution_count": 33,
      "metadata": {
        "colab": {
          "base_uri": "https://localhost:8080/"
        },
        "id": "QB6TNvwSq41L",
        "outputId": "1d3dc26b-2ce6-43bb-dcb3-a3851364c14a"
      },
      "outputs": [
        {
          "name": "stdout",
          "output_type": "stream",
          "text": [
            "[]\n"
          ]
        }
      ],
      "source": [
        "contactList = ContactList()\n",
        "\n",
        "print(contactList)\n"
      ]
    },
    {
      "cell_type": "code",
      "execution_count": 34,
      "metadata": {
        "colab": {
          "base_uri": "https://localhost:8080/"
        },
        "id": "XwBRA7NqrI8F",
        "outputId": "44362d90-b811-4a0c-8da1-165ea0bbd9f8"
      },
      "outputs": [
        {
          "name": "stdout",
          "output_type": "stream",
          "text": [
            "['Nombre: Eddy, Email: eddy_Peru@gmail.com']\n"
          ]
        }
      ],
      "source": [
        "Eddy = Contact('Eddy', 'eddy_Peru@gmail.com')\n",
        "\n",
        "contactList.addContact(Eddy)\n",
        "print(contactList)\n"
      ]
    },
    {
      "cell_type": "code",
      "execution_count": 35,
      "metadata": {
        "colab": {
          "base_uri": "https://localhost:8080/"
        },
        "id": "WvzNIQw2r2Og",
        "outputId": "d0b702c4-d316-4336-ad95-9d3db797da89"
      },
      "outputs": [
        {
          "name": "stdout",
          "output_type": "stream",
          "text": [
            "['Nombre: Eddy, Email: eddy_Peru@gmail.com', 'Nombre: Karina, Email: karina_Brasil@gmail.com']\n"
          ]
        }
      ],
      "source": [
        "Karina = Contact('Karina', 'karina_Brasil@gmail.com')\n",
        "\n",
        "contactList.addContact(Karina)\n",
        "print(contactList)\n"
      ]
    }
  ],
  "metadata": {
    "colab": {
      "authorship_tag": "ABX9TyNkejRwuxtl+RQANhUyMafG",
      "collapsed_sections": [],
      "include_colab_link": true,
      "name": "|2_Classes_exemplo.ipynb",
      "provenance": []
    },
    "kernelspec": {
      "display_name": "Python 3.8.10 64-bit",
      "language": "python",
      "name": "python3"
    },
    "language_info": {
      "name": "python",
      "version": "3.8.10"
    },
    "vscode": {
      "interpreter": {
        "hash": "916dbcbb3f70747c44a77c7bcd40155683ae19c65e1c03b4aa3499c5328201f1"
      }
    }
  },
  "nbformat": 4,
  "nbformat_minor": 0
}

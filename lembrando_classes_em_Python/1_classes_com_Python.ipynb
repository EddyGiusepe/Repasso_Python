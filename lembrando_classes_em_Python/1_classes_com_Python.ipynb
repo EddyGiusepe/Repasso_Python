{
  "cells": [
    {
      "cell_type": "markdown",
      "metadata": {
        "colab_type": "text",
        "id": "view-in-github"
      },
      "source": [
        "<a href=\"https://colab.research.google.com/github/EddyGiusepe/Repasso_Python/blob/main/1_classes_com_Python.ipynb\" target=\"_parent\"><img src=\"https://colab.research.google.com/assets/colab-badge.svg\" alt=\"Open In Colab\"/></a>"
      ]
    },
    {
      "cell_type": "markdown",
      "metadata": {
        "id": "YHGzc2CFj_ca"
      },
      "source": [
        "# <h2 align=\"center\">Python: Classes (POO)</h2>\n",
        "\n",
        "Data Scientist.: Dr.Eddy Giusepe Chirinos Isidro"
      ]
    },
    {
      "cell_type": "markdown",
      "metadata": {
        "id": "PI-4a5s29OfC"
      },
      "source": [
        "# Definição de Classe"
      ]
    },
    {
      "cell_type": "code",
      "execution_count": 2,
      "metadata": {
        "id": "vk_lfPN6eZXQ"
      },
      "outputs": [],
      "source": [
        "class Miclase:\n",
        "  a =\"Hola\" # Atributo \"a\"\n",
        "\n",
        "  def func(self): # Método \"func\"\n",
        "    print(self.a)\n"
      ]
    },
    {
      "cell_type": "code",
      "execution_count": 3,
      "metadata": {
        "id": "nma0un-B9eIQ"
      },
      "outputs": [],
      "source": [
        "# Instanciamos um objeto de nossa classe, simplesmente criando uma nova variável que chame a CLASSE\n",
        "\n",
        "x = Miclase()"
      ]
    },
    {
      "cell_type": "code",
      "execution_count": 4,
      "metadata": {
        "colab": {
          "base_uri": "https://localhost:8080/",
          "height": 36
        },
        "id": "9CYlwUty-HMj",
        "outputId": "be2783fd-67ad-4fe9-834c-cc95b9ba2c5e"
      },
      "outputs": [
        {
          "data": {
            "application/vnd.google.colaboratory.intrinsic+json": {
              "type": "string"
            },
            "text/plain": [
              "'Hola'"
            ]
          },
          "execution_count": 4,
          "metadata": {},
          "output_type": "execute_result"
        }
      ],
      "source": [
        "# Agora, x é um objeto do tipo \"Miclase\" e portanto tem acesso a todos seus MÉTODOS e ATRIBUTOS.\n",
        "# Para utilizar isso aplicamos as seguinte nomenclatura\n",
        "\n",
        "x.a\n"
      ]
    },
    {
      "cell_type": "code",
      "execution_count": 5,
      "metadata": {
        "colab": {
          "base_uri": "https://localhost:8080/"
        },
        "id": "YOXNZnQx_-tX",
        "outputId": "a8262702-9615-4adf-a990-30ee06cb1112"
      },
      "outputs": [
        {
          "name": "stdout",
          "output_type": "stream",
          "text": [
            "Hola\n"
          ]
        }
      ],
      "source": [
        "# Também:\n",
        "\n",
        "x.func()"
      ]
    },
    {
      "cell_type": "markdown",
      "metadata": {
        "id": "-AfeBbW8KAEY"
      },
      "source": [
        "⚠️ Repara que na função `func` fornecemos como primeiro argumento `self`, e para usar a variável `a` accedemos a ela como `self.a`. Esta é a maneira que temos em Python para acceder aos diferentes `Métodos` e `Atributos` de um objeto desde qualquer método.\n"
      ]
    },
    {
      "cell_type": "code",
      "execution_count": 6,
      "metadata": {
        "colab": {
          "base_uri": "https://localhost:8080/",
          "height": 36
        },
        "id": "jay4zEXzJxZS",
        "outputId": "66334ac9-11b4-487a-f9be-c49d5df2c686"
      },
      "outputs": [
        {
          "data": {
            "application/vnd.google.colaboratory.intrinsic+json": {
              "type": "string"
            },
            "text/plain": [
              "'Hello'"
            ]
          },
          "execution_count": 6,
          "metadata": {},
          "output_type": "execute_result"
        }
      ],
      "source": [
        "# Modificamos um Atributo\n",
        "\n",
        "x.a = \"Hello\"\n",
        "x.a"
      ]
    },
    {
      "cell_type": "code",
      "execution_count": 7,
      "metadata": {
        "colab": {
          "base_uri": "https://localhost:8080/",
          "height": 36
        },
        "id": "-cu682T1K6c_",
        "outputId": "4fa404a6-1ef7-479e-afa0-cdc1cde78b3d"
      },
      "outputs": [
        {
          "data": {
            "application/vnd.google.colaboratory.intrinsic+json": {
              "type": "string"
            },
            "text/plain": [
              "'Hola'"
            ]
          },
          "execution_count": 7,
          "metadata": {},
          "output_type": "execute_result"
        }
      ],
      "source": [
        "# Adicionamos um novo Atributo\n",
        "\n",
        "x.b = \"Hola\"\n",
        "x.b"
      ]
    },
    {
      "cell_type": "code",
      "execution_count": 8,
      "metadata": {
        "colab": {
          "base_uri": "https://localhost:8080/",
          "height": 209
        },
        "id": "R1IYkpcnLD1A",
        "outputId": "f9d7974d-6ed5-488d-f128-b5cc3b831eda"
      },
      "outputs": [
        {
          "ename": "AttributeError",
          "evalue": "ignored",
          "output_type": "error",
          "traceback": [
            "\u001b[0;31m---------------------------------------------------------------------------\u001b[0m",
            "\u001b[0;31mAttributeError\u001b[0m                            Traceback (most recent call last)",
            "\u001b[0;32m<ipython-input-8-a8e9d1aafe35>\u001b[0m in \u001b[0;36m<module>\u001b[0;34m()\u001b[0m\n\u001b[1;32m      4\u001b[0m \u001b[0;34m\u001b[0m\u001b[0m\n\u001b[1;32m      5\u001b[0m \u001b[0;31m# O atributo \"b\" não existe\u001b[0m\u001b[0;34m\u001b[0m\u001b[0;34m\u001b[0m\u001b[0;34m\u001b[0m\u001b[0m\n\u001b[0;32m----> 6\u001b[0;31m \u001b[0my\u001b[0m\u001b[0;34m.\u001b[0m\u001b[0mb\u001b[0m\u001b[0;34m\u001b[0m\u001b[0;34m\u001b[0m\u001b[0m\n\u001b[0m",
            "\u001b[0;31mAttributeError\u001b[0m: 'Miclase' object has no attribute 'b'"
          ]
        }
      ],
      "source": [
        "# É importante saber que adicionar novos Métodos e Atributos a um objeto não os adicionará na definição da CLASSE ORIGINAL\n",
        "\n",
        "y = Miclase()\n",
        "\n",
        "# O atributo \"b\" não existe\n",
        "y.b"
      ]
    },
    {
      "cell_type": "markdown",
      "metadata": {
        "id": "XNQ6HjjKLrKG"
      },
      "source": [
        "# O Construtor"
      ]
    },
    {
      "cell_type": "markdown",
      "metadata": {
        "id": "lsCUDTXMLuNj"
      },
      "source": [
        "Cada vez que criamos um novo objeto de nossa CLASSE teremos o mesmo valor para o atributo `a`. No entanto, é muito comum usar uma mesma classe com diferentes valores para o mesmo atributo. Para isso podemos fornecer os valores com os que queremos inicializar nosso `objeto` através do `CONSTRUTOR`."
      ]
    },
    {
      "cell_type": "code",
      "execution_count": 9,
      "metadata": {
        "id": "5_LZLOlILkie"
      },
      "outputs": [],
      "source": [
        "class MiClase:\n",
        "    \n",
        "    # Constructor\n",
        "    def __init__(self, a):\n",
        "        self.a = a\n",
        "    \n",
        "    def func(self):\n",
        "        print(self.a)"
      ]
    },
    {
      "cell_type": "code",
      "execution_count": 10,
      "metadata": {
        "id": "_DqYD0koMfdi"
      },
      "outputs": [],
      "source": [
        "x = MiClase(\"hola\")\n",
        "y = MiClase(\"hello\")"
      ]
    },
    {
      "cell_type": "code",
      "execution_count": 11,
      "metadata": {
        "colab": {
          "base_uri": "https://localhost:8080/"
        },
        "id": "NBMx7adsMhqi",
        "outputId": "4abebeb4-3e20-436d-f5a2-c36f314b08d7"
      },
      "outputs": [
        {
          "name": "stdout",
          "output_type": "stream",
          "text": [
            "hola\n"
          ]
        }
      ],
      "source": [
        "x.func()"
      ]
    },
    {
      "cell_type": "code",
      "execution_count": 12,
      "metadata": {
        "colab": {
          "base_uri": "https://localhost:8080/"
        },
        "id": "56Exp9AkMjml",
        "outputId": "2a5334aa-3084-4da8-819c-569d04f315b2"
      },
      "outputs": [
        {
          "name": "stdout",
          "output_type": "stream",
          "text": [
            "hello\n"
          ]
        }
      ],
      "source": [
        "y.func()"
      ]
    },
    {
      "cell_type": "markdown",
      "metadata": {
        "id": "P2Du9jDOMxYd"
      },
      "source": [
        "⚠️ O `constructor` de uma classe sempre se define através da função `__init__(self, argumentos)`."
      ]
    },
    {
      "cell_type": "markdown",
      "metadata": {
        "id": "RE-7luN4NdM6"
      },
      "source": [
        "# Sobrecarga de Operadores"
      ]
    },
    {
      "cell_type": "code",
      "execution_count": 13,
      "metadata": {
        "id": "ecDTzNN0Ml6a"
      },
      "outputs": [],
      "source": [
        "class MiClase:\n",
        "    \n",
        "    # Constructor\n",
        "    def __init__(self, a):\n",
        "        self.a = a\n",
        "    \n",
        "    # sobrecarga suma\n",
        "    def __add__(self, other):\n",
        "        return self.a + other.a\n",
        "    \n",
        "    def func(self):\n",
        "        print(self.a)"
      ]
    },
    {
      "cell_type": "code",
      "execution_count": 14,
      "metadata": {
        "colab": {
          "base_uri": "https://localhost:8080/"
        },
        "id": "8saNx0VKNTk3",
        "outputId": "cc64eedd-d153-4eba-928d-7aa029f97a22"
      },
      "outputs": [
        {
          "data": {
            "text/plain": [
              "3"
            ]
          },
          "execution_count": 14,
          "metadata": {},
          "output_type": "execute_result"
        }
      ],
      "source": [
        "x = MiClase(1)\n",
        "y = MiClase(2)\n",
        "\n",
        "x + y"
      ]
    },
    {
      "cell_type": "code",
      "execution_count": 15,
      "metadata": {
        "id": "LNI5UbFqNWJ0"
      },
      "outputs": [],
      "source": [
        "class MiClase:\n",
        "    \n",
        "    # Constructor\n",
        "    def __init__(self, a):\n",
        "        self.a = a\n",
        "    \n",
        "    # sobrecarga suma\n",
        "    def __add__(self, other):\n",
        "        return self.a + other.a\n",
        "    \n",
        "    # sobrecarga string (controlamos lo que se ve al hacer un `print` de nuestro objeto)\n",
        "    def __str__(self):\n",
        "        return f'El valor de `a` es {self.a}' \n",
        "    \n",
        "    def func(self):\n",
        "        print(self.a)"
      ]
    },
    {
      "cell_type": "code",
      "execution_count": 16,
      "metadata": {
        "colab": {
          "base_uri": "https://localhost:8080/"
        },
        "id": "Y0rzrFqcN5ED",
        "outputId": "1aa45f53-7c2c-4f82-df12-d2169fe482c0"
      },
      "outputs": [
        {
          "name": "stdout",
          "output_type": "stream",
          "text": [
            "El valor de `a` es 1.56\n"
          ]
        }
      ],
      "source": [
        "x = MiClase(1.56)\n",
        "\n",
        "print(x)"
      ]
    },
    {
      "cell_type": "code",
      "execution_count": 17,
      "metadata": {
        "id": "-purE01eN68T"
      },
      "outputs": [],
      "source": [
        "class MiIterador:\n",
        "    \n",
        "    # Constructor\n",
        "    def __init__(self, n):\n",
        "        self.items = [i for i in range(n)]\n",
        "    \n",
        "    # longitud del iterador\n",
        "    def __len__(self):\n",
        "        return len(self.items)\n",
        "    \n",
        "    # devolver valores al indexar nuestro iterador\n",
        "    def __getitem__(self, ix):\n",
        "        return self.items[ix]"
      ]
    },
    {
      "cell_type": "code",
      "execution_count": 18,
      "metadata": {
        "colab": {
          "base_uri": "https://localhost:8080/"
        },
        "id": "Hk6aBqnEOIq4",
        "outputId": "828eceb5-fb1c-4fb3-e92d-1f8d5d3d0f1a"
      },
      "outputs": [
        {
          "data": {
            "text/plain": [
              "5"
            ]
          },
          "execution_count": 18,
          "metadata": {},
          "output_type": "execute_result"
        }
      ],
      "source": [
        "x = MiIterador(5)\n",
        "\n",
        "len(x)"
      ]
    },
    {
      "cell_type": "code",
      "execution_count": 19,
      "metadata": {
        "colab": {
          "base_uri": "https://localhost:8080/"
        },
        "id": "a1_B_yOROndv",
        "outputId": "d984aa83-2d58-4735-ce8f-036a0db5dbcc"
      },
      "outputs": [
        {
          "name": "stdout",
          "output_type": "stream",
          "text": [
            "0\n",
            "1\n",
            "2\n",
            "3\n",
            "4\n"
          ]
        }
      ],
      "source": [
        "for i in x:\n",
        "    print(i)"
      ]
    },
    {
      "cell_type": "markdown",
      "metadata": {
        "id": "NgIKlwpuOv16"
      },
      "source": [
        "# O Operador `__call__` "
      ]
    },
    {
      "cell_type": "markdown",
      "metadata": {
        "id": "G-w0XALKPTtv"
      },
      "source": [
        "Este operador é muito interessante já que nos va permitir chamar a nosso `objeto` como se de uma função se tratase."
      ]
    },
    {
      "cell_type": "code",
      "execution_count": 20,
      "metadata": {
        "id": "srENCMHpOpWO"
      },
      "outputs": [],
      "source": [
        "class MiClase:\n",
        "    \n",
        "    def __init__(self, a):\n",
        "        self.a = a\n",
        "    \n",
        "    def __call__(self, exp):\n",
        "        return self.a**exp"
      ]
    },
    {
      "cell_type": "code",
      "execution_count": 21,
      "metadata": {
        "colab": {
          "base_uri": "https://localhost:8080/"
        },
        "id": "BhwsEbwqPhPA",
        "outputId": "c604ef12-6d10-4ab5-ec4e-f6449c799833"
      },
      "outputs": [
        {
          "data": {
            "text/plain": [
              "8"
            ]
          },
          "execution_count": 21,
          "metadata": {},
          "output_type": "execute_result"
        }
      ],
      "source": [
        "x = MiClase(2)\n",
        "\n",
        "# podemos usar nuestro objeto como una función\n",
        "x(3)"
      ]
    },
    {
      "cell_type": "markdown",
      "metadata": {
        "id": "_Jd4S-R3P0j7"
      },
      "source": [
        "# Herença"
      ]
    },
    {
      "cell_type": "markdown",
      "metadata": {
        "id": "V6Rb_SrKP9sV"
      },
      "source": [
        "Falamos de herença ao processo de criar novas classes a partir de outras. Estas novas CLASSES heredam os métodos e atributos de suas classes PROGENITORAS à vez que nos permitirá de adicionar nova funcionalidade."
      ]
    },
    {
      "cell_type": "code",
      "execution_count": 22,
      "metadata": {
        "id": "91hDm-aGPvGT"
      },
      "outputs": [],
      "source": [
        "class MiAlgoritmoBase:\n",
        "    a = 1    \n",
        "    def __call__(self):\n",
        "        return 2*self.a"
      ]
    },
    {
      "cell_type": "code",
      "execution_count": 23,
      "metadata": {
        "id": "LBcgr1-uQxPI"
      },
      "outputs": [],
      "source": [
        "class MiAlgoritmo(MiAlgoritmoBase):\n",
        "    \n",
        "    def __init__(self, b):\n",
        "        self.b = b\n",
        "    \n",
        "    def __call__(self):\n",
        "        # el atributo `a` viene de la clase madre\n",
        "        return 2*self.a + self.b"
      ]
    },
    {
      "cell_type": "code",
      "execution_count": 24,
      "metadata": {
        "colab": {
          "base_uri": "https://localhost:8080/"
        },
        "id": "wB1-rKy4Q1SO",
        "outputId": "6760af5f-2124-4f37-c3bc-64daa210205f"
      },
      "outputs": [
        {
          "data": {
            "text/plain": [
              "2"
            ]
          },
          "execution_count": 24,
          "metadata": {},
          "output_type": "execute_result"
        }
      ],
      "source": [
        "x = MiAlgoritmoBase()\n",
        "\n",
        "x()"
      ]
    },
    {
      "cell_type": "code",
      "execution_count": 25,
      "metadata": {
        "colab": {
          "base_uri": "https://localhost:8080/"
        },
        "id": "Aefrl9DdQ9Ia",
        "outputId": "5eb55f34-27b3-4b21-9993-9561a47e9d49"
      },
      "outputs": [
        {
          "data": {
            "text/plain": [
              "4"
            ]
          },
          "execution_count": 25,
          "metadata": {},
          "output_type": "execute_result"
        }
      ],
      "source": [
        "x = MiAlgoritmo(2)\n",
        "\n",
        "x()"
      ]
    },
    {
      "cell_type": "markdown",
      "metadata": {
        "id": "6kMB-aVbRPV5"
      },
      "source": [
        "# Herença Multipla"
      ]
    },
    {
      "cell_type": "markdown",
      "metadata": {
        "id": "ELVpth8sRcY3"
      },
      "source": [
        "Podemos criar uma nova classe a partir de varias classes progenitoras da seguinte maneira."
      ]
    },
    {
      "cell_type": "code",
      "execution_count": 28,
      "metadata": {
        "id": "Z68RSRa2RD5L"
      },
      "outputs": [],
      "source": [
        "class MiAlgoritmoBase:    \n",
        "    a = 2    \n",
        "    def __call__(self):\n",
        "        return 2*self.a\n",
        "    \n",
        "class MiOtroAlgoritmoBase:    \n",
        "    b = 2    \n",
        "    def __call__(self):\n",
        "        return -2*self.b\n",
        "    \n",
        "class MiAlgoritmo(MiAlgoritmoBase, MiOtroAlgoritmoBase):\n",
        "    \n",
        "    # constructor\n",
        "    def __init__(self, c):\n",
        "        self.c = c\n",
        "    \n",
        "    def __call__(self):\n",
        "        # los atributos `a` y `b` vienen de las clases progenitoras\n",
        "        return (self.a + self.b)*self.c"
      ]
    },
    {
      "cell_type": "code",
      "execution_count": 29,
      "metadata": {
        "colab": {
          "base_uri": "https://localhost:8080/"
        },
        "id": "L4Ov0qSTR207",
        "outputId": "3385a1e9-2c4f-417f-a6bb-85f4b48a2b8f"
      },
      "outputs": [
        {
          "data": {
            "text/plain": [
              "12"
            ]
          },
          "execution_count": 29,
          "metadata": {},
          "output_type": "execute_result"
        }
      ],
      "source": [
        "x = MiAlgoritmo(3)\n",
        "\n",
        "x()"
      ]
    }
  ],
  "metadata": {
    "colab": {
      "authorship_tag": "ABX9TyM9baH3jsaiOquL4V2LtrkS",
      "collapsed_sections": [],
      "include_colab_link": true,
      "name": "1_classes_com_Python.ipynb",
      "provenance": []
    },
    "kernelspec": {
      "display_name": "Python 3.8.13 ('venv_repasso': venv)",
      "language": "python",
      "name": "python3"
    },
    "language_info": {
      "name": "python",
      "version": "3.8.13"
    },
    "vscode": {
      "interpreter": {
        "hash": "cbbafe9b4d27f1a54c71cc0b076f18a0914c7fba812b9ed6e564e8656f6468de"
      }
    }
  },
  "nbformat": 4,
  "nbformat_minor": 0
}

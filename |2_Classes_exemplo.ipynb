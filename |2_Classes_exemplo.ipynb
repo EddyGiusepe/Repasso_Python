{
  "nbformat": 4,
  "nbformat_minor": 0,
  "metadata": {
    "colab": {
      "name": "|2_Classes_exemplo.ipynb",
      "provenance": [],
      "collapsed_sections": [],
      "authorship_tag": "ABX9TyNkejRwuxtl+RQANhUyMafG",
      "include_colab_link": true
    },
    "kernelspec": {
      "name": "python3",
      "display_name": "Python 3"
    },
    "language_info": {
      "name": "python"
    }
  },
  "cells": [
    {
      "cell_type": "markdown",
      "metadata": {
        "id": "view-in-github",
        "colab_type": "text"
      },
      "source": [
        "<a href=\"https://colab.research.google.com/github/EddyGiusepe/Repasso_Python/blob/main/%7C2_Classes_exemplo.ipynb\" target=\"_parent\"><img src=\"https://colab.research.google.com/assets/colab-badge.svg\" alt=\"Open In Colab\"/></a>"
      ]
    },
    {
      "cell_type": "markdown",
      "source": [
        "<h2 align=\"center\">Classes (POO)</h2>\n",
        "\n",
        "Data Scientist.: Dr.Eddy Giusepe Chirinos Isidro"
      ],
      "metadata": {
        "id": "kJzowxb4ab0d"
      }
    },
    {
      "cell_type": "code",
      "execution_count": 26,
      "metadata": {
        "id": "gEajV2DDaW-D"
      },
      "outputs": [],
      "source": [
        "class Contact:\n",
        "\n",
        "  def __init__(self, nombre, email):\n",
        "    self.nombre = nombre\n",
        "    self.email = email\n",
        "\n",
        "  def __str__(self):\n",
        "    return f\"Nombre: {self.nombre}, Email: {self.email}\"\n"
      ]
    },
    {
      "cell_type": "code",
      "source": [
        "juan = Contact('Juan', 'juan@mail.com')"
      ],
      "metadata": {
        "id": "hl-oX5dFapR-"
      },
      "execution_count": 28,
      "outputs": []
    },
    {
      "cell_type": "code",
      "source": [
        "juan.nombre"
      ],
      "metadata": {
        "colab": {
          "base_uri": "https://localhost:8080/",
          "height": 35
        },
        "id": "Mia5xgxkbaCW",
        "outputId": "d7771601-ee9e-4108-89fc-3aa26cd3f11f"
      },
      "execution_count": 29,
      "outputs": [
        {
          "output_type": "execute_result",
          "data": {
            "text/plain": [
              "'Juan'"
            ],
            "application/vnd.google.colaboratory.intrinsic+json": {
              "type": "string"
            }
          },
          "metadata": {},
          "execution_count": 29
        }
      ]
    },
    {
      "cell_type": "code",
      "source": [
        "juan.email"
      ],
      "metadata": {
        "colab": {
          "base_uri": "https://localhost:8080/",
          "height": 35
        },
        "id": "fE8RFfeibcj7",
        "outputId": "a36d3cb7-e61a-4460-be39-bb1e7deb0cd1"
      },
      "execution_count": 30,
      "outputs": [
        {
          "output_type": "execute_result",
          "data": {
            "text/plain": [
              "'juan@mail.com'"
            ],
            "application/vnd.google.colaboratory.intrinsic+json": {
              "type": "string"
            }
          },
          "metadata": {},
          "execution_count": 30
        }
      ]
    },
    {
      "cell_type": "code",
      "source": [
        "print(juan)"
      ],
      "metadata": {
        "colab": {
          "base_uri": "https://localhost:8080/"
        },
        "id": "C0uN1cakbeZX",
        "outputId": "59c7f72b-d96b-41cc-83dd-ca9317749cfe"
      },
      "execution_count": 31,
      "outputs": [
        {
          "output_type": "stream",
          "name": "stdout",
          "text": [
            "Nombre: Juan, Email: juan@mail.com\n"
          ]
        }
      ]
    },
    {
      "cell_type": "code",
      "source": [
        "class ContactList:\n",
        "  contacts = []\n",
        "  def __str__(self):\n",
        "    return str([str(contact) for contact in self.contacts])\n",
        "\n",
        "\n",
        "  def addContact(self, contact):\n",
        "    self.contacts.append(contact)"
      ],
      "metadata": {
        "id": "KQmkdptEpuOp"
      },
      "execution_count": 32,
      "outputs": []
    },
    {
      "cell_type": "code",
      "source": [
        "contactList = ContactList()\n",
        "\n",
        "print(contactList)\n"
      ],
      "metadata": {
        "colab": {
          "base_uri": "https://localhost:8080/"
        },
        "id": "QB6TNvwSq41L",
        "outputId": "1d3dc26b-2ce6-43bb-dcb3-a3851364c14a"
      },
      "execution_count": 33,
      "outputs": [
        {
          "output_type": "stream",
          "name": "stdout",
          "text": [
            "[]\n"
          ]
        }
      ]
    },
    {
      "cell_type": "code",
      "source": [
        "Eddy = Contact('Eddy', 'eddy_Peru@gmail.com')\n",
        "\n",
        "contactList.addContact(Eddy)\n",
        "print(contactList)\n"
      ],
      "metadata": {
        "colab": {
          "base_uri": "https://localhost:8080/"
        },
        "id": "XwBRA7NqrI8F",
        "outputId": "44362d90-b811-4a0c-8da1-165ea0bbd9f8"
      },
      "execution_count": 34,
      "outputs": [
        {
          "output_type": "stream",
          "name": "stdout",
          "text": [
            "['Nombre: Eddy, Email: eddy_Peru@gmail.com']\n"
          ]
        }
      ]
    },
    {
      "cell_type": "code",
      "source": [
        "Karina = Contact('Karina', 'karina_Brasil@gmail.com')\n",
        "\n",
        "contactList.addContact(Karina)\n",
        "print(contactList)\n"
      ],
      "metadata": {
        "colab": {
          "base_uri": "https://localhost:8080/"
        },
        "id": "WvzNIQw2r2Og",
        "outputId": "d0b702c4-d316-4336-ad95-9d3db797da89"
      },
      "execution_count": 35,
      "outputs": [
        {
          "output_type": "stream",
          "name": "stdout",
          "text": [
            "['Nombre: Eddy, Email: eddy_Peru@gmail.com', 'Nombre: Karina, Email: karina_Brasil@gmail.com']\n"
          ]
        }
      ]
    }
  ]
}